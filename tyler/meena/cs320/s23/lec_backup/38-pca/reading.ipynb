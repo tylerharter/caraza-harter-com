{
 "cells": [
  {
   "cell_type": "markdown",
   "metadata": {},
   "source": [
    "# Unsupervised Learning: Clustering and Decomposition\n",
    "\n",
    "We'll look at COVID cases per day for each county in WI.  We'll use three unsupervised learning techniques to understand multi-county patterns:\n",
    "\n",
    "1. KMeans (clustering)\n",
    "2. AgglomerativeClustering (clustering)\n",
    "3. PCA (decomposition)\n",
    "\n",
    "First, let's import all that we need:"
   ]
  },
  {
   "cell_type": "code",
   "execution_count": 1,
   "metadata": {},
   "outputs": [],
   "source": [
    "import pandas as pd\n",
    "import geopandas as gpd\n",
    "import matplotlib.pyplot as plt\n",
    "from sklearn.preprocessing import StandardScaler\n",
    "from sklearn.cluster import KMeans, AgglomerativeClustering\n",
    "from sklearn.decomposition import PCA"
   ]
  },
  {
   "cell_type": "code",
   "execution_count": 2,
   "metadata": {},
   "outputs": [],
   "source": [
    "%matplotlib inline"
   ]
  },
  {
   "cell_type": "markdown",
   "metadata": {},
   "source": [
    "## Mapping"
   ]
  },
  {
   "cell_type": "markdown",
   "metadata": {},
   "source": [
    "We'll be creating maps of WI.  I already grabbed shapefile of the counties from here: https://data-wi-dnr.opendata.arcgis.com/datasets/8b8a0896378449538cf1138a969afbc6_3.  I renamed it \"wi.zip\".  We rename \"Saint Croix\" to \"St. Croix\" for consistency with our later dataset."
   ]
  },
  {
   "cell_type": "code",
   "execution_count": 3,
   "metadata": {},
   "outputs": [
    {
     "data": {
      "text/html": [
       "<div>\n",
       "<style scoped>\n",
       "    .dataframe tbody tr th:only-of-type {\n",
       "        vertical-align: middle;\n",
       "    }\n",
       "\n",
       "    .dataframe tbody tr th {\n",
       "        vertical-align: top;\n",
       "    }\n",
       "\n",
       "    .dataframe thead th {\n",
       "        text-align: right;\n",
       "    }\n",
       "</style>\n",
       "<table border=\"1\" class=\"dataframe\">\n",
       "  <thead>\n",
       "    <tr style=\"text-align: right;\">\n",
       "      <th></th>\n",
       "      <th>OBJECTID</th>\n",
       "      <th>DNR_REGION</th>\n",
       "      <th>DNR_CNTY_C</th>\n",
       "      <th>COUNTY_NAM</th>\n",
       "      <th>COUNTY_FIP</th>\n",
       "      <th>SHAPEAREA</th>\n",
       "      <th>SHAPELEN</th>\n",
       "      <th>geometry</th>\n",
       "    </tr>\n",
       "    <tr>\n",
       "      <th>COUNTY_NAM</th>\n",
       "      <th></th>\n",
       "      <th></th>\n",
       "      <th></th>\n",
       "      <th></th>\n",
       "      <th></th>\n",
       "      <th></th>\n",
       "      <th></th>\n",
       "      <th></th>\n",
       "    </tr>\n",
       "  </thead>\n",
       "  <tbody>\n",
       "    <tr>\n",
       "      <th>Kenosha</th>\n",
       "      <td>321</td>\n",
       "      <td>Southeast Region</td>\n",
       "      <td>30</td>\n",
       "      <td>Kenosha</td>\n",
       "      <td>59</td>\n",
       "      <td>7.210454e+08</td>\n",
       "      <td>123267.303863</td>\n",
       "      <td>MULTIPOLYGON (((699813.437 246226.688, 699794....</td>\n",
       "    </tr>\n",
       "    <tr>\n",
       "      <th>Lafayette</th>\n",
       "      <td>322</td>\n",
       "      <td>South Central Region</td>\n",
       "      <td>33</td>\n",
       "      <td>Lafayette</td>\n",
       "      <td>65</td>\n",
       "      <td>1.641795e+09</td>\n",
       "      <td>164707.650040</td>\n",
       "      <td>POLYGON ((503148.082 260278.466, 503292.672 26...</td>\n",
       "    </tr>\n",
       "    <tr>\n",
       "      <th>Rock</th>\n",
       "      <td>323</td>\n",
       "      <td>South Central Region</td>\n",
       "      <td>54</td>\n",
       "      <td>Rock</td>\n",
       "      <td>105</td>\n",
       "      <td>1.879382e+09</td>\n",
       "      <td>174114.587670</td>\n",
       "      <td>POLYGON ((600602.683 264347.425, 603850.419 26...</td>\n",
       "    </tr>\n",
       "    <tr>\n",
       "      <th>Walworth</th>\n",
       "      <td>324</td>\n",
       "      <td>Southeast Region</td>\n",
       "      <td>65</td>\n",
       "      <td>Walworth</td>\n",
       "      <td>127</td>\n",
       "      <td>1.492598e+09</td>\n",
       "      <td>154833.279357</td>\n",
       "      <td>POLYGON ((658404.520 263083.277, 658417.776 26...</td>\n",
       "    </tr>\n",
       "    <tr>\n",
       "      <th>Green</th>\n",
       "      <td>325</td>\n",
       "      <td>South Central Region</td>\n",
       "      <td>23</td>\n",
       "      <td>Green</td>\n",
       "      <td>45</td>\n",
       "      <td>1.512855e+09</td>\n",
       "      <td>155741.104373</td>\n",
       "      <td>POLYGON ((571551.903 263810.562, 571555.279 26...</td>\n",
       "    </tr>\n",
       "  </tbody>\n",
       "</table>\n",
       "</div>"
      ],
      "text/plain": [
       "            OBJECTID            DNR_REGION  DNR_CNTY_C COUNTY_NAM COUNTY_FIP  \\\n",
       "COUNTY_NAM                                                                     \n",
       "Kenosha          321      Southeast Region          30    Kenosha         59   \n",
       "Lafayette        322  South Central Region          33  Lafayette         65   \n",
       "Rock             323  South Central Region          54       Rock        105   \n",
       "Walworth         324      Southeast Region          65   Walworth        127   \n",
       "Green            325  South Central Region          23      Green         45   \n",
       "\n",
       "               SHAPEAREA       SHAPELEN  \\\n",
       "COUNTY_NAM                                \n",
       "Kenosha     7.210454e+08  123267.303863   \n",
       "Lafayette   1.641795e+09  164707.650040   \n",
       "Rock        1.879382e+09  174114.587670   \n",
       "Walworth    1.492598e+09  154833.279357   \n",
       "Green       1.512855e+09  155741.104373   \n",
       "\n",
       "                                                     geometry  \n",
       "COUNTY_NAM                                                     \n",
       "Kenosha     MULTIPOLYGON (((699813.437 246226.688, 699794....  \n",
       "Lafayette   POLYGON ((503148.082 260278.466, 503292.672 26...  \n",
       "Rock        POLYGON ((600602.683 264347.425, 603850.419 26...  \n",
       "Walworth    POLYGON ((658404.520 263083.277, 658417.776 26...  \n",
       "Green       POLYGON ((571551.903 263810.562, 571555.279 26...  "
      ]
     },
     "execution_count": 3,
     "metadata": {},
     "output_type": "execute_result"
    }
   ],
   "source": [
    "wi = gpd.read_file(\"zip://wi.zip\")\n",
    "wi = wi.set_index(wi[\"COUNTY_NAM\"].str.replace(\"Saint\", \"St.\")).copy()\n",
    "wi.head()"
   ]
  },
  {
   "cell_type": "code",
   "execution_count": 4,
   "metadata": {},
   "outputs": [
    {
     "data": {
      "text/plain": [
       "<matplotlib.axes._subplots.AxesSubplot at 0x7fa9e603a160>"
      ]
     },
     "execution_count": 4,
     "metadata": {},
     "output_type": "execute_result"
    },
    {
     "data": {
      "image/png": "[encoded data removed]",
      "text/plain": [
       "<Figure size 432x288 with 1 Axes>"
      ]
     },
     "metadata": {
      "needs_background": "light"
     },
     "output_type": "display_data"
    }
   ],
   "source": [
    "wi.boundary.plot(color=\"black\")"
   ]
  },
  {
   "cell_type": "markdown",
   "metadata": {},
   "source": [
    "## COVID Data\n",
    "\n",
    "Let's use wi-covid.csv that we used in previous lectures:"
   ]
  },
  {
   "cell_type": "code",
   "execution_count": 5,
   "metadata": {},
   "outputs": [
    {
     "data": {
      "text/html": [
       "<div>\n",
       "<style scoped>\n",
       "    .dataframe tbody tr th:only-of-type {\n",
       "        vertical-align: middle;\n",
       "    }\n",
       "\n",
       "    .dataframe tbody tr th {\n",
       "        vertical-align: top;\n",
       "    }\n",
       "\n",
       "    .dataframe thead th {\n",
       "        text-align: right;\n",
       "    }\n",
       "</style>\n",
       "<table border=\"1\" class=\"dataframe\">\n",
       "  <thead>\n",
       "    <tr style=\"text-align: right;\">\n",
       "      <th></th>\n",
       "      <th>NAME</th>\n",
       "      <th>DATE</th>\n",
       "      <th>POS_7DAYAVG</th>\n",
       "      <th>DTH_NEW</th>\n",
       "      <th>DTH_NEW_2WK</th>\n",
       "    </tr>\n",
       "  </thead>\n",
       "  <tbody>\n",
       "    <tr>\n",
       "      <th>0</th>\n",
       "      <td>Adams</td>\n",
       "      <td>2020-03-16</td>\n",
       "      <td>0.0</td>\n",
       "      <td>0.0</td>\n",
       "      <td>0.0</td>\n",
       "    </tr>\n",
       "    <tr>\n",
       "      <th>1</th>\n",
       "      <td>Ashland</td>\n",
       "      <td>2020-03-16</td>\n",
       "      <td>0.0</td>\n",
       "      <td>0.0</td>\n",
       "      <td>0.0</td>\n",
       "    </tr>\n",
       "    <tr>\n",
       "      <th>2</th>\n",
       "      <td>Barron</td>\n",
       "      <td>2020-03-16</td>\n",
       "      <td>0.0</td>\n",
       "      <td>0.0</td>\n",
       "      <td>0.0</td>\n",
       "    </tr>\n",
       "    <tr>\n",
       "      <th>3</th>\n",
       "      <td>Bayfield</td>\n",
       "      <td>2020-03-16</td>\n",
       "      <td>0.0</td>\n",
       "      <td>0.0</td>\n",
       "      <td>0.0</td>\n",
       "    </tr>\n",
       "    <tr>\n",
       "      <th>4</th>\n",
       "      <td>Brown</td>\n",
       "      <td>2020-03-16</td>\n",
       "      <td>0.0</td>\n",
       "      <td>0.0</td>\n",
       "      <td>0.0</td>\n",
       "    </tr>\n",
       "  </tbody>\n",
       "</table>\n",
       "</div>"
      ],
      "text/plain": [
       "       NAME        DATE  POS_7DAYAVG  DTH_NEW  DTH_NEW_2WK\n",
       "0     Adams  2020-03-16          0.0      0.0          0.0\n",
       "1   Ashland  2020-03-16          0.0      0.0          0.0\n",
       "2    Barron  2020-03-16          0.0      0.0          0.0\n",
       "3  Bayfield  2020-03-16          0.0      0.0          0.0\n",
       "4     Brown  2020-03-16          0.0      0.0          0.0"
      ]
     },
     "execution_count": 5,
     "metadata": {},
     "output_type": "execute_result"
    }
   ],
   "source": [
    "df = pd.read_csv(\"wi-covid.csv\")\n",
    "df.head()"
   ]
  },
  {
   "cell_type": "markdown",
   "metadata": {},
   "source": [
    "For clustering, we'll want each county on its own row.  Historical data should be spread across columns, so that we can group rows based on year-long trends.  Pandas's `pivot` function can automatially take three columns and put the values of one to the index, the values of another to the columns, and the values of the third to the cells of the final table:"
   ]
  },
  {
   "cell_type": "code",
   "execution_count": 6,
   "metadata": {},
   "outputs": [
    {
     "data": {
      "text/html": [
       "<div>\n",
       "<style scoped>\n",
       "    .dataframe tbody tr th:only-of-type {\n",
       "        vertical-align: middle;\n",
       "    }\n",
       "\n",
       "    .dataframe tbody tr th {\n",
       "        vertical-align: top;\n",
       "    }\n",
       "\n",
       "    .dataframe thead th {\n",
       "        text-align: right;\n",
       "    }\n",
       "</style>\n",
       "<table border=\"1\" class=\"dataframe\">\n",
       "  <thead>\n",
       "    <tr style=\"text-align: right;\">\n",
       "      <th>DATE</th>\n",
       "      <th>2020-03-16</th>\n",
       "      <th>2020-03-17</th>\n",
       "      <th>2020-03-18</th>\n",
       "      <th>2020-03-19</th>\n",
       "      <th>2020-03-20</th>\n",
       "      <th>2020-03-21</th>\n",
       "      <th>2020-03-22</th>\n",
       "      <th>2020-03-23</th>\n",
       "      <th>2020-03-24</th>\n",
       "      <th>2020-03-25</th>\n",
       "      <th>...</th>\n",
       "      <th>2021-02-21</th>\n",
       "      <th>2021-02-22</th>\n",
       "      <th>2021-02-23</th>\n",
       "      <th>2021-02-24</th>\n",
       "      <th>2021-02-25</th>\n",
       "      <th>2021-02-26</th>\n",
       "      <th>2021-02-27</th>\n",
       "      <th>2021-02-28</th>\n",
       "      <th>2021-03-01</th>\n",
       "      <th>2021-03-02</th>\n",
       "    </tr>\n",
       "    <tr>\n",
       "      <th>NAME</th>\n",
       "      <th></th>\n",
       "      <th></th>\n",
       "      <th></th>\n",
       "      <th></th>\n",
       "      <th></th>\n",
       "      <th></th>\n",
       "      <th></th>\n",
       "      <th></th>\n",
       "      <th></th>\n",
       "      <th></th>\n",
       "      <th></th>\n",
       "      <th></th>\n",
       "      <th></th>\n",
       "      <th></th>\n",
       "      <th></th>\n",
       "      <th></th>\n",
       "      <th></th>\n",
       "      <th></th>\n",
       "      <th></th>\n",
       "      <th></th>\n",
       "      <th></th>\n",
       "    </tr>\n",
       "  </thead>\n",
       "  <tbody>\n",
       "    <tr>\n",
       "      <th>Adams</th>\n",
       "      <td>0.0</td>\n",
       "      <td>0.0</td>\n",
       "      <td>0.00</td>\n",
       "      <td>0.00</td>\n",
       "      <td>0.0</td>\n",
       "      <td>0.00</td>\n",
       "      <td>0.00</td>\n",
       "      <td>0.00</td>\n",
       "      <td>0.00</td>\n",
       "      <td>0.00</td>\n",
       "      <td>...</td>\n",
       "      <td>3.00</td>\n",
       "      <td>2.71</td>\n",
       "      <td>2.57</td>\n",
       "      <td>3.14</td>\n",
       "      <td>2.14</td>\n",
       "      <td>1.86</td>\n",
       "      <td>1.29</td>\n",
       "      <td>1.29</td>\n",
       "      <td>1.57</td>\n",
       "      <td>1.29</td>\n",
       "    </tr>\n",
       "    <tr>\n",
       "      <th>Ashland</th>\n",
       "      <td>0.0</td>\n",
       "      <td>0.0</td>\n",
       "      <td>0.00</td>\n",
       "      <td>0.00</td>\n",
       "      <td>0.0</td>\n",
       "      <td>0.00</td>\n",
       "      <td>0.00</td>\n",
       "      <td>0.00</td>\n",
       "      <td>0.00</td>\n",
       "      <td>0.00</td>\n",
       "      <td>...</td>\n",
       "      <td>0.43</td>\n",
       "      <td>0.43</td>\n",
       "      <td>0.71</td>\n",
       "      <td>0.57</td>\n",
       "      <td>0.71</td>\n",
       "      <td>0.71</td>\n",
       "      <td>0.57</td>\n",
       "      <td>0.57</td>\n",
       "      <td>0.43</td>\n",
       "      <td>0.29</td>\n",
       "    </tr>\n",
       "    <tr>\n",
       "      <th>Barron</th>\n",
       "      <td>0.0</td>\n",
       "      <td>0.0</td>\n",
       "      <td>0.00</td>\n",
       "      <td>0.00</td>\n",
       "      <td>0.0</td>\n",
       "      <td>0.00</td>\n",
       "      <td>0.00</td>\n",
       "      <td>0.00</td>\n",
       "      <td>0.00</td>\n",
       "      <td>0.00</td>\n",
       "      <td>...</td>\n",
       "      <td>7.71</td>\n",
       "      <td>7.29</td>\n",
       "      <td>7.57</td>\n",
       "      <td>7.71</td>\n",
       "      <td>8.14</td>\n",
       "      <td>7.71</td>\n",
       "      <td>8.29</td>\n",
       "      <td>9.00</td>\n",
       "      <td>8.86</td>\n",
       "      <td>8.57</td>\n",
       "    </tr>\n",
       "    <tr>\n",
       "      <th>Bayfield</th>\n",
       "      <td>0.0</td>\n",
       "      <td>0.0</td>\n",
       "      <td>0.00</td>\n",
       "      <td>0.25</td>\n",
       "      <td>0.2</td>\n",
       "      <td>0.17</td>\n",
       "      <td>0.14</td>\n",
       "      <td>0.14</td>\n",
       "      <td>0.14</td>\n",
       "      <td>0.14</td>\n",
       "      <td>...</td>\n",
       "      <td>0.14</td>\n",
       "      <td>0.14</td>\n",
       "      <td>0.29</td>\n",
       "      <td>0.29</td>\n",
       "      <td>0.14</td>\n",
       "      <td>0.29</td>\n",
       "      <td>0.29</td>\n",
       "      <td>0.29</td>\n",
       "      <td>0.43</td>\n",
       "      <td>0.43</td>\n",
       "    </tr>\n",
       "    <tr>\n",
       "      <th>Brown</th>\n",
       "      <td>0.0</td>\n",
       "      <td>0.0</td>\n",
       "      <td>0.33</td>\n",
       "      <td>0.50</td>\n",
       "      <td>0.4</td>\n",
       "      <td>0.50</td>\n",
       "      <td>0.43</td>\n",
       "      <td>0.43</td>\n",
       "      <td>0.43</td>\n",
       "      <td>0.29</td>\n",
       "      <td>...</td>\n",
       "      <td>23.29</td>\n",
       "      <td>23.57</td>\n",
       "      <td>18.86</td>\n",
       "      <td>18.71</td>\n",
       "      <td>21.57</td>\n",
       "      <td>20.86</td>\n",
       "      <td>20.14</td>\n",
       "      <td>19.57</td>\n",
       "      <td>19.71</td>\n",
       "      <td>18.00</td>\n",
       "    </tr>\n",
       "  </tbody>\n",
       "</table>\n",
       "<p>5 rows × 352 columns</p>\n",
       "</div>"
      ],
      "text/plain": [
       "DATE      2020-03-16  2020-03-17  2020-03-18  2020-03-19  2020-03-20  \\\n",
       "NAME                                                                   \n",
       "Adams            0.0         0.0        0.00        0.00         0.0   \n",
       "Ashland          0.0         0.0        0.00        0.00         0.0   \n",
       "Barron           0.0         0.0        0.00        0.00         0.0   \n",
       "Bayfield         0.0         0.0        0.00        0.25         0.2   \n",
       "Brown            0.0         0.0        0.33        0.50         0.4   \n",
       "\n",
       "DATE      2020-03-21  2020-03-22  2020-03-23  2020-03-24  2020-03-25  ...  \\\n",
       "NAME                                                                  ...   \n",
       "Adams           0.00        0.00        0.00        0.00        0.00  ...   \n",
       "Ashland         0.00        0.00        0.00        0.00        0.00  ...   \n",
       "Barron          0.00        0.00        0.00        0.00        0.00  ...   \n",
       "Bayfield        0.17        0.14        0.14        0.14        0.14  ...   \n",
       "Brown           0.50        0.43        0.43        0.43        0.29  ...   \n",
       "\n",
       "DATE      2021-02-21  2021-02-22  2021-02-23  2021-02-24  2021-02-25  \\\n",
       "NAME                                                                   \n",
       "Adams           3.00        2.71        2.57        3.14        2.14   \n",
       "Ashland         0.43        0.43        0.71        0.57        0.71   \n",
       "Barron          7.71        7.29        7.57        7.71        8.14   \n",
       "Bayfield        0.14        0.14        0.29        0.29        0.14   \n",
       "Brown          23.29       23.57       18.86       18.71       21.57   \n",
       "\n",
       "DATE      2021-02-26  2021-02-27  2021-02-28  2021-03-01  2021-03-02  \n",
       "NAME                                                                  \n",
       "Adams           1.86        1.29        1.29        1.57        1.29  \n",
       "Ashland         0.71        0.57        0.57        0.43        0.29  \n",
       "Barron          7.71        8.29        9.00        8.86        8.57  \n",
       "Bayfield        0.29        0.29        0.29        0.43        0.43  \n",
       "Brown          20.86       20.14       19.57       19.71       18.00  \n",
       "\n",
       "[5 rows x 352 columns]"
      ]
     },
     "execution_count": 6,
     "metadata": {},
     "output_type": "execute_result"
    }
   ],
   "source": [
    "df = pd.pivot(df, index=\"NAME\", columns=\"DATE\", values=\"POS_7DAYAVG\")\n",
    "df.head()"
   ]
  },
  {
   "cell_type": "markdown",
   "metadata": {},
   "source": [
    "## Clustering: KMeans and Agglomerative"
   ]
  },
  {
   "cell_type": "markdown",
   "metadata": {},
   "source": [
    "Now, let's use KMeans clustering to group similar rows.  Note that for this example, we're just clustering based on total cases (for many use cases, it may make sense to scale by population or other otherwise standardize the data)."
   ]
  },
  {
   "cell_type": "code",
   "execution_count": 7,
   "metadata": {},
   "outputs": [
    {
     "data": {
      "text/plain": [
       "KMeans(algorithm='auto', copy_x=True, init='k-means++', max_iter=300,\n",
       "       n_clusters=8, n_init=10, n_jobs=None, precompute_distances='auto',\n",
       "       random_state=None, tol=0.0001, verbose=0)"
      ]
     },
     "execution_count": 7,
     "metadata": {},
     "output_type": "execute_result"
    }
   ],
   "source": [
    "km = KMeans(n_clusters=8)\n",
    "km.fit(df)"
   ]
  },
  {
   "cell_type": "code",
   "execution_count": 8,
   "metadata": {},
   "outputs": [
    {
     "data": {
      "text/plain": [
       "array([1, 1, 4, 1, 7, 1, 1, 4, 4, 1, 4, 1, 3, 5, 1, 1, 4, 5, 1, 5, 1, 4,\n",
       "       1, 1, 1, 1, 1, 4, 1, 5, 1, 5, 1, 1, 1, 4, 5, 1, 1, 1, 2, 4, 1, 1,\n",
       "       0, 4, 1, 1, 4, 4, 1, 5, 1, 5, 1, 4, 1, 4, 5, 4, 1, 1, 1, 1, 4, 1,\n",
       "       5, 6, 4, 1, 0, 4], dtype=int32)"
      ]
     },
     "execution_count": 8,
     "metadata": {},
     "output_type": "execute_result"
    }
   ],
   "source": [
    "clusters = km.predict(df)\n",
    "clusters"
   ]
  },
  {
   "cell_type": "markdown",
   "metadata": {},
   "source": [
    "Let's put those cluster IDs back in the GeoDataFrame so we can plot it.  The cluster IDs are in an order corresponding to the DataFrame we fit to (`df`).  This is probably the same as the order in the `wi` DataFrame, but we should explicitly assign the index to each cluster ID before adding it to a different DataFrame, just to be safe."
   ]
  },
  {
   "cell_type": "code",
   "execution_count": 9,
   "metadata": {},
   "outputs": [
    {
     "data": {
      "text/html": [
       "<div>\n",
       "<style scoped>\n",
       "    .dataframe tbody tr th:only-of-type {\n",
       "        vertical-align: middle;\n",
       "    }\n",
       "\n",
       "    .dataframe tbody tr th {\n",
       "        vertical-align: top;\n",
       "    }\n",
       "\n",
       "    .dataframe thead th {\n",
       "        text-align: right;\n",
       "    }\n",
       "</style>\n",
       "<table border=\"1\" class=\"dataframe\">\n",
       "  <thead>\n",
       "    <tr style=\"text-align: right;\">\n",
       "      <th></th>\n",
       "      <th>OBJECTID</th>\n",
       "      <th>DNR_REGION</th>\n",
       "      <th>DNR_CNTY_C</th>\n",
       "      <th>COUNTY_NAM</th>\n",
       "      <th>COUNTY_FIP</th>\n",
       "      <th>SHAPEAREA</th>\n",
       "      <th>SHAPELEN</th>\n",
       "      <th>geometry</th>\n",
       "      <th>cluster</th>\n",
       "    </tr>\n",
       "    <tr>\n",
       "      <th>COUNTY_NAM</th>\n",
       "      <th></th>\n",
       "      <th></th>\n",
       "      <th></th>\n",
       "      <th></th>\n",
       "      <th></th>\n",
       "      <th></th>\n",
       "      <th></th>\n",
       "      <th></th>\n",
       "      <th></th>\n",
       "    </tr>\n",
       "  </thead>\n",
       "  <tbody>\n",
       "    <tr>\n",
       "      <th>Kenosha</th>\n",
       "      <td>321</td>\n",
       "      <td>Southeast Region</td>\n",
       "      <td>30</td>\n",
       "      <td>Kenosha</td>\n",
       "      <td>59</td>\n",
       "      <td>7.210454e+08</td>\n",
       "      <td>123267.303863</td>\n",
       "      <td>MULTIPOLYGON (((699813.437 246226.688, 699794....</td>\n",
       "      <td>5</td>\n",
       "    </tr>\n",
       "    <tr>\n",
       "      <th>Lafayette</th>\n",
       "      <td>322</td>\n",
       "      <td>South Central Region</td>\n",
       "      <td>33</td>\n",
       "      <td>Lafayette</td>\n",
       "      <td>65</td>\n",
       "      <td>1.641795e+09</td>\n",
       "      <td>164707.650040</td>\n",
       "      <td>POLYGON ((503148.082 260278.466, 503292.672 26...</td>\n",
       "      <td>1</td>\n",
       "    </tr>\n",
       "    <tr>\n",
       "      <th>Rock</th>\n",
       "      <td>323</td>\n",
       "      <td>South Central Region</td>\n",
       "      <td>54</td>\n",
       "      <td>Rock</td>\n",
       "      <td>105</td>\n",
       "      <td>1.879382e+09</td>\n",
       "      <td>174114.587670</td>\n",
       "      <td>POLYGON ((600602.683 264347.425, 603850.419 26...</td>\n",
       "      <td>5</td>\n",
       "    </tr>\n",
       "    <tr>\n",
       "      <th>Walworth</th>\n",
       "      <td>324</td>\n",
       "      <td>Southeast Region</td>\n",
       "      <td>65</td>\n",
       "      <td>Walworth</td>\n",
       "      <td>127</td>\n",
       "      <td>1.492598e+09</td>\n",
       "      <td>154833.279357</td>\n",
       "      <td>POLYGON ((658404.520 263083.277, 658417.776 26...</td>\n",
       "      <td>4</td>\n",
       "    </tr>\n",
       "    <tr>\n",
       "      <th>Green</th>\n",
       "      <td>325</td>\n",
       "      <td>South Central Region</td>\n",
       "      <td>23</td>\n",
       "      <td>Green</td>\n",
       "      <td>45</td>\n",
       "      <td>1.512855e+09</td>\n",
       "      <td>155741.104373</td>\n",
       "      <td>POLYGON ((571551.903 263810.562, 571555.279 26...</td>\n",
       "      <td>1</td>\n",
       "    </tr>\n",
       "  </tbody>\n",
       "</table>\n",
       "</div>"
      ],
      "text/plain": [
       "            OBJECTID            DNR_REGION  DNR_CNTY_C COUNTY_NAM COUNTY_FIP  \\\n",
       "COUNTY_NAM                                                                     \n",
       "Kenosha          321      Southeast Region          30    Kenosha         59   \n",
       "Lafayette        322  South Central Region          33  Lafayette         65   \n",
       "Rock             323  South Central Region          54       Rock        105   \n",
       "Walworth         324      Southeast Region          65   Walworth        127   \n",
       "Green            325  South Central Region          23      Green         45   \n",
       "\n",
       "               SHAPEAREA       SHAPELEN  \\\n",
       "COUNTY_NAM                                \n",
       "Kenosha     7.210454e+08  123267.303863   \n",
       "Lafayette   1.641795e+09  164707.650040   \n",
       "Rock        1.879382e+09  174114.587670   \n",
       "Walworth    1.492598e+09  154833.279357   \n",
       "Green       1.512855e+09  155741.104373   \n",
       "\n",
       "                                                     geometry  cluster  \n",
       "COUNTY_NAM                                                              \n",
       "Kenosha     MULTIPOLYGON (((699813.437 246226.688, 699794....        5  \n",
       "Lafayette   POLYGON ((503148.082 260278.466, 503292.672 26...        1  \n",
       "Rock        POLYGON ((600602.683 264347.425, 603850.419 26...        5  \n",
       "Walworth    POLYGON ((658404.520 263083.277, 658417.776 26...        4  \n",
       "Green       POLYGON ((571551.903 263810.562, 571555.279 26...        1  "
      ]
     },
     "execution_count": 9,
     "metadata": {},
     "output_type": "execute_result"
    }
   ],
   "source": [
    "wi[\"cluster\"] = pd.Series(clusters, index=df.index)\n",
    "wi.head()"
   ]
  },
  {
   "cell_type": "code",
   "execution_count": 10,
   "metadata": {},
   "outputs": [
    {
     "data": {
      "text/plain": [
       "<matplotlib.axes._subplots.AxesSubplot at 0x7fa9e626ea90>"
      ]
     },
     "execution_count": 10,
     "metadata": {},
     "output_type": "execute_result"
    },
    {
     "data": {
      "image/png": "[encoded data removed]",
      "text/plain": [
       "<Figure size 576x576 with 1 Axes>"
      ]
     },
     "metadata": {
      "needs_background": "light"
     },
     "output_type": "display_data"
    }
   ],
   "source": [
    "wi.plot(column=wi[\"cluster\"], cmap=\"tab10\", figsize=(8,8))"
   ]
  },
  {
   "cell_type": "markdown",
   "metadata": {},
   "source": [
    "Compactly, we could have done all the fitting and plotting in just three lines (note that clusters will probably be similar, but the colors for each cluster might change each time we run this):"
   ]
  },
  {
   "cell_type": "code",
   "execution_count": 11,
   "metadata": {},
   "outputs": [
    {
     "data": {
      "text/plain": [
       "<matplotlib.axes._subplots.AxesSubplot at 0x7fa9e62dcfd0>"
      ]
     },
     "execution_count": 11,
     "metadata": {},
     "output_type": "execute_result"
    },
    {
     "data": {
      "image/png": "[encoded data removed]",
      "text/plain": [
       "<Figure size 576x576 with 1 Axes>"
      ]
     },
     "metadata": {
      "needs_background": "light"
     },
     "output_type": "display_data"
    }
   ],
   "source": [
    "clusters = KMeans(n_clusters=8).fit_predict(df)\n",
    "wi[\"cluster\"] = pd.Series(clusters, index=df.index)\n",
    "wi.plot(column=wi[\"cluster\"], cmap=\"tab10\", figsize=(8,8))"
   ]
  },
  {
   "cell_type": "markdown",
   "metadata": {},
   "source": [
    "We can simply replace `KMeans` with `AgglomerativeClustering` to see how the latter algorithm groups states:"
   ]
  },
  {
   "cell_type": "code",
   "execution_count": 12,
   "metadata": {},
   "outputs": [
    {
     "data": {
      "text/plain": [
       "<matplotlib.axes._subplots.AxesSubplot at 0x7fa9e698a390>"
      ]
     },
     "execution_count": 12,
     "metadata": {},
     "output_type": "execute_result"
    },
    {
     "data": {
      "image/png": "[encoded data removed]",
      "text/plain": [
       "<Figure size 576x576 with 1 Axes>"
      ]
     },
     "metadata": {
      "needs_background": "light"
     },
     "output_type": "display_data"
    }
   ],
   "source": [
    "clusters = AgglomerativeClustering(n_clusters=8).fit_predict(df)\n",
    "wi[\"cluster\"] = pd.Series(clusters, index=df.index)\n",
    "wi.plot(column=wi[\"cluster\"], cmap=\"tab10\", figsize=(8,8))"
   ]
  },
  {
   "cell_type": "markdown",
   "metadata": {},
   "source": [
    "## PCA: Principal Component Analysis\n",
    "\n",
    "For this analysis, we'll be looking at a tranpose of the earlier data:"
   ]
  },
  {
   "cell_type": "code",
   "execution_count": 13,
   "metadata": {},
   "outputs": [
    {
     "name": "stdout",
     "output_type": "stream",
     "text": [
      "shape: (352, 72)\n",
      "variance: 3230.8970796538392\n"
     ]
    },
    {
     "data": {
      "text/html": [
       "<div>\n",
       "<style scoped>\n",
       "    .dataframe tbody tr th:only-of-type {\n",
       "        vertical-align: middle;\n",
       "    }\n",
       "\n",
       "    .dataframe tbody tr th {\n",
       "        vertical-align: top;\n",
       "    }\n",
       "\n",
       "    .dataframe thead th {\n",
       "        text-align: right;\n",
       "    }\n",
       "</style>\n",
       "<table border=\"1\" class=\"dataframe\">\n",
       "  <thead>\n",
       "    <tr style=\"text-align: right;\">\n",
       "      <th>NAME</th>\n",
       "      <th>Adams</th>\n",
       "      <th>Ashland</th>\n",
       "      <th>Barron</th>\n",
       "      <th>Bayfield</th>\n",
       "      <th>Brown</th>\n",
       "      <th>Buffalo</th>\n",
       "      <th>Burnett</th>\n",
       "      <th>Calumet</th>\n",
       "      <th>Chippewa</th>\n",
       "      <th>Clark</th>\n",
       "      <th>...</th>\n",
       "      <th>Vernon</th>\n",
       "      <th>Vilas</th>\n",
       "      <th>Walworth</th>\n",
       "      <th>Washburn</th>\n",
       "      <th>Washington</th>\n",
       "      <th>Waukesha</th>\n",
       "      <th>Waupaca</th>\n",
       "      <th>Waushara</th>\n",
       "      <th>Winnebago</th>\n",
       "      <th>Wood</th>\n",
       "    </tr>\n",
       "    <tr>\n",
       "      <th>DATE</th>\n",
       "      <th></th>\n",
       "      <th></th>\n",
       "      <th></th>\n",
       "      <th></th>\n",
       "      <th></th>\n",
       "      <th></th>\n",
       "      <th></th>\n",
       "      <th></th>\n",
       "      <th></th>\n",
       "      <th></th>\n",
       "      <th></th>\n",
       "      <th></th>\n",
       "      <th></th>\n",
       "      <th></th>\n",
       "      <th></th>\n",
       "      <th></th>\n",
       "      <th></th>\n",
       "      <th></th>\n",
       "      <th></th>\n",
       "      <th></th>\n",
       "      <th></th>\n",
       "    </tr>\n",
       "  </thead>\n",
       "  <tbody>\n",
       "    <tr>\n",
       "      <th>2020-03-16</th>\n",
       "      <td>0.0</td>\n",
       "      <td>0.0</td>\n",
       "      <td>0.0</td>\n",
       "      <td>0.00</td>\n",
       "      <td>0.00</td>\n",
       "      <td>0.0</td>\n",
       "      <td>0.0</td>\n",
       "      <td>0.00</td>\n",
       "      <td>0.0</td>\n",
       "      <td>0.0</td>\n",
       "      <td>...</td>\n",
       "      <td>0.0</td>\n",
       "      <td>0.0</td>\n",
       "      <td>0.0</td>\n",
       "      <td>0.0</td>\n",
       "      <td>0.00</td>\n",
       "      <td>0.00</td>\n",
       "      <td>0.0</td>\n",
       "      <td>0.0</td>\n",
       "      <td>2.00</td>\n",
       "      <td>1.00</td>\n",
       "    </tr>\n",
       "    <tr>\n",
       "      <th>2020-03-17</th>\n",
       "      <td>0.0</td>\n",
       "      <td>0.0</td>\n",
       "      <td>0.0</td>\n",
       "      <td>0.00</td>\n",
       "      <td>0.00</td>\n",
       "      <td>0.0</td>\n",
       "      <td>0.0</td>\n",
       "      <td>0.00</td>\n",
       "      <td>0.0</td>\n",
       "      <td>0.0</td>\n",
       "      <td>...</td>\n",
       "      <td>0.0</td>\n",
       "      <td>0.0</td>\n",
       "      <td>0.0</td>\n",
       "      <td>0.0</td>\n",
       "      <td>0.00</td>\n",
       "      <td>0.50</td>\n",
       "      <td>0.0</td>\n",
       "      <td>0.0</td>\n",
       "      <td>1.00</td>\n",
       "      <td>0.50</td>\n",
       "    </tr>\n",
       "    <tr>\n",
       "      <th>2020-03-18</th>\n",
       "      <td>0.0</td>\n",
       "      <td>0.0</td>\n",
       "      <td>0.0</td>\n",
       "      <td>0.00</td>\n",
       "      <td>0.33</td>\n",
       "      <td>0.0</td>\n",
       "      <td>0.0</td>\n",
       "      <td>0.00</td>\n",
       "      <td>0.0</td>\n",
       "      <td>0.0</td>\n",
       "      <td>...</td>\n",
       "      <td>0.0</td>\n",
       "      <td>0.0</td>\n",
       "      <td>0.0</td>\n",
       "      <td>0.0</td>\n",
       "      <td>0.67</td>\n",
       "      <td>0.67</td>\n",
       "      <td>0.0</td>\n",
       "      <td>0.0</td>\n",
       "      <td>0.67</td>\n",
       "      <td>0.33</td>\n",
       "    </tr>\n",
       "    <tr>\n",
       "      <th>2020-03-19</th>\n",
       "      <td>0.0</td>\n",
       "      <td>0.0</td>\n",
       "      <td>0.0</td>\n",
       "      <td>0.25</td>\n",
       "      <td>0.50</td>\n",
       "      <td>0.0</td>\n",
       "      <td>0.0</td>\n",
       "      <td>0.25</td>\n",
       "      <td>0.0</td>\n",
       "      <td>0.0</td>\n",
       "      <td>...</td>\n",
       "      <td>0.0</td>\n",
       "      <td>0.0</td>\n",
       "      <td>0.5</td>\n",
       "      <td>0.0</td>\n",
       "      <td>0.50</td>\n",
       "      <td>2.25</td>\n",
       "      <td>0.0</td>\n",
       "      <td>0.0</td>\n",
       "      <td>1.00</td>\n",
       "      <td>0.25</td>\n",
       "    </tr>\n",
       "    <tr>\n",
       "      <th>2020-03-20</th>\n",
       "      <td>0.0</td>\n",
       "      <td>0.0</td>\n",
       "      <td>0.0</td>\n",
       "      <td>0.20</td>\n",
       "      <td>0.40</td>\n",
       "      <td>0.0</td>\n",
       "      <td>0.0</td>\n",
       "      <td>0.20</td>\n",
       "      <td>0.2</td>\n",
       "      <td>0.0</td>\n",
       "      <td>...</td>\n",
       "      <td>0.0</td>\n",
       "      <td>0.0</td>\n",
       "      <td>0.6</td>\n",
       "      <td>0.0</td>\n",
       "      <td>0.60</td>\n",
       "      <td>2.40</td>\n",
       "      <td>0.0</td>\n",
       "      <td>0.0</td>\n",
       "      <td>0.80</td>\n",
       "      <td>0.20</td>\n",
       "    </tr>\n",
       "  </tbody>\n",
       "</table>\n",
       "<p>5 rows × 72 columns</p>\n",
       "</div>"
      ],
      "text/plain": [
       "NAME        Adams  Ashland  Barron  Bayfield  Brown  Buffalo  Burnett  \\\n",
       "DATE                                                                    \n",
       "2020-03-16    0.0      0.0     0.0      0.00   0.00      0.0      0.0   \n",
       "2020-03-17    0.0      0.0     0.0      0.00   0.00      0.0      0.0   \n",
       "2020-03-18    0.0      0.0     0.0      0.00   0.33      0.0      0.0   \n",
       "2020-03-19    0.0      0.0     0.0      0.25   0.50      0.0      0.0   \n",
       "2020-03-20    0.0      0.0     0.0      0.20   0.40      0.0      0.0   \n",
       "\n",
       "NAME        Calumet  Chippewa  Clark  ...  Vernon  Vilas  Walworth  Washburn  \\\n",
       "DATE                                  ...                                      \n",
       "2020-03-16     0.00       0.0    0.0  ...     0.0    0.0       0.0       0.0   \n",
       "2020-03-17     0.00       0.0    0.0  ...     0.0    0.0       0.0       0.0   \n",
       "2020-03-18     0.00       0.0    0.0  ...     0.0    0.0       0.0       0.0   \n",
       "2020-03-19     0.25       0.0    0.0  ...     0.0    0.0       0.5       0.0   \n",
       "2020-03-20     0.20       0.2    0.0  ...     0.0    0.0       0.6       0.0   \n",
       "\n",
       "NAME        Washington  Waukesha  Waupaca  Waushara  Winnebago  Wood  \n",
       "DATE                                                                  \n",
       "2020-03-16        0.00      0.00      0.0       0.0       2.00  1.00  \n",
       "2020-03-17        0.00      0.50      0.0       0.0       1.00  0.50  \n",
       "2020-03-18        0.67      0.67      0.0       0.0       0.67  0.33  \n",
       "2020-03-19        0.50      2.25      0.0       0.0       1.00  0.25  \n",
       "2020-03-20        0.60      2.40      0.0       0.0       0.80  0.20  \n",
       "\n",
       "[5 rows x 72 columns]"
      ]
     },
     "execution_count": 13,
     "metadata": {},
     "output_type": "execute_result"
    }
   ],
   "source": [
    "dft = df.T\n",
    "print(\"shape:\", dft.shape)\n",
    "print(\"variance:\", dft.values.var())\n",
    "dft.head()"
   ]
  },
  {
   "cell_type": "markdown",
   "metadata": {},
   "source": [
    "We have 352 rows, but of course there will be similarities across them.  Can we approximate the table by finding a few key rows (called components), such that every row in approximately some weighted combination of those component rows?  In particular, how much of the 3230.9 variance can be explained by these few rows?\n",
    "\n",
    "A principal component analysis (PCA) can help us find such components and tell us how much of the variance those components can explain.\n",
    "\n",
    "Passing 0.95 tells the PCA that we want it to find however many component rows are necessary to explain 95% of the variance in our original table (alternatively, we could pass an integer to require an exact number of components):"
   ]
  },
  {
   "cell_type": "code",
   "execution_count": 14,
   "metadata": {},
   "outputs": [
    {
     "data": {
      "text/plain": [
       "PCA(copy=True, iterated_power='auto', n_components=0.95, random_state=None,\n",
       "    svd_solver='auto', tol=0.0, whiten=False)"
      ]
     },
     "execution_count": 14,
     "metadata": {},
     "output_type": "execute_result"
    }
   ],
   "source": [
    "pca = PCA(0.95)\n",
    "pca.fit(dft)"
   ]
  },
  {
   "cell_type": "markdown",
   "metadata": {},
   "source": [
    "`explained_variance_ratio_` tells us how many components are necessary, and how much variance they each explain.  In this case, one component row can explain 90.6% of the variance, and a second component row can explain an additional 4.5%."
   ]
  },
  {
   "cell_type": "code",
   "execution_count": 15,
   "metadata": {},
   "outputs": [
    {
     "data": {
      "text/plain": [
       "array([0.90638618, 0.04510856])"
      ]
     },
     "execution_count": 15,
     "metadata": {},
     "output_type": "execute_result"
    }
   ],
   "source": [
    "pca.explained_variance_ratio_"
   ]
  },
  {
   "cell_type": "markdown",
   "metadata": {},
   "source": [
    "Let's see what those two rows look like in a table.  `components_` gives us a numpy array, but we can use the same column names from our original DataFrame."
   ]
  },
  {
   "cell_type": "code",
   "execution_count": 16,
   "metadata": {},
   "outputs": [
    {
     "data": {
      "text/html": [
       "<div>\n",
       "<style scoped>\n",
       "    .dataframe tbody tr th:only-of-type {\n",
       "        vertical-align: middle;\n",
       "    }\n",
       "\n",
       "    .dataframe tbody tr th {\n",
       "        vertical-align: top;\n",
       "    }\n",
       "\n",
       "    .dataframe thead th {\n",
       "        text-align: right;\n",
       "    }\n",
       "</style>\n",
       "<table border=\"1\" class=\"dataframe\">\n",
       "  <thead>\n",
       "    <tr style=\"text-align: right;\">\n",
       "      <th>NAME</th>\n",
       "      <th>Adams</th>\n",
       "      <th>Ashland</th>\n",
       "      <th>Barron</th>\n",
       "      <th>Bayfield</th>\n",
       "      <th>Brown</th>\n",
       "      <th>Buffalo</th>\n",
       "      <th>Burnett</th>\n",
       "      <th>Calumet</th>\n",
       "      <th>Chippewa</th>\n",
       "      <th>Clark</th>\n",
       "      <th>...</th>\n",
       "      <th>Vernon</th>\n",
       "      <th>Vilas</th>\n",
       "      <th>Walworth</th>\n",
       "      <th>Washburn</th>\n",
       "      <th>Washington</th>\n",
       "      <th>Waukesha</th>\n",
       "      <th>Waupaca</th>\n",
       "      <th>Waushara</th>\n",
       "      <th>Winnebago</th>\n",
       "      <th>Wood</th>\n",
       "    </tr>\n",
       "  </thead>\n",
       "  <tbody>\n",
       "    <tr>\n",
       "      <th>0</th>\n",
       "      <td>0.014671</td>\n",
       "      <td>0.012164</td>\n",
       "      <td>0.063659</td>\n",
       "      <td>0.012197</td>\n",
       "      <td>0.186703</td>\n",
       "      <td>0.013653</td>\n",
       "      <td>0.012156</td>\n",
       "      <td>0.039235</td>\n",
       "      <td>0.081403</td>\n",
       "      <td>0.034584</td>\n",
       "      <td>...</td>\n",
       "      <td>0.017245</td>\n",
       "      <td>0.018460</td>\n",
       "      <td>0.065934</td>\n",
       "      <td>0.013056</td>\n",
       "      <td>0.120046</td>\n",
       "      <td>0.379391</td>\n",
       "      <td>0.034502</td>\n",
       "      <td>0.018779</td>\n",
       "      <td>0.124864</td>\n",
       "      <td>0.068892</td>\n",
       "    </tr>\n",
       "    <tr>\n",
       "      <th>1</th>\n",
       "      <td>0.010148</td>\n",
       "      <td>0.000019</td>\n",
       "      <td>-0.026789</td>\n",
       "      <td>-0.001165</td>\n",
       "      <td>0.488611</td>\n",
       "      <td>-0.003380</td>\n",
       "      <td>0.000764</td>\n",
       "      <td>0.125926</td>\n",
       "      <td>0.006220</td>\n",
       "      <td>0.003825</td>\n",
       "      <td>...</td>\n",
       "      <td>0.003234</td>\n",
       "      <td>0.010982</td>\n",
       "      <td>-0.023864</td>\n",
       "      <td>-0.011774</td>\n",
       "      <td>0.010618</td>\n",
       "      <td>-0.225074</td>\n",
       "      <td>0.099319</td>\n",
       "      <td>0.058002</td>\n",
       "      <td>0.452854</td>\n",
       "      <td>-0.009747</td>\n",
       "    </tr>\n",
       "  </tbody>\n",
       "</table>\n",
       "<p>2 rows × 72 columns</p>\n",
       "</div>"
      ],
      "text/plain": [
       "NAME     Adams   Ashland    Barron  Bayfield     Brown   Buffalo   Burnett  \\\n",
       "0     0.014671  0.012164  0.063659  0.012197  0.186703  0.013653  0.012156   \n",
       "1     0.010148  0.000019 -0.026789 -0.001165  0.488611 -0.003380  0.000764   \n",
       "\n",
       "NAME   Calumet  Chippewa     Clark  ...    Vernon     Vilas  Walworth  \\\n",
       "0     0.039235  0.081403  0.034584  ...  0.017245  0.018460  0.065934   \n",
       "1     0.125926  0.006220  0.003825  ...  0.003234  0.010982 -0.023864   \n",
       "\n",
       "NAME  Washburn  Washington  Waukesha   Waupaca  Waushara  Winnebago      Wood  \n",
       "0     0.013056    0.120046  0.379391  0.034502  0.018779   0.124864  0.068892  \n",
       "1    -0.011774    0.010618 -0.225074  0.099319  0.058002   0.452854 -0.009747  \n",
       "\n",
       "[2 rows x 72 columns]"
      ]
     },
     "execution_count": 16,
     "metadata": {},
     "output_type": "execute_result"
    }
   ],
   "source": [
    "components = pd.DataFrame(pca.components_, columns=dft.columns)\n",
    "components"
   ]
  },
  {
   "cell_type": "markdown",
   "metadata": {},
   "source": [
    "Let's visualize those components on a map.  We'll use the `coolwarm` colormap (https://matplotlib.org/stable/gallery/color/colormap_reference.html).  We want blues to be negative, reds to be positive, and gray to be about zero.  This means we'll need to pass in a vmin and vmax that are equally distance from zero.  Let's first find a value for this."
   ]
  },
  {
   "cell_type": "code",
   "execution_count": 17,
   "metadata": {},
   "outputs": [
    {
     "data": {
      "text/plain": [
       "0.6830682912657138"
      ]
     },
     "execution_count": 17,
     "metadata": {},
     "output_type": "execute_result"
    }
   ],
   "source": [
    "cap = components.values.max()\n",
    "cap"
   ]
  },
  {
   "cell_type": "markdown",
   "metadata": {},
   "source": [
    "Let's add the rows of the components table as columns to the GeoDataFrame (`wi`)."
   ]
  },
  {
   "cell_type": "code",
   "execution_count": 18,
   "metadata": {},
   "outputs": [
    {
     "data": {
      "text/html": [
       "<div>\n",
       "<style scoped>\n",
       "    .dataframe tbody tr th:only-of-type {\n",
       "        vertical-align: middle;\n",
       "    }\n",
       "\n",
       "    .dataframe tbody tr th {\n",
       "        vertical-align: top;\n",
       "    }\n",
       "\n",
       "    .dataframe thead th {\n",
       "        text-align: right;\n",
       "    }\n",
       "</style>\n",
       "<table border=\"1\" class=\"dataframe\">\n",
       "  <thead>\n",
       "    <tr style=\"text-align: right;\">\n",
       "      <th></th>\n",
       "      <th>OBJECTID</th>\n",
       "      <th>DNR_REGION</th>\n",
       "      <th>DNR_CNTY_C</th>\n",
       "      <th>COUNTY_NAM</th>\n",
       "      <th>COUNTY_FIP</th>\n",
       "      <th>SHAPEAREA</th>\n",
       "      <th>SHAPELEN</th>\n",
       "      <th>geometry</th>\n",
       "      <th>cluster</th>\n",
       "      <th>pc0</th>\n",
       "      <th>pc1</th>\n",
       "    </tr>\n",
       "    <tr>\n",
       "      <th>COUNTY_NAM</th>\n",
       "      <th></th>\n",
       "      <th></th>\n",
       "      <th></th>\n",
       "      <th></th>\n",
       "      <th></th>\n",
       "      <th></th>\n",
       "      <th></th>\n",
       "      <th></th>\n",
       "      <th></th>\n",
       "      <th></th>\n",
       "      <th></th>\n",
       "    </tr>\n",
       "  </thead>\n",
       "  <tbody>\n",
       "    <tr>\n",
       "      <th>Kenosha</th>\n",
       "      <td>321</td>\n",
       "      <td>Southeast Region</td>\n",
       "      <td>30</td>\n",
       "      <td>Kenosha</td>\n",
       "      <td>59</td>\n",
       "      <td>7.210454e+08</td>\n",
       "      <td>123267.303863</td>\n",
       "      <td>MULTIPOLYGON (((699813.437 246226.688, 699794....</td>\n",
       "      <td>1</td>\n",
       "      <td>0.112478</td>\n",
       "      <td>-0.083256</td>\n",
       "    </tr>\n",
       "    <tr>\n",
       "      <th>Lafayette</th>\n",
       "      <td>322</td>\n",
       "      <td>South Central Region</td>\n",
       "      <td>33</td>\n",
       "      <td>Lafayette</td>\n",
       "      <td>65</td>\n",
       "      <td>1.641795e+09</td>\n",
       "      <td>164707.650040</td>\n",
       "      <td>POLYGON ((503148.082 260278.466, 503292.672 26...</td>\n",
       "      <td>2</td>\n",
       "      <td>0.013154</td>\n",
       "      <td>0.014847</td>\n",
       "    </tr>\n",
       "    <tr>\n",
       "      <th>Rock</th>\n",
       "      <td>323</td>\n",
       "      <td>South Central Region</td>\n",
       "      <td>54</td>\n",
       "      <td>Rock</td>\n",
       "      <td>105</td>\n",
       "      <td>1.879382e+09</td>\n",
       "      <td>174114.587670</td>\n",
       "      <td>POLYGON ((600602.683 264347.425, 603850.419 26...</td>\n",
       "      <td>1</td>\n",
       "      <td>0.120181</td>\n",
       "      <td>0.062958</td>\n",
       "    </tr>\n",
       "    <tr>\n",
       "      <th>Walworth</th>\n",
       "      <td>324</td>\n",
       "      <td>Southeast Region</td>\n",
       "      <td>65</td>\n",
       "      <td>Walworth</td>\n",
       "      <td>127</td>\n",
       "      <td>1.492598e+09</td>\n",
       "      <td>154833.279357</td>\n",
       "      <td>POLYGON ((658404.520 263083.277, 658417.776 26...</td>\n",
       "      <td>0</td>\n",
       "      <td>0.065934</td>\n",
       "      <td>-0.023864</td>\n",
       "    </tr>\n",
       "    <tr>\n",
       "      <th>Green</th>\n",
       "      <td>325</td>\n",
       "      <td>South Central Region</td>\n",
       "      <td>23</td>\n",
       "      <td>Green</td>\n",
       "      <td>45</td>\n",
       "      <td>1.512855e+09</td>\n",
       "      <td>155741.104373</td>\n",
       "      <td>POLYGON ((571551.903 263810.562, 571555.279 26...</td>\n",
       "      <td>2</td>\n",
       "      <td>0.020049</td>\n",
       "      <td>0.014773</td>\n",
       "    </tr>\n",
       "  </tbody>\n",
       "</table>\n",
       "</div>"
      ],
      "text/plain": [
       "            OBJECTID            DNR_REGION  DNR_CNTY_C COUNTY_NAM COUNTY_FIP  \\\n",
       "COUNTY_NAM                                                                     \n",
       "Kenosha          321      Southeast Region          30    Kenosha         59   \n",
       "Lafayette        322  South Central Region          33  Lafayette         65   \n",
       "Rock             323  South Central Region          54       Rock        105   \n",
       "Walworth         324      Southeast Region          65   Walworth        127   \n",
       "Green            325  South Central Region          23      Green         45   \n",
       "\n",
       "               SHAPEAREA       SHAPELEN  \\\n",
       "COUNTY_NAM                                \n",
       "Kenosha     7.210454e+08  123267.303863   \n",
       "Lafayette   1.641795e+09  164707.650040   \n",
       "Rock        1.879382e+09  174114.587670   \n",
       "Walworth    1.492598e+09  154833.279357   \n",
       "Green       1.512855e+09  155741.104373   \n",
       "\n",
       "                                                     geometry  cluster  \\\n",
       "COUNTY_NAM                                                               \n",
       "Kenosha     MULTIPOLYGON (((699813.437 246226.688, 699794....        1   \n",
       "Lafayette   POLYGON ((503148.082 260278.466, 503292.672 26...        2   \n",
       "Rock        POLYGON ((600602.683 264347.425, 603850.419 26...        1   \n",
       "Walworth    POLYGON ((658404.520 263083.277, 658417.776 26...        0   \n",
       "Green       POLYGON ((571551.903 263810.562, 571555.279 26...        2   \n",
       "\n",
       "                 pc0       pc1  \n",
       "COUNTY_NAM                      \n",
       "Kenosha     0.112478 -0.083256  \n",
       "Lafayette   0.013154  0.014847  \n",
       "Rock        0.120181  0.062958  \n",
       "Walworth    0.065934 -0.023864  \n",
       "Green       0.020049  0.014773  "
      ]
     },
     "execution_count": 18,
     "metadata": {},
     "output_type": "execute_result"
    }
   ],
   "source": [
    "wi[\"pc0\"] = components.iloc[0]\n",
    "wi[\"pc1\"] = components.iloc[1]\n",
    "wi.head()"
   ]
  },
  {
   "cell_type": "code",
   "execution_count": 19,
   "metadata": {},
   "outputs": [
    {
     "data": {
      "text/plain": [
       "Text(0.5, 1.0, 'Component 1')"
      ]
     },
     "execution_count": 19,
     "metadata": {},
     "output_type": "execute_result"
    },
    {
     "data": {
      "image/png": "[encoded data removed]",
      "text/plain": [
       "<Figure size 720x360 with 2 Axes>"
      ]
     },
     "metadata": {
      "needs_background": "light"
     },
     "output_type": "display_data"
    }
   ],
   "source": [
    "fig, axes = plt.subplots(ncols=2, figsize=(10,5))\n",
    "wi.plot(column=wi[\"pc0\"], cmap=\"coolwarm\", figsize=(8,8), ax=axes[0], vmin=-cap, vmax=cap)\n",
    "wi.plot(column=wi[\"pc1\"], cmap=\"coolwarm\", figsize=(8,8), ax=axes[1], vmin=-cap, vmax=cap)\n",
    "axes[0].set_title(\"Component 0\")\n",
    "axes[1].set_title(\"Component 1\")"
   ]
  },
  {
   "cell_type": "markdown",
   "metadata": {},
   "source": [
    "Although all 72 counties could in theory vary independently, we can take different combinations of just those two maps (added to a base map of the average per county) and explain 95% of all variance.\n",
    "\n",
    "Let's see what that base map looks like (similar to component 0, it turns out):"
   ]
  },
  {
   "cell_type": "code",
   "execution_count": 20,
   "metadata": {},
   "outputs": [
    {
     "data": {
      "text/plain": [
       "NAME\n",
       "Adams          4.484290\n",
       "Ashland        3.334858\n",
       "Barron        15.192472\n",
       "Bayfield       3.024574\n",
       "Brown         85.731733\n",
       "                ...    \n",
       "Waukesha     115.279972\n",
       "Waupaca       13.570511\n",
       "Waushara       5.961534\n",
       "Winnebago     48.406193\n",
       "Wood          18.998011\n",
       "Length: 72, dtype: float64"
      ]
     },
     "execution_count": 20,
     "metadata": {},
     "output_type": "execute_result"
    }
   ],
   "source": [
    "mean = pd.Series(pca.mean_, index=dft.columns)\n",
    "mean"
   ]
  },
  {
   "cell_type": "code",
   "execution_count": 21,
   "metadata": {},
   "outputs": [
    {
     "data": {
      "text/plain": [
       "Text(0.5, 1.0, 'mean')"
      ]
     },
     "execution_count": 21,
     "metadata": {},
     "output_type": "execute_result"
    },
    {
     "data": {
      "image/png": "[encoded data removed]",
      "text/plain": [
       "<Figure size 360x360 with 2 Axes>"
      ]
     },
     "metadata": {
      "needs_background": "light"
     },
     "output_type": "display_data"
    }
   ],
   "source": [
    "wi[\"mean\"] = mean\n",
    "cap = mean.max()\n",
    "ax = wi.plot(column=wi[\"mean\"], cmap=\"coolwarm\",\n",
    "             figsize=(5,5), vmin=-cap, vmax=cap, legend=True)\n",
    "ax.set_title(\"mean\")"
   ]
  },
  {
   "cell_type": "markdown",
   "metadata": {},
   "source": [
    "How do we weight the combinations of component rows to approximately construct a given row in our original dataset?  We can do this with component weights, as given by the `PCA.transform` method."
   ]
  },
  {
   "cell_type": "code",
   "execution_count": 22,
   "metadata": {},
   "outputs": [
    {
     "data": {
      "text/html": [
       "<div>\n",
       "<style scoped>\n",
       "    .dataframe tbody tr th:only-of-type {\n",
       "        vertical-align: middle;\n",
       "    }\n",
       "\n",
       "    .dataframe tbody tr th {\n",
       "        vertical-align: top;\n",
       "    }\n",
       "\n",
       "    .dataframe thead th {\n",
       "        text-align: right;\n",
       "    }\n",
       "</style>\n",
       "<table border=\"1\" class=\"dataframe\">\n",
       "  <thead>\n",
       "    <tr style=\"text-align: right;\">\n",
       "      <th></th>\n",
       "      <th>0</th>\n",
       "      <th>1</th>\n",
       "    </tr>\n",
       "    <tr>\n",
       "      <th>DATE</th>\n",
       "      <th></th>\n",
       "      <th></th>\n",
       "    </tr>\n",
       "  </thead>\n",
       "  <tbody>\n",
       "    <tr>\n",
       "      <th>2020-03-16</th>\n",
       "      <td>-363.67</td>\n",
       "      <td>-2.28</td>\n",
       "    </tr>\n",
       "    <tr>\n",
       "      <th>2020-03-17</th>\n",
       "      <td>-360.99</td>\n",
       "      <td>-3.83</td>\n",
       "    </tr>\n",
       "    <tr>\n",
       "      <th>2020-03-18</th>\n",
       "      <td>-357.78</td>\n",
       "      <td>-5.66</td>\n",
       "    </tr>\n",
       "    <tr>\n",
       "      <th>2020-03-19</th>\n",
       "      <td>-356.65</td>\n",
       "      <td>-5.82</td>\n",
       "    </tr>\n",
       "    <tr>\n",
       "      <th>2020-03-20</th>\n",
       "      <td>-355.23</td>\n",
       "      <td>-6.59</td>\n",
       "    </tr>\n",
       "  </tbody>\n",
       "</table>\n",
       "</div>"
      ],
      "text/plain": [
       "                 0     1\n",
       "DATE                    \n",
       "2020-03-16 -363.67 -2.28\n",
       "2020-03-17 -360.99 -3.83\n",
       "2020-03-18 -357.78 -5.66\n",
       "2020-03-19 -356.65 -5.82\n",
       "2020-03-20 -355.23 -6.59"
      ]
     },
     "execution_count": 22,
     "metadata": {},
     "output_type": "execute_result"
    }
   ],
   "source": [
    "pc_coef = pd.DataFrame(pca.transform(dft), index=dft.index).round(2)\n",
    "pc_coef.head()"
   ]
  },
  {
   "cell_type": "markdown",
   "metadata": {},
   "source": [
    "Even though we have 2 number per day instead of the 72 per-county numbers per day, we can use those two numbers as weights on the component rows to approximately reconstruct those 72 numbers.  Let's try it for a specific date: Mar 1st, 2021."
   ]
  },
  {
   "cell_type": "code",
   "execution_count": 23,
   "metadata": {},
   "outputs": [
    {
     "data": {
      "text/plain": [
       "0   -231.30\n",
       "1      4.62\n",
       "Name: 2021-03-01, dtype: float64"
      ]
     },
     "execution_count": 23,
     "metadata": {},
     "output_type": "execute_result"
    }
   ],
   "source": [
    "mar1 = \"2021-03-01\"\n",
    "pc_coef.loc[mar1]"
   ]
  },
  {
   "cell_type": "code",
   "execution_count": 24,
   "metadata": {},
   "outputs": [
    {
     "data": {
      "text/html": [
       "<div>\n",
       "<style scoped>\n",
       "    .dataframe tbody tr th:only-of-type {\n",
       "        vertical-align: middle;\n",
       "    }\n",
       "\n",
       "    .dataframe tbody tr th {\n",
       "        vertical-align: top;\n",
       "    }\n",
       "\n",
       "    .dataframe thead th {\n",
       "        text-align: right;\n",
       "    }\n",
       "</style>\n",
       "<table border=\"1\" class=\"dataframe\">\n",
       "  <thead>\n",
       "    <tr style=\"text-align: right;\">\n",
       "      <th>NAME</th>\n",
       "      <th>Adams</th>\n",
       "      <th>Ashland</th>\n",
       "      <th>Barron</th>\n",
       "      <th>Bayfield</th>\n",
       "      <th>Brown</th>\n",
       "      <th>Buffalo</th>\n",
       "      <th>Burnett</th>\n",
       "      <th>Calumet</th>\n",
       "      <th>Chippewa</th>\n",
       "      <th>Clark</th>\n",
       "      <th>...</th>\n",
       "      <th>Vernon</th>\n",
       "      <th>Vilas</th>\n",
       "      <th>Walworth</th>\n",
       "      <th>Washburn</th>\n",
       "      <th>Washington</th>\n",
       "      <th>Waukesha</th>\n",
       "      <th>Waupaca</th>\n",
       "      <th>Waushara</th>\n",
       "      <th>Winnebago</th>\n",
       "      <th>Wood</th>\n",
       "    </tr>\n",
       "  </thead>\n",
       "  <tbody>\n",
       "    <tr>\n",
       "      <th>0</th>\n",
       "      <td>0.014671</td>\n",
       "      <td>0.012164</td>\n",
       "      <td>0.063659</td>\n",
       "      <td>0.012197</td>\n",
       "      <td>0.186703</td>\n",
       "      <td>0.013653</td>\n",
       "      <td>0.012156</td>\n",
       "      <td>0.039235</td>\n",
       "      <td>0.081403</td>\n",
       "      <td>0.034584</td>\n",
       "      <td>...</td>\n",
       "      <td>0.017245</td>\n",
       "      <td>0.018460</td>\n",
       "      <td>0.065934</td>\n",
       "      <td>0.013056</td>\n",
       "      <td>0.120046</td>\n",
       "      <td>0.379391</td>\n",
       "      <td>0.034502</td>\n",
       "      <td>0.018779</td>\n",
       "      <td>0.124864</td>\n",
       "      <td>0.068892</td>\n",
       "    </tr>\n",
       "    <tr>\n",
       "      <th>1</th>\n",
       "      <td>0.010148</td>\n",
       "      <td>0.000019</td>\n",
       "      <td>-0.026789</td>\n",
       "      <td>-0.001165</td>\n",
       "      <td>0.488611</td>\n",
       "      <td>-0.003380</td>\n",
       "      <td>0.000764</td>\n",
       "      <td>0.125926</td>\n",
       "      <td>0.006220</td>\n",
       "      <td>0.003825</td>\n",
       "      <td>...</td>\n",
       "      <td>0.003234</td>\n",
       "      <td>0.010982</td>\n",
       "      <td>-0.023864</td>\n",
       "      <td>-0.011774</td>\n",
       "      <td>0.010618</td>\n",
       "      <td>-0.225074</td>\n",
       "      <td>0.099319</td>\n",
       "      <td>0.058002</td>\n",
       "      <td>0.452854</td>\n",
       "      <td>-0.009747</td>\n",
       "    </tr>\n",
       "  </tbody>\n",
       "</table>\n",
       "<p>2 rows × 72 columns</p>\n",
       "</div>"
      ],
      "text/plain": [
       "NAME     Adams   Ashland    Barron  Bayfield     Brown   Buffalo   Burnett  \\\n",
       "0     0.014671  0.012164  0.063659  0.012197  0.186703  0.013653  0.012156   \n",
       "1     0.010148  0.000019 -0.026789 -0.001165  0.488611 -0.003380  0.000764   \n",
       "\n",
       "NAME   Calumet  Chippewa     Clark  ...    Vernon     Vilas  Walworth  \\\n",
       "0     0.039235  0.081403  0.034584  ...  0.017245  0.018460  0.065934   \n",
       "1     0.125926  0.006220  0.003825  ...  0.003234  0.010982 -0.023864   \n",
       "\n",
       "NAME  Washburn  Washington  Waukesha   Waupaca  Waushara  Winnebago      Wood  \n",
       "0     0.013056    0.120046  0.379391  0.034502  0.018779   0.124864  0.068892  \n",
       "1    -0.011774    0.010618 -0.225074  0.099319  0.058002   0.452854 -0.009747  \n",
       "\n",
       "[2 rows x 72 columns]"
      ]
     },
     "execution_count": 24,
     "metadata": {},
     "output_type": "execute_result"
    }
   ],
   "source": [
    "components"
   ]
  },
  {
   "cell_type": "code",
   "execution_count": 25,
   "metadata": {},
   "outputs": [
    {
     "data": {
      "text/plain": [
       "NAME\n",
       "Adams         1.137748\n",
       "Ashland       0.521406\n",
       "Barron        0.344396\n",
       "Bayfield      0.197941\n",
       "Brown        44.804757\n",
       "               ...    \n",
       "Waukesha     26.487082\n",
       "Waupaca       6.049110\n",
       "Waushara      1.885923\n",
       "Winnebago    21.617261\n",
       "Wood          3.018259\n",
       "Length: 72, dtype: float64"
      ]
     },
     "execution_count": 25,
     "metadata": {},
     "output_type": "execute_result"
    }
   ],
   "source": [
    "-231.3 * components.loc[0] + 4.62 * components.loc[1] + mean"
   ]
  },
  {
   "cell_type": "markdown",
   "metadata": {},
   "source": [
    "Or, more concisely using the dot product:"
   ]
  },
  {
   "cell_type": "code",
   "execution_count": 26,
   "metadata": {},
   "outputs": [
    {
     "data": {
      "text/plain": [
       "NAME\n",
       "Adams         1.137748\n",
       "Ashland       0.521406\n",
       "Barron        0.344396\n",
       "Bayfield      0.197941\n",
       "Brown        44.804757\n",
       "               ...    \n",
       "Waukesha     26.487082\n",
       "Waupaca       6.049110\n",
       "Waushara      1.885923\n",
       "Winnebago    21.617261\n",
       "Wood          3.018259\n",
       "Length: 72, dtype: float64"
      ]
     },
     "execution_count": 26,
     "metadata": {},
     "output_type": "execute_result"
    }
   ],
   "source": [
    "approx = pc_coef.loc[\"2021-03-01\"] @ components + mean\n",
    "approx"
   ]
  },
  {
   "cell_type": "code",
   "execution_count": 27,
   "metadata": {},
   "outputs": [
    {
     "data": {
      "text/plain": [
       "Text(0.5, 1.0, 'Reconstructed from 2 PC weights')"
      ]
     },
     "execution_count": 27,
     "metadata": {},
     "output_type": "execute_result"
    },
    {
     "data": {
      "image/png": "[encoded data removed]",
      "text/plain": [
       "<Figure size 360x360 with 2 Axes>"
      ]
     },
     "metadata": {
      "needs_background": "light"
     },
     "output_type": "display_data"
    }
   ],
   "source": [
    "wi[\"approx\"] = approx\n",
    "ax = wi.plot(column=wi[\"approx\"], cmap=\"coolwarm\",\n",
    "             figsize=(5,5), vmin=-cap, vmax=cap, legend=True)\n",
    "ax.set_title(\"Reconstructed from 2 PC weights\")"
   ]
  },
  {
   "cell_type": "markdown",
   "metadata": {},
   "source": [
    "How does that compare to what the state *actually* looked like on March 1st:"
   ]
  },
  {
   "cell_type": "code",
   "execution_count": 28,
   "metadata": {},
   "outputs": [
    {
     "data": {
      "text/plain": [
       "Text(0.5, 1.0, 'Actual')"
      ]
     },
     "execution_count": 28,
     "metadata": {},
     "output_type": "execute_result"
    },
    {
     "data": {
      "image/png": "[encoded data removed]",
      "text/plain": [
       "<Figure size 360x360 with 2 Axes>"
      ]
     },
     "metadata": {
      "needs_background": "light"
     },
     "output_type": "display_data"
    }
   ],
   "source": [
    "wi[\"actual\"] = dft.loc[mar1]\n",
    "ax = wi.plot(column=wi[\"actual\"], cmap=\"coolwarm\",\n",
    "             figsize=(5,5), vmin=-cap, vmax=cap, legend=True)\n",
    "ax.set_title(\"Actual\")"
   ]
  },
  {
   "cell_type": "markdown",
   "metadata": {},
   "source": [
    "Not bad!\n",
    "\n",
    "## Conclusion\n",
    "\n",
    "In these examples, we weren't trying to predict anything.  We were looking for patterns and simplicity underlying our data; we were applying unsupervised learning.  For the two clustering approaches, we tried to group similar counties.  For the PCA, we tried to understand how counties vary together."
   ]
  }
 ],
 "metadata": {
  "kernelspec": {
   "display_name": "Python 3",
   "language": "python",
   "name": "python3"
  },
  "language_info": {
   "codemirror_mode": {
    "name": "ipython",
    "version": 3
   },
   "file_extension": ".py",
   "mimetype": "text/x-python",
   "name": "python",
   "nbconvert_exporter": "python",
   "pygments_lexer": "ipython3",
   "version": "3.7.2"
  }
 },
 "nbformat": 4,
 "nbformat_minor": 2
}
