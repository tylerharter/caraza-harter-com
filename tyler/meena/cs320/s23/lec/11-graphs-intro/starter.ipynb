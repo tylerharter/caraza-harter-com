{
 "cells": [
  {
   "cell_type": "markdown",
   "id": "2f385b68",
   "metadata": {},
   "source": [
    "# Graphs\n",
    "\n",
    "Today: graph visualization (graphviz)\n",
    "\n",
    "Upcoming: graph computation (from classes)\n",
    "\n",
    "**Nodes**: some kind of entity.  **Edges**: relationships between those entities."
   ]
  },
  {
   "cell_type": "markdown",
   "id": "3d6757a4",
   "metadata": {},
   "source": [
    "### Examples\n",
    "\n",
    "* Git: https://www.oreilly.com/library/view/git-pocket-guide/9781449327507/ch01.html#fig0101\n",
    "* Political Allignment: https://www.reddit.com/r/dataisbeautiful/comments/1q7b3s/voting_relationships_between_senators_in_the/\n",
    "* Evolution: https://commons.wikimedia.org/wiki/File:The_Ancestors_Tale_Mammals_Phylogenetic_Tree_in_mya.png\n",
    "* Friendship: https://facebook.com/notes/facebook-engineering/visualizing-friendships/469716398919/\n",
    "* Accounting: https://wisc-ds-projects.github.io/f19/past/langston-ellen-zan.pdf#page=22\n",
    "* Transit: https://arxiv.org/pdf/1611.01890.pdf#page=14\n",
    "\n",
    "### Graphviz Setup\n",
    "\n",
    "```\n",
    "sudo apt install -y graphviz\n",
    "pip3 install graphviz\n",
    "```"
   ]
  },
  {
   "cell_type": "code",
   "execution_count": null,
   "id": "6b375c8d",
   "metadata": {},
   "outputs": [],
   "source": []
  },
  {
   "cell_type": "markdown",
   "id": "1347be90",
   "metadata": {},
   "source": [
    "## Paths\n",
    "\n",
    "A **path** is a sequence of edges to get from one node to another"
   ]
  },
  {
   "cell_type": "code",
   "execution_count": null,
   "id": "426d7460",
   "metadata": {},
   "outputs": [],
   "source": []
  },
  {
   "cell_type": "markdown",
   "id": "274d67e1",
   "metadata": {},
   "source": [
    "## Directed Graphs, DAGs"
   ]
  },
  {
   "cell_type": "code",
   "execution_count": null,
   "id": "c1877373",
   "metadata": {},
   "outputs": [],
   "source": []
  },
  {
   "cell_type": "markdown",
   "id": "257bf913",
   "metadata": {},
   "source": [
    "## Trees\n",
    "\n",
    "**Tree**: DAG where one node (the **root**) has no parents and all others have exactly one parent"
   ]
  },
  {
   "cell_type": "code",
   "execution_count": null,
   "id": "7e04db8c",
   "metadata": {},
   "outputs": [],
   "source": []
  }
 ],
 "metadata": {
  "kernelspec": {
   "display_name": "Python 3 (ipykernel)",
   "language": "python",
   "name": "python3"
  },
  "language_info": {
   "codemirror_mode": {
    "name": "ipython",
    "version": 3
   },
   "file_extension": ".py",
   "mimetype": "text/x-python",
   "name": "python",
   "nbconvert_exporter": "python",
   "pygments_lexer": "ipython3",
   "version": "3.9.6"
  }
 },
 "nbformat": 4,
 "nbformat_minor": 5
}
