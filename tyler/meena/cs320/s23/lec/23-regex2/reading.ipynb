{
 "cells": [
  {
   "cell_type": "markdown",
   "metadata": {},
   "source": [
    "# Log Analysis with Regex\n",
    "\n",
    "*Logs* describe a series of events happening in time.  When you run a flask application, capturing the output will be a log of requests.  At the beginning of the semester, analyzed a log of git commits.  When logs contain text, regular expressions can help us extract useful information.\n",
    "\n",
    "In this reading, we'll use regular expressions to analyze the git history of this repo: https://github.com/tylerharter/cs320.  After checking out the repo, we ran `git log > git-log.txt` to produce the \"git-log.txt\" file we'll be using here.\n",
    "\n",
    "We'll use regular expressions to extract the following:\n",
    "\n",
    "1. all commit numbers\n",
    "2. email addresses\n",
    "3. forks from which pull requests were made\n",
    "4. all dates "
   ]
  },
  {
   "cell_type": "markdown",
   "metadata": {},
   "source": [
    "## 1. Commit Numbers\n",
    "\n",
    "`b046b85da7f5d65ef2131eefe72a8c1a39c5d139` is an example of a valid commit number.  It is 40 characters long, and contains only the 16 hexidecimal digits (0-9 and a-f).  For test cases, we'll put that example as the first line is a valid commit, and the following ones are not (because they are too long, contain invalid characters, or are too short -- in that order)."
   ]
  },
  {
   "cell_type": "code",
   "execution_count": 1,
   "metadata": {},
   "outputs": [],
   "source": [
    "tests = \"\"\"\n",
    "b046b85da7f5d65ef2131eefe72a8c1a39c5d139\n",
    "0000000000000000000000000000000000000001234\n",
    "b046b85da7f5d65ef2131eefe72a8c1a39c5dzzz\n",
    "b046b85da7f5d65ef2131eefe72a8c1a39c5d\n",
    "\"\"\""
   ]
  },
  {
   "cell_type": "markdown",
   "metadata": {},
   "source": [
    "The character class that matches a digit is `[0-9a-fA-F]`.  Let's try matching 40 of those."
   ]
  },
  {
   "cell_type": "code",
   "execution_count": 2,
   "metadata": {},
   "outputs": [
    {
     "name": "stdout",
     "output_type": "stream",
     "text": [
      "b046b85da7f5d65ef2131eefe72a8c1a39c5d139\n",
      "0000000000000000000000000000000000000001\n"
     ]
    }
   ],
   "source": [
    "import re\n",
    "\n",
    "for match in re.findall(r\"[0-9a-fA-F]{40}\", tests):\n",
    "    print(match)"
   ]
  },
  {
   "cell_type": "markdown",
   "metadata": {},
   "source": [
    "Do you see what happened?  Although `0000000000000000000000000000000000000001234` is not a valid commit number, as it is 43 characters instead of 40, the regex is recognizing the first 40 characters as a valid regex.  This probably isn't what we want.\n",
    "\n",
    "To fix it, we'll use a new metacharacter, `\\b`.  According to the Python docs, this \"matches the empty string, but only at the beginning or end of a word. A word is defined as a sequence of word characters.\"  (word characters are `[a-zA-Z0-9_]`, so commit numbers conveniently consist of word characters)."
   ]
  },
  {
   "cell_type": "code",
   "execution_count": 3,
   "metadata": {},
   "outputs": [
    {
     "name": "stdout",
     "output_type": "stream",
     "text": [
      "b046b85da7f5d65ef2131eefe72a8c1a39c5d139\n"
     ]
    }
   ],
   "source": [
    "import re\n",
    "\n",
    "for match in re.findall(r\"\\b[0-9a-fA-F]{40}\\b\", tests):\n",
    "    print(match)"
   ]
  },
  {
   "cell_type": "markdown",
   "metadata": {},
   "source": [
    "Nice!  Now that we have developed and tested the regex we want, we can use on our big log file from the git repo:"
   ]
  },
  {
   "cell_type": "code",
   "execution_count": 4,
   "metadata": {},
   "outputs": [
    {
     "name": "stdout",
     "output_type": "stream",
     "text": [
      "commit 24c509d20afed69592442f9d1de97131dab6bd3a\n",
      "Author: tylerharter <tylerharter@gmail.com>\n",
      "Date:   Mon Mar 1 15:59:16 2021 -0600\n",
      "\n",
      "    debug 5\n",
      "\n",
      "commit 0d5316187148c72fd65439f7aec5da6859cc8913\n",
      "Author: Peyman <payman.pm@gmail.com>\n",
      "Date:   Mon Mar 1 15:26:45 2021 +0000\n",
      "\n",
      "    updated README\n",
      "\n",
      "commit 79a3058f59e43953f5036e3980b47eec9a7ede62\n",
      "Merge: 44c1e8a 41fd923\n",
      "Author: Peyman <payman.pm@gmail.com>\n",
      "Date:   Mon Mar 1 15:23:18 2021 +0000\n",
      "\n",
      "    Merge branch 'master' of https://github.com/tylerharter/cs320...\n"
     ]
    }
   ],
   "source": [
    "with open(\"git-log.txt\") as f:\n",
    "    log = f.read()\n",
    "print(log[:500] + \"...\")"
   ]
  },
  {
   "cell_type": "code",
   "execution_count": 5,
   "metadata": {},
   "outputs": [
    {
     "name": "stdout",
     "output_type": "stream",
     "text": [
      "Found 524 commits.  Here are the first 10:\n"
     ]
    },
    {
     "data": {
      "text/plain": [
       "['24c509d20afed69592442f9d1de97131dab6bd3a',\n",
       " '0d5316187148c72fd65439f7aec5da6859cc8913',\n",
       " '79a3058f59e43953f5036e3980b47eec9a7ede62',\n",
       " '44c1e8a1f57ff854a130a162922a4a97c7fc6991',\n",
       " '41fd92391f01969eca8d11a6e3462c3025355b03',\n",
       " '2b0846b3830a2c0a61477c968a5abd6303d9ba84',\n",
       " 'fc44fd584eb807622f516f929c2bfd4e646c6520',\n",
       " '5dbe4ed8b6da984a78e38bc9f3a347b739373f13',\n",
       " '546a37d6c9fd92120f8bd6608ce05a66597ca2e9',\n",
       " '07971e14d6afd534de889a53ac5517472be03e1c']"
      ]
     },
     "execution_count": 5,
     "metadata": {},
     "output_type": "execute_result"
    }
   ],
   "source": [
    "commits = re.findall(r\"\\b[0-9a-fA-F]{40}\\b\", log)\n",
    "print(f\"Found {len(commits)} commits.  Here are the first 10:\")\n",
    "commits[:10]"
   ]
  },
  {
   "cell_type": "markdown",
   "metadata": {},
   "source": [
    "## 2. Email Addresses\n",
    "\n",
    "We see email address in the log, like this:\n",
    "\n",
    "```\n",
    "commit 24c509d20afed69592442f9d1de97131dab6bd3a\n",
    "Author: tylerharter <tylerharter@gmail.com>\n",
    "Date:   Mon Mar 1 15:59:16 2021 -0600\n",
    "\n",
    "    debug 5\n",
    "```"
   ]
  },
  {
   "cell_type": "markdown",
   "metadata": {},
   "source": [
    "It looks like we want everything between `<` and `>`."
   ]
  },
  {
   "cell_type": "code",
   "execution_count": 6,
   "metadata": {},
   "outputs": [
    {
     "data": {
      "text/plain": [
       "['<tylerharter@gmail.com>',\n",
       " '<payman.pm@gmail.com>',\n",
       " '<payman.pm@gmail.com>',\n",
       " '<payman.pm@gmail.com>',\n",
       " '<tylerharter@gmail.com>',\n",
       " '<tylerharter@gmail.com>',\n",
       " '<payman.pm@gmail.com>',\n",
       " '<payman.pm@gmail.com>',\n",
       " '<payman.pm@gmail.com>',\n",
       " '<payman.pm@gmail.com>']"
      ]
     },
     "execution_count": 6,
     "metadata": {},
     "output_type": "execute_result"
    }
   ],
   "source": [
    "emails = re.findall(r\"<.*>\", log)\n",
    "emails[:10]"
   ]
  },
  {
   "cell_type": "markdown",
   "metadata": {},
   "source": [
    "Oops, we don't want to include those angle brackets (`<` and `>`).  Let's put parentheses (`(` and `)`) around just the email part, with `r\"<(.*)>\"`."
   ]
  },
  {
   "cell_type": "code",
   "execution_count": 7,
   "metadata": {},
   "outputs": [
    {
     "name": "stdout",
     "output_type": "stream",
     "text": [
      "Found 525 emails.  Here are the first 10:\n"
     ]
    },
    {
     "data": {
      "text/plain": [
       "['tylerharter@gmail.com',\n",
       " 'payman.pm@gmail.com',\n",
       " 'payman.pm@gmail.com',\n",
       " 'payman.pm@gmail.com',\n",
       " 'tylerharter@gmail.com',\n",
       " 'tylerharter@gmail.com',\n",
       " 'payman.pm@gmail.com',\n",
       " 'payman.pm@gmail.com',\n",
       " 'payman.pm@gmail.com',\n",
       " 'payman.pm@gmail.com']"
      ]
     },
     "execution_count": 7,
     "metadata": {},
     "output_type": "execute_result"
    }
   ],
   "source": [
    "emails = re.findall(r\"<(.*)>\", log)\n",
    "print(f\"Found {len(emails)} emails.  Here are the first 10:\")\n",
    "emails[:10]"
   ]
  },
  {
   "cell_type": "markdown",
   "metadata": {},
   "source": [
    "If we want, we can throw these in a pandas Series, allowing us to count occurrences, plotting the result in a bar plot."
   ]
  },
  {
   "cell_type": "code",
   "execution_count": 8,
   "metadata": {},
   "outputs": [],
   "source": [
    "%matplotlib inline"
   ]
  },
  {
   "cell_type": "code",
   "execution_count": 9,
   "metadata": {},
   "outputs": [
    {
     "data": {
      "text/plain": [
       "<matplotlib.axes._subplots.AxesSubplot at 0x7fe005c42e80>"
      ]
     },
     "execution_count": 9,
     "metadata": {},
     "output_type": "execute_result"
    },
    {
     "data": {
      "image/png": "[encoded data removed]",
      "text/plain": [
       "<Figure size 432x288 with 1 Axes>"
      ]
     },
     "metadata": {
      "needs_background": "light"
     },
     "output_type": "display_data"
    }
   ],
   "source": [
    "import pandas as pd\n",
    "\n",
    "pd.Series(emails).value_counts().plot.barh()"
   ]
  },
  {
   "cell_type": "markdown",
   "metadata": {},
   "source": [
    "Note that some commits look like this:\n",
    "\n",
    "```\n",
    "commit 6f331b977075991eaafc892e2b551e1346cfb396\n",
    "Merge: bdc058d dee374a\n",
    "Author: Tyler Caraza-Harter <tylerharter@users.noreply.github.com>\n",
    "Date:   Wed Feb 10 08:29:15 2021 -0600\n",
    "\n",
    "    Merge pull request #25 from ch-shin/master\n",
    "    \n",
    "    mini.zip update\n",
    "```\n",
    "\n",
    "The \"Author\" email address sometimes corresponds to the person who merged a pull request, not the original author.  Can we find the actual git users behind the pull requests?"
   ]
  },
  {
   "cell_type": "markdown",
   "metadata": {},
   "source": [
    "## 3. Pull Requests"
   ]
  },
  {
   "cell_type": "markdown",
   "metadata": {},
   "source": [
    "Can we extract `ch-shin/master` from text like `Merge pull request #25 from ch-shin/master`, as in the last example of the above section?"
   ]
  },
  {
   "cell_type": "code",
   "execution_count": 10,
   "metadata": {},
   "outputs": [
    {
     "data": {
      "text/plain": [
       "['Merge pull request #28 from GAInTheHouse/master',\n",
       " 'Merge pull request #1 from emmabrostrom/patch',\n",
       " 'Merge pull request #23 from varun19299/master',\n",
       " 'Merge pull request #22 from jaimericart/patch',\n",
       " 'Merge pull request #21 from jaimericart/patch',\n",
       " 'Merge pull request #19 from Cyrannosaurus/patch',\n",
       " 'Merge pull request #18 from tylerharter/newbranch',\n",
       " 'Merge pull request #16 from beninato8/master',\n",
       " 'Merge pull request #13 from tylerharter/p3_handin',\n",
       " 'Merge pull request #15 from beninato8/master',\n",
       " 'Merge pull request #14 from beninato8/master',\n",
       " 'Merge pull request #11 from vmpatil/master',\n",
       " 'Merge pull request #12 from beninato8/master',\n",
       " 'Merge pull request #10 from beninato8/master',\n",
       " 'Merge pull request #8 from beninato8/master',\n",
       " 'Merge pull request #6 from beninato8/master',\n",
       " 'Merge pull request #5 from beninato8/master',\n",
       " 'Merge pull request #2 from beninato8/master',\n",
       " 'Merge pull request #1 from jungerm2/master']"
      ]
     },
     "execution_count": 10,
     "metadata": {},
     "output_type": "execute_result"
    }
   ],
   "source": [
    "re.findall(r\"Merge pull request #\\d+ from \\w+/\\w+\", log)"
   ]
  },
  {
   "cell_type": "markdown",
   "metadata": {},
   "source": [
    "That looks promising!  Let's put some parentheses around key parts, to extract what we want:"
   ]
  },
  {
   "cell_type": "code",
   "execution_count": 11,
   "metadata": {},
   "outputs": [
    {
     "name": "stdout",
     "output_type": "stream",
     "text": [
      "('28', 'GAInTheHouse', 'master')\n",
      "('1', 'emmabrostrom', 'patch')\n",
      "('23', 'varun19299', 'master')\n",
      "('22', 'jaimericart', 'patch')\n",
      "('21', 'jaimericart', 'patch')\n",
      "('19', 'Cyrannosaurus', 'patch')\n",
      "('18', 'tylerharter', 'newbranch')\n",
      "('16', 'beninato8', 'master')\n",
      "('13', 'tylerharter', 'p3_handin')\n",
      "('15', 'beninato8', 'master')\n",
      "('14', 'beninato8', 'master')\n",
      "('11', 'vmpatil', 'master')\n",
      "('12', 'beninato8', 'master')\n",
      "('10', 'beninato8', 'master')\n",
      "('8', 'beninato8', 'master')\n",
      "('6', 'beninato8', 'master')\n",
      "('5', 'beninato8', 'master')\n",
      "('2', 'beninato8', 'master')\n",
      "('1', 'jungerm2', 'master')\n"
     ]
    }
   ],
   "source": [
    "matches = re.findall(r\"Merge pull request #(\\d+) from (\\w+)/(\\w+)\", log)\n",
    "for match in matches:\n",
    "    print(match)\n",
    "    pr = match[0]\n",
    "    user = match[1]\n",
    "    branch = match[2]"
   ]
  },
  {
   "cell_type": "markdown",
   "metadata": {},
   "source": [
    "We're looping over tuples with the three pieces of info we want: commit number, github user, and branch.  We could pull that out with `pr = match[0]` and similar, as in the above example.  Alternatively, Python has a feature called *unpacking* that is useful in such cases.  Instead of `match` on the line we define our `for` loop, we can list the three variables we want to fill from the tuple we are currently looping over."
   ]
  },
  {
   "cell_type": "code",
   "execution_count": 12,
   "metadata": {},
   "outputs": [
    {
     "name": "stdout",
     "output_type": "stream",
     "text": [
      "GAInTheHouse\n",
      "emmabrostrom\n",
      "varun19299\n",
      "jaimericart\n",
      "jaimericart\n",
      "Cyrannosaurus\n",
      "tylerharter\n",
      "beninato8\n",
      "tylerharter\n",
      "beninato8\n",
      "beninato8\n",
      "vmpatil\n",
      "beninato8\n",
      "beninato8\n",
      "beninato8\n",
      "beninato8\n",
      "beninato8\n",
      "beninato8\n",
      "jungerm2\n"
     ]
    }
   ],
   "source": [
    "for pr, user, branch in matches:\n",
    "    print(user)"
   ]
  },
  {
   "cell_type": "markdown",
   "metadata": {},
   "source": [
    "## 4. Dates"
   ]
  },
  {
   "cell_type": "markdown",
   "metadata": {},
   "source": [
    "Look at the date line of a commit entry in the log:\n",
    "    \n",
    "```\n",
    "commit 24c509d20afed69592442f9d1de97131dab6bd3a\n",
    "Author: tylerharter <tylerharter@gmail.com>\n",
    "Date:   Mon Mar 1 15:59:16 2021 -0600\n",
    "\n",
    "    debug 5\n",
    "```\n",
    "\n",
    "We see a date starts with \"Date:\" and some spaces (excluded) and ends with a four digit number, such as \"2021\" (included).  Let's try the match."
   ]
  },
  {
   "cell_type": "code",
   "execution_count": 13,
   "metadata": {},
   "outputs": [
    {
     "data": {
      "text/plain": [
       "['Mon Mar 1 15:59:16 2021 -0600']"
      ]
     },
     "execution_count": 13,
     "metadata": {},
     "output_type": "execute_result"
    }
   ],
   "source": [
    "text = \"Date:   Mon Mar 1 15:59:16 2021 -0600\"\n",
    "re.findall(r\"Date:\\s+(.*\\d{4})\", text)"
   ]
  },
  {
   "cell_type": "markdown",
   "metadata": {},
   "source": [
    "Do you see the problem?  Both `Date:   Mon Mar 1 15:59:16 2021` and `Date:   Mon Mar 1 15:59:16 2021 -0600` could theoretically match (depending on how many characters `.*` matches), as both end in four digits.  `0600` is timezone info, and let's assume we don't want that.\n",
    "\n",
    "By default, the `*` is greedy, meaning it prefers to match more characters.  That's why we got the longer option.  If we use `*?` instead, it will no longer be greedy, and we'll get the shorter version, ending in the four digits of the year."
   ]
  },
  {
   "cell_type": "code",
   "execution_count": 14,
   "metadata": {},
   "outputs": [
    {
     "data": {
      "text/plain": [
       "['Mon Mar 1 15:59:16 2021']"
      ]
     },
     "execution_count": 14,
     "metadata": {},
     "output_type": "execute_result"
    }
   ],
   "source": [
    "text = \"Date:   Mon Mar 1 15:59:16 2021 -0600\"\n",
    "re.findall(r\"Date:\\s+(.*?\\d{4})\", text)"
   ]
  },
  {
   "cell_type": "markdown",
   "metadata": {},
   "source": [
    "Great, now we can test on the original data."
   ]
  },
  {
   "cell_type": "code",
   "execution_count": 15,
   "metadata": {},
   "outputs": [
    {
     "name": "stdout",
     "output_type": "stream",
     "text": [
      "Found 524 dates.  Here are the first 10:\n"
     ]
    },
    {
     "data": {
      "text/plain": [
       "['Mon Mar 1 15:59:16 2021',\n",
       " 'Mon Mar 1 15:26:45 2021',\n",
       " 'Mon Mar 1 15:23:18 2021',\n",
       " 'Mon Mar 1 15:21:34 2021',\n",
       " 'Mon Mar 1 08:44:41 2021',\n",
       " 'Mon Mar 1 08:42:30 2021',\n",
       " 'Mon Mar 1 04:05:58 2021',\n",
       " 'Mon Mar 1 04:03:36 2021',\n",
       " 'Sun Feb 28 00:08:27 2021',\n",
       " 'Sun Feb 28 00:05:01 2021']"
      ]
     },
     "execution_count": 15,
     "metadata": {},
     "output_type": "execute_result"
    }
   ],
   "source": [
    "dates = re.findall(r\"Date:\\s+(.*?\\d{4})\", log)\n",
    "print(f\"Found {len(dates)} dates.  Here are the first 10:\")\n",
    "dates[:10]"
   ]
  },
  {
   "cell_type": "markdown",
   "metadata": {},
   "source": [
    "## Conclusion\n",
    "\n",
    "Regular expressions are very helpful for analyzing logs and other text-based data.  Unfortunately, it's difficult to get a regular expression correct on the first attempt; we made several intuitive mistakes along the way in this reading before arriving at the correct expression.  In such cases, it's difficult to troubleshoot when running on the big dataset, so do what we did here: create some simple examples and revise your regular expression until it works with those.  Then go back and use it on your full dataset."
   ]
  },
  {
   "cell_type": "code",
   "execution_count": null,
   "metadata": {},
   "outputs": [],
   "source": []
  }
 ],
 "metadata": {
  "kernelspec": {
   "display_name": "Python 3",
   "language": "python",
   "name": "python3"
  },
  "language_info": {
   "codemirror_mode": {
    "name": "ipython",
    "version": 3
   },
   "file_extension": ".py",
   "mimetype": "text/x-python",
   "name": "python",
   "nbconvert_exporter": "python",
   "pygments_lexer": "ipython3",
   "version": "3.7.2"
  }
 },
 "nbformat": 4,
 "nbformat_minor": 2
}
