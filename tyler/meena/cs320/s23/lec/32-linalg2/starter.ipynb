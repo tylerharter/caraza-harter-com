{
 "cells": [
  {
   "cell_type": "markdown",
   "id": "dc8a126e",
   "metadata": {},
   "source": [
    "# Predicting with `np.dot` (`@`)\n",
    "\n",
    "1. use case for dot product\n",
    "2. one's column\n",
    "3. matrix dot vector\n",
    "\n",
    "$\\begin{bmatrix}\n",
    "1 & 2 \\\\ 3 & 4\\\\\n",
    "\\end{bmatrix}\n",
    "\\cdot\n",
    "\\begin{bmatrix}\n",
    "10 \\\\ 1 \\\\\n",
    "\\end{bmatrix}$"
   ]
  },
  {
   "cell_type": "code",
   "execution_count": 2,
   "id": "a488e5b8",
   "metadata": {},
   "outputs": [
    {
     "data": {
      "text/html": [
       "<div>\n",
       "<style scoped>\n",
       "    .dataframe tbody tr th:only-of-type {\n",
       "        vertical-align: middle;\n",
       "    }\n",
       "\n",
       "    .dataframe tbody tr th {\n",
       "        vertical-align: top;\n",
       "    }\n",
       "\n",
       "    .dataframe thead th {\n",
       "        text-align: right;\n",
       "    }\n",
       "</style>\n",
       "<table border=\"1\" class=\"dataframe\">\n",
       "  <thead>\n",
       "    <tr style=\"text-align: right;\">\n",
       "      <th></th>\n",
       "      <th>beds</th>\n",
       "      <th>baths</th>\n",
       "      <th>year</th>\n",
       "    </tr>\n",
       "  </thead>\n",
       "  <tbody>\n",
       "    <tr>\n",
       "      <th>0</th>\n",
       "      <td>2</td>\n",
       "      <td>1</td>\n",
       "      <td>1985</td>\n",
       "    </tr>\n",
       "    <tr>\n",
       "      <th>1</th>\n",
       "      <td>3</td>\n",
       "      <td>1</td>\n",
       "      <td>1998</td>\n",
       "    </tr>\n",
       "    <tr>\n",
       "      <th>2</th>\n",
       "      <td>4</td>\n",
       "      <td>3</td>\n",
       "      <td>2005</td>\n",
       "    </tr>\n",
       "    <tr>\n",
       "      <th>3</th>\n",
       "      <td>4</td>\n",
       "      <td>2</td>\n",
       "      <td>2020</td>\n",
       "    </tr>\n",
       "  </tbody>\n",
       "</table>\n",
       "</div>"
      ],
      "text/plain": [
       "   beds  baths  year\n",
       "0     2      1  1985\n",
       "1     3      1  1998\n",
       "2     4      3  2005\n",
       "3     4      2  2020"
      ]
     },
     "execution_count": 2,
     "metadata": {},
     "output_type": "execute_result"
    }
   ],
   "source": [
    "import pandas as pd\n",
    "import numpy as np\n",
    "\n",
    "houses = pd.DataFrame([[2,1,1985],\n",
    "                       [3,1,1998],\n",
    "                       [4,3,2005],\n",
    "                       [4,2,2020]],\n",
    "                      columns=[\"beds\", \"baths\", \"year\"])\n",
    "houses"
   ]
  },
  {
   "cell_type": "code",
   "execution_count": 6,
   "id": "089baeee",
   "metadata": {},
   "outputs": [],
   "source": [
    "# take row (as Series)\n",
    "# return estimated price (in thousands)\n",
    "def predict_price(house):\n",
    "    return ((house[\"beds\"]*42.3) + (house[\"baths\"]*10) + \n",
    "            (house[\"year\"]*1.67) - 3213)"
   ]
  },
  {
   "cell_type": "markdown",
   "id": "9d37347d",
   "metadata": {},
   "source": [
    "# Fitting with `np.solve`"
   ]
  },
  {
   "cell_type": "markdown",
   "id": "fe3174f5",
   "metadata": {},
   "source": [
    "**Above:** we estimated house prices using a linear model based on the dot product as follows:\n",
    "\n",
    "$Xc = y$\n",
    "\n",
    "* $X$ (known) is a matrix with house features (from DataFrame)\n",
    "* $c$ (known) is a vector of coefficients (our model parameters)\n",
    "* $y$ (computed) are the prices\n",
    "\n",
    "**Below:** what if X and y are know, and we want to find c?"
   ]
  },
  {
   "cell_type": "code",
   "execution_count": 14,
   "id": "4572020d",
   "metadata": {},
   "outputs": [
    {
     "data": {
      "text/html": [
       "<div>\n",
       "<style scoped>\n",
       "    .dataframe tbody tr th:only-of-type {\n",
       "        vertical-align: middle;\n",
       "    }\n",
       "\n",
       "    .dataframe tbody tr th {\n",
       "        vertical-align: top;\n",
       "    }\n",
       "\n",
       "    .dataframe thead th {\n",
       "        text-align: right;\n",
       "    }\n",
       "</style>\n",
       "<table border=\"1\" class=\"dataframe\">\n",
       "  <thead>\n",
       "    <tr style=\"text-align: right;\">\n",
       "      <th></th>\n",
       "      <th>beds</th>\n",
       "      <th>baths</th>\n",
       "      <th>year</th>\n",
       "      <th>price</th>\n",
       "    </tr>\n",
       "  </thead>\n",
       "  <tbody>\n",
       "    <tr>\n",
       "      <th>0</th>\n",
       "      <td>2</td>\n",
       "      <td>1</td>\n",
       "      <td>1985</td>\n",
       "      <td>196.55</td>\n",
       "    </tr>\n",
       "    <tr>\n",
       "      <th>1</th>\n",
       "      <td>3</td>\n",
       "      <td>1</td>\n",
       "      <td>1998</td>\n",
       "      <td>260.56</td>\n",
       "    </tr>\n",
       "    <tr>\n",
       "      <th>2</th>\n",
       "      <td>4</td>\n",
       "      <td>3</td>\n",
       "      <td>2005</td>\n",
       "      <td>334.55</td>\n",
       "    </tr>\n",
       "    <tr>\n",
       "      <th>3</th>\n",
       "      <td>4</td>\n",
       "      <td>2</td>\n",
       "      <td>2020</td>\n",
       "      <td>349.60</td>\n",
       "    </tr>\n",
       "  </tbody>\n",
       "</table>\n",
       "</div>"
      ],
      "text/plain": [
       "   beds  baths  year   price\n",
       "0     2      1  1985  196.55\n",
       "1     3      1  1998  260.56\n",
       "2     4      3  2005  334.55\n",
       "3     4      2  2020  349.60"
      ]
     },
     "execution_count": 14,
     "metadata": {},
     "output_type": "execute_result"
    }
   ],
   "source": [
    "houses = pd.DataFrame([[2,1,1985,196.55],\n",
    "                       [3,1,1998,260.56],\n",
    "                       [4,3,2005,334.55],\n",
    "                       [4,2,2020,349.60]],\n",
    "                      columns=[\"beds\", \"baths\", \"year\", \"price\"])\n",
    "houses"
   ]
  },
  {
   "cell_type": "markdown",
   "id": "c3f5e71a",
   "metadata": {},
   "source": [
    "If we assume price is linearly based on the features, with this equation:\n",
    "\n",
    "* $beds*c_0 + baths*c_1 + year*c_2 + 1*c_3 = price$\n",
    "\n",
    "Then we get four equations:\n",
    "\n",
    "* $2*c_0 + 1*c_1 + 1985*c_2 + 1*c_3 = 196.55$\n",
    "* $3*c_0 + 1*c_1 + 1998*c_2 + 1*c_3 = 260.56$\n",
    "* $4*c_0 + 3*c_1 + 2005*c_2 + 1*c_3 = 334.55$\n",
    "* $4*c_0 + 2*c_1 + 2020*c_2 + 1*c_3 = 349.60$"
   ]
  },
  {
   "cell_type": "markdown",
   "id": "82d09a77",
   "metadata": {},
   "source": [
    "# Two Perspectives on `Matrix @ vector`"
   ]
  },
  {
   "cell_type": "markdown",
   "id": "85f3d5f2",
   "metadata": {},
   "source": [
    "$\\begin{bmatrix}\n",
    "4&5\\\\6&7\\\\8&9\\\\\n",
    "\\end{bmatrix}\n",
    "\\cdot\n",
    "\\begin{bmatrix}\n",
    "2\\\\3\\\\\n",
    "\\end{bmatrix}\n",
    "= ????\n",
    "$"
   ]
  },
  {
   "cell_type": "code",
   "execution_count": 27,
   "id": "052aa536",
   "metadata": {},
   "outputs": [
    {
     "data": {
      "text/plain": [
       "array([[23],\n",
       "       [33],\n",
       "       [43]])"
      ]
     },
     "execution_count": 27,
     "metadata": {},
     "output_type": "execute_result"
    }
   ],
   "source": [
    "X = np.array([[4,5], [6,7], [8,9]])\n",
    "c = np.array([2, 3]).reshape(-1,1)\n",
    "X @ c"
   ]
  },
  {
   "cell_type": "markdown",
   "id": "2d78caf4",
   "metadata": {},
   "source": [
    "## Row Picture\n",
    "\n",
    "Do dot product one row at a time.\n",
    "\n",
    "$\\begin{bmatrix}\n",
    "4&5\\\\6&7\\\\8&9\\\\\n",
    "\\end{bmatrix}\n",
    "\\cdot\n",
    "\\begin{bmatrix}\n",
    "2\\\\3\\\\\n",
    "\\end{bmatrix}\n",
    "=\n",
    "\\begin{bmatrix}\n",
    "(4*2)+(5*3)\\\\\n",
    "(6*2)+(7*3)\\\\\n",
    "(8*2)+(9*3)\\\\\n",
    "\\end{bmatrix}\n",
    "=\n",
    "\\begin{bmatrix}\n",
    "23\\\\\n",
    "33\\\\\n",
    "43\\\\\n",
    "\\end{bmatrix}\n",
    "$"
   ]
  },
  {
   "cell_type": "code",
   "execution_count": null,
   "id": "603d4ad4",
   "metadata": {},
   "outputs": [],
   "source": []
  },
  {
   "cell_type": "markdown",
   "id": "08ff440a",
   "metadata": {},
   "source": [
    "## Column Picture\n",
    "\n",
    "$\\begin{bmatrix}\n",
    "c_0&c_1&c_2\\\\\n",
    "\\end{bmatrix}\n",
    "\\cdot\n",
    "\\begin{bmatrix}\n",
    "x\\\\y\\\\z\\\\\n",
    "\\end{bmatrix}\n",
    "=(c_0*x) + (c_1*y) + (c_2*z)\n",
    "$\n",
    "\n",
    "Dot product takes a **linear combination** of columns.\n",
    "\n",
    "$\\begin{bmatrix}\n",
    "4&5\\\\6&7\\\\8&9\\\\\n",
    "\\end{bmatrix}\n",
    "\\cdot\n",
    "\\begin{bmatrix}\n",
    "2\\\\3\\\\\n",
    "\\end{bmatrix}\n",
    "=\n",
    "\\begin{bmatrix}\n",
    "4\\\\6\\\\8\\\\\n",
    "\\end{bmatrix}*2\n",
    "+\n",
    "\\begin{bmatrix}\n",
    "5\\\\7\\\\9\\\\\n",
    "\\end{bmatrix}*3\n",
    "=\n",
    "\\begin{bmatrix}\n",
    "23\\\\\n",
    "33\\\\\n",
    "43\\\\\n",
    "\\end{bmatrix}\n",
    "$"
   ]
  },
  {
   "cell_type": "code",
   "execution_count": null,
   "id": "7ca645fb",
   "metadata": {},
   "outputs": [],
   "source": []
  }
 ],
 "metadata": {
  "kernelspec": {
   "display_name": "Python 3 (ipykernel)",
   "language": "python",
   "name": "python3"
  },
  "language_info": {
   "codemirror_mode": {
    "name": "ipython",
    "version": 3
   },
   "file_extension": ".py",
   "mimetype": "text/x-python",
   "name": "python",
   "nbconvert_exporter": "python",
   "pygments_lexer": "ipython3",
   "version": "3.8.10"
  }
 },
 "nbformat": 4,
 "nbformat_minor": 5
}
