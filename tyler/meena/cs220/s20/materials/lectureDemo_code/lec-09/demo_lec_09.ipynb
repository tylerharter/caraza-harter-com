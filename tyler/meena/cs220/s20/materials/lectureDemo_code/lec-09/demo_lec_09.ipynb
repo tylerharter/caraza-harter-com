{
 "cells": [
  {
   "cell_type": "code",
   "execution_count": 10,
   "metadata": {},
   "outputs": [],
   "source": [
    "def absolute_v1(x):\n",
    "    return (x ** 2) ** 0.5"
   ]
  },
  {
   "cell_type": "code",
   "execution_count": 11,
   "metadata": {},
   "outputs": [
    {
     "name": "stdout",
     "output_type": "stream",
     "text": [
      "4.0\n",
      "4.0\n"
     ]
    }
   ],
   "source": [
    "print(absolute_v1(-4))\n",
    "print(absolute_v1(4))"
   ]
  },
  {
   "cell_type": "code",
   "execution_count": 12,
   "metadata": {},
   "outputs": [],
   "source": [
    "def absolute_v2(x):\n",
    "    if x < 0:\n",
    "        x = -x\n",
    "    return x"
   ]
  },
  {
   "cell_type": "code",
   "execution_count": 13,
   "metadata": {},
   "outputs": [
    {
     "name": "stdout",
     "output_type": "stream",
     "text": [
      "4\n",
      "4\n"
     ]
    }
   ],
   "source": [
    "print(absolute_v2(-4))\n",
    "print(absolute_v2(4))"
   ]
  },
  {
   "cell_type": "code",
   "execution_count": 14,
   "metadata": {},
   "outputs": [],
   "source": [
    "def absolute_v3(x):\n",
    "    if x < 0:\n",
    "        return -x\n",
    "    else:\n",
    "        return x"
   ]
  },
  {
   "cell_type": "code",
   "execution_count": 15,
   "metadata": {},
   "outputs": [
    {
     "name": "stdout",
     "output_type": "stream",
     "text": [
      "4\n",
      "4\n"
     ]
    }
   ],
   "source": [
    "print(absolute_v3(-4))\n",
    "print(absolute_v3(4))"
   ]
  },
  {
   "cell_type": "code",
   "execution_count": 16,
   "metadata": {},
   "outputs": [],
   "source": [
    "def absolute_v4(x):\n",
    "    if x < 0:\n",
    "        return -x\n",
    "    # else: (Implicit case)\n",
    "    return x"
   ]
  },
  {
   "cell_type": "code",
   "execution_count": 17,
   "metadata": {},
   "outputs": [
    {
     "name": "stdout",
     "output_type": "stream",
     "text": [
      "4\n",
      "4\n"
     ]
    }
   ],
   "source": [
    "print(absolute_v4(-4))\n",
    "print(absolute_v4(4))"
   ]
  },
  {
   "cell_type": "code",
   "execution_count": 18,
   "metadata": {},
   "outputs": [],
   "source": [
    "def f(x):\n",
    "    if x < -2:\n",
    "        return 2\n",
    "    else:\n",
    "        if x < 0:\n",
    "            #Does this run when x is -10? No, because exactly\n",
    "            #-10 satifies the if condition, hence elif will not\n",
    "            #be evaluated for -10 (exactly one branch gets executed)\n",
    "            return -x\n",
    "        else:\n",
    "            return int(x)"
   ]
  },
  {
   "cell_type": "code",
   "execution_count": 19,
   "metadata": {},
   "outputs": [
    {
     "name": "stdout",
     "output_type": "stream",
     "text": [
      "2\n",
      "2\n",
      "30\n",
      "1\n",
      "3\n",
      "10\n"
     ]
    }
   ],
   "source": [
    "print(f(-10))\n",
    "print(f(-20))\n",
    "print(f(30.5))\n",
    "print(f(-1))\n",
    "print(f(3))\n",
    "print(f(10))"
   ]
  },
  {
   "cell_type": "code",
   "execution_count": 20,
   "metadata": {},
   "outputs": [],
   "source": [
    "def f(x):\n",
    "    if x < -2:\n",
    "        return 2\n",
    "    elif x < 0:\n",
    "        return -x\n",
    "    else:\n",
    "        return int(x)"
   ]
  },
  {
   "cell_type": "code",
   "execution_count": 21,
   "metadata": {},
   "outputs": [
    {
     "name": "stdout",
     "output_type": "stream",
     "text": [
      "2\n",
      "2\n",
      "30\n",
      "1\n",
      "3\n",
      "10\n"
     ]
    }
   ],
   "source": [
    "print(f(-10))\n",
    "print(f(-20))\n",
    "print(f(30.5))\n",
    "print(f(-1))\n",
    "print(f(3))\n",
    "print(f(10))"
   ]
  },
  {
   "cell_type": "code",
   "execution_count": null,
   "metadata": {},
   "outputs": [],
   "source": []
  }
 ],
 "metadata": {
  "kernelspec": {
   "display_name": "Python 3",
   "language": "python",
   "name": "python3"
  },
  "language_info": {
   "codemirror_mode": {
    "name": "ipython",
    "version": 3
   },
   "file_extension": ".py",
   "mimetype": "text/x-python",
   "name": "python",
   "nbconvert_exporter": "python",
   "pygments_lexer": "ipython3",
   "version": "3.7.3"
  }
 },
 "nbformat": 4,
 "nbformat_minor": 2
}
