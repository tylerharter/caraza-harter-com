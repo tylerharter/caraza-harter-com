{
 "cells": [
  {
   "cell_type": "code",
   "execution_count": 1,
   "metadata": {},
   "outputs": [],
   "source": [
    "def stop_light(color, distance):\n",
    "    if color == \"red\":\n",
    "        if distance < 15:\n",
    "            return \"hit the gas\"\n",
    "        else:\n",
    "            return \"stop abruptly\"\n",
    "    elif color == \"yellow\":\n",
    "        if distance < 30:\n",
    "            return \"continue at the same speed\"\n",
    "        else:\n",
    "            return \"stop\"\n",
    "    elif color == \"green\":\n",
    "        return \"smile\"\n",
    "    else:\n",
    "        return \"Invalid color!\""
   ]
  },
  {
   "cell_type": "code",
   "execution_count": 2,
   "metadata": {},
   "outputs": [
    {
     "name": "stdout",
     "output_type": "stream",
     "text": [
      "smile\n",
      "hit the gas\n",
      "stop abruptly\n",
      "stop\n",
      "continue at the same speed\n"
     ]
    }
   ],
   "source": [
    "print(stop_light(\"green\", 30))\n",
    "print(stop_light(\"red\", 10))\n",
    "print(stop_light(\"red\", 15))\n",
    "print(stop_light(\"yellow\", 40))\n",
    "print(stop_light(\"yellow\", 29))"
   ]
  },
  {
   "cell_type": "code",
   "execution_count": 3,
   "metadata": {},
   "outputs": [
    {
     "name": "stdout",
     "output_type": "stream",
     "text": [
      "Invalid color!\n"
     ]
    }
   ],
   "source": [
    "print(stop_light(\"rad\", 30))"
   ]
  },
  {
   "cell_type": "code",
   "execution_count": 4,
   "metadata": {},
   "outputs": [],
   "source": [
    "def format_month(month):\n",
    "    if month == 1:\n",
    "        return \"Jan\"\n",
    "    elif month == 2:\n",
    "        return \"Feb\"\n",
    "    elif month == 3:\n",
    "        return \"Mar\"\n",
    "    elif month == 4:\n",
    "        return \"Apr\"\n",
    "    elif month == 5:\n",
    "        return \"May\"\n",
    "    elif month == 6:\n",
    "        return \"Jun\"\n",
    "    elif month == 7:\n",
    "        return \"Jul\"\n",
    "    elif month == 8:\n",
    "        return \"Aug\"\n",
    "    elif month == 9:\n",
    "        return \"Sep\"\n",
    "    elif month == 10:\n",
    "        return \"Oct\"\n",
    "    elif month == 11:\n",
    "        return \"Nov\"\n",
    "    elif month == 12:\n",
    "        return \"Dec\"\n",
    "    else:\n",
    "        return \"Invalid value!\""
   ]
  },
  {
   "cell_type": "code",
   "execution_count": 5,
   "metadata": {},
   "outputs": [],
   "source": [
    "def format_day(day):\n",
    "    #For the purpose of date conversaion this simple condition will work.\n",
    "    #For a more generic number handling see the below function.\n",
    "    if 10 <= day <= 20:\n",
    "        return str(day) + \"th\"\n",
    "    elif day % 10 == 1:\n",
    "        return str(day) + \"st\"\n",
    "    elif day % 10 == 2:\n",
    "        return str(day) + \"nd\"\n",
    "    elif day % 10 == 3:\n",
    "        return str(day) + \"rd\"\n",
    "    else:\n",
    "        return str(day) + \"th\""
   ]
  },
  {
   "cell_type": "code",
   "execution_count": 6,
   "metadata": {},
   "outputs": [],
   "source": [
    "def format_num(num):\n",
    "    if 10 <= num % 100 <= 20:\n",
    "        return str(num) + \"th\"\n",
    "    elif num % 10 == 1:\n",
    "        return str(num) + \"st\"\n",
    "    elif num % 10 == 2:\n",
    "        return str(num) + \"nd\"\n",
    "    elif num % 10 == 3:\n",
    "        return str(num) + \"rd\"\n",
    "    else:\n",
    "        return str(num) + \"th\""
   ]
  },
  {
   "cell_type": "code",
   "execution_count": 7,
   "metadata": {},
   "outputs": [
    {
     "name": "stdout",
     "output_type": "stream",
     "text": [
      "111th\n",
      "1111th\n",
      "111st\n",
      "1111st\n"
     ]
    }
   ],
   "source": [
    "#Generic number handling function\n",
    "print(format_num(111))\n",
    "print(format_num(1111))\n",
    "\n",
    "#Date specific function\n",
    "print(format_day(111))\n",
    "print(format_day(1111))"
   ]
  },
  {
   "cell_type": "code",
   "execution_count": 8,
   "metadata": {},
   "outputs": [],
   "source": [
    "def format_date(year, month, day):        \n",
    "    dateStr = \"\"\n",
    "    dateStr += format_month(month)\n",
    "    dateStr += \" \"\n",
    "    dateStr += format_day(day)\n",
    "    dateStr += \" \"\n",
    "    dateStr += \"of '\" + str(year % 1000)\n",
    "    \n",
    "    return dateStr"
   ]
  },
  {
   "cell_type": "code",
   "execution_count": 9,
   "metadata": {},
   "outputs": [
    {
     "data": {
      "text/plain": [
       "\"Feb 12th of '20\""
      ]
     },
     "execution_count": 9,
     "metadata": {},
     "output_type": "execute_result"
    }
   ],
   "source": [
    "format_date(2020, 2, 12)"
   ]
  }
 ],
 "metadata": {
  "kernelspec": {
   "display_name": "Python 3",
   "language": "python",
   "name": "python3"
  },
  "language_info": {
   "codemirror_mode": {
    "name": "ipython",
    "version": 3
   },
   "file_extension": ".py",
   "mimetype": "text/x-python",
   "name": "python",
   "nbconvert_exporter": "python",
   "pygments_lexer": "ipython3",
   "version": "3.7.3"
  }
 },
 "nbformat": 4,
 "nbformat_minor": 2
}
