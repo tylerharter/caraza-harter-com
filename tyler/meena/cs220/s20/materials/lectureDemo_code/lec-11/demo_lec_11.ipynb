{
 "cells": [
  {
   "cell_type": "code",
   "execution_count": 1,
   "metadata": {},
   "outputs": [],
   "source": [
    "import math"
   ]
  },
  {
   "cell_type": "code",
   "execution_count": 2,
   "metadata": {},
   "outputs": [
    {
     "name": "stdout",
     "output_type": "stream",
     "text": [
      "0\n",
      "1\n",
      "2\n",
      "3\n",
      "4\n",
      "5\n",
      "6\n",
      "7\n",
      "8\n",
      "9\n"
     ]
    }
   ],
   "source": [
    "#Count from 0 to 9, printing each number\n",
    "count = 0\n",
    "\n",
    "while count <= 9:\n",
    "    print(count)\n",
    "    count += 1"
   ]
  },
  {
   "cell_type": "code",
   "execution_count": 3,
   "metadata": {},
   "outputs": [
    {
     "name": "stdout",
     "output_type": "stream",
     "text": [
      "3\n",
      "2\n",
      "1\n",
      "0\n",
      "-1\n",
      "-2\n",
      "-3\n"
     ]
    }
   ],
   "source": [
    "#Count from 3 to -3, printing each number\n",
    "count = 3\n",
    "\n",
    "while count >= -3:\n",
    "    print(count)\n",
    "    count -= 1"
   ]
  },
  {
   "cell_type": "code",
   "execution_count": 4,
   "metadata": {},
   "outputs": [],
   "source": [
    "def f(x):\n",
    "    #Try out both the definitions of this function\n",
    "    #return 5 - (x - 2) ** 2\n",
    "    return 5 - (x - 2.5) ** 2"
   ]
  },
  {
   "cell_type": "code",
   "execution_count": 5,
   "metadata": {},
   "outputs": [
    {
     "name": "stdout",
     "output_type": "stream",
     "text": [
      "2.75\n",
      "5.0\n"
     ]
    }
   ],
   "source": [
    "print(f(1))\n",
    "print(f(2.5))"
   ]
  },
  {
   "cell_type": "code",
   "execution_count": 6,
   "metadata": {},
   "outputs": [
    {
     "name": "stdout",
     "output_type": "stream",
     "text": [
      "Best x is 2.49999999998779\n",
      "Best y is 5.0\n"
     ]
    }
   ],
   "source": [
    "#Find the x that maximizes the y = f(x)\n",
    "\n",
    "x = -5\n",
    "# goal: after the loop, best_x and best_y should contain just that\n",
    "best_x = x\n",
    "best_y = f(x)  # at any time, this is the BEST SO FAR\n",
    "\n",
    "while x <= 5:\n",
    "    y = f(x)\n",
    "    if y >= best_y:\n",
    "        best_x = x\n",
    "        best_y = y\n",
    "    #Try out increasing increments, make sure to comment the other increment\n",
    "    #x += 1\n",
    "    #x += 0.1\n",
    "    #x += 0.01\n",
    "    x += 0.00001\n",
    "    \n",
    "print(\"Best x is\", best_x)\n",
    "print(\"Best y is\", best_y)"
   ]
  },
  {
   "cell_type": "code",
   "execution_count": 8,
   "metadata": {},
   "outputs": [
    {
     "name": "stdout",
     "output_type": "stream",
     "text": [
      "Area found using approximation 3.1425795065738185\n",
      "Actual are 3.141592653589793\n"
     ]
    }
   ],
   "source": [
    "# Find the area of a quarter circle with radius 2\n",
    "\n",
    "#Try out increasing values of width, make sure to comment the other width values\n",
    "#w = 1\n",
    "#w = 0.1\n",
    "#w = 0.01\n",
    "w = 0.001\n",
    "x = 0\n",
    "radius = 2\n",
    "total_area = 0\n",
    "\n",
    "while x < radius:\n",
    "    angle = math.acos(x / radius)\n",
    "    y = math.sin(angle) * radius\n",
    "    rect_area = w * y\n",
    "    total_area += rect_area\n",
    "    x += w\n",
    "    \n",
    "print(\"Area found using approximation\", total_area)\n",
    "print(\"Actual are\", (math.pi * radius ** 2) / 4)"
   ]
  },
  {
   "cell_type": "code",
   "execution_count": 9,
   "metadata": {},
   "outputs": [],
   "source": [
    "# Find primes\n",
    "\n",
    "def isPrime(num):\n",
    "    # try all divisors from 2 to num - 1 to check if num is prime\n",
    "    divisor = 2\n",
    "    while divisor < num:\n",
    "        # check if num is divisible by divisor\n",
    "        if num % divisor == 0:\n",
    "            return False\n",
    "        divisor += 1\n",
    "    return True"
   ]
  },
  {
   "cell_type": "code",
   "execution_count": 10,
   "metadata": {},
   "outputs": [
    {
     "data": {
      "text/plain": [
       "True"
      ]
     },
     "execution_count": 10,
     "metadata": {},
     "output_type": "execute_result"
    }
   ],
   "source": [
    "isPrime(7)"
   ]
  },
  {
   "cell_type": "code",
   "execution_count": 11,
   "metadata": {},
   "outputs": [
    {
     "data": {
      "text/plain": [
       "False"
      ]
     },
     "execution_count": 11,
     "metadata": {},
     "output_type": "execute_result"
    }
   ],
   "source": [
    "isPrime(16)"
   ]
  },
  {
   "cell_type": "code",
   "execution_count": 12,
   "metadata": {},
   "outputs": [
    {
     "data": {
      "text/plain": [
       "True"
      ]
     },
     "execution_count": 12,
     "metadata": {},
     "output_type": "execute_result"
    }
   ],
   "source": [
    "isPrime(23)"
   ]
  },
  {
   "cell_type": "code",
   "execution_count": 13,
   "metadata": {},
   "outputs": [
    {
     "data": {
      "text/plain": [
       "False"
      ]
     },
     "execution_count": 13,
     "metadata": {},
     "output_type": "execute_result"
    }
   ],
   "source": [
    "isPrime(1000000)"
   ]
  },
  {
   "cell_type": "code",
   "execution_count": null,
   "metadata": {},
   "outputs": [],
   "source": []
  }
 ],
 "metadata": {
  "kernelspec": {
   "display_name": "Python 3",
   "language": "python",
   "name": "python3"
  },
  "language_info": {
   "codemirror_mode": {
    "name": "ipython",
    "version": 3
   },
   "file_extension": ".py",
   "mimetype": "text/x-python",
   "name": "python",
   "nbconvert_exporter": "python",
   "pygments_lexer": "ipython3",
   "version": "3.7.3"
  }
 },
 "nbformat": 4,
 "nbformat_minor": 2
}
