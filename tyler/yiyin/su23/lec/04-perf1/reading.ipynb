{
 "cells": [
  {
   "attachments": {},
   "cell_type": "markdown",
   "metadata": {},
   "source": [
    "# Complexity Analysis\n",
    "\n",
    "*Performance* refers to how fast our code run; we've been measuring it and thinking about it at an intuitive level.  *Complexity analysis* is a formal theory for thinking about some aspects of performance.\n",
    "\n",
    "Here are a few things that often affect performance:\n",
    "* speed of the computer (CPU, etc)\n",
    "* speed of Python interpreter (quality+efficiency of interpretation)\n",
    "* algorithm: strategy for solving the problem\n",
    "* input size: how much data do we have?\n",
    "\n",
    "Computers and the Python interpreters that run our programs may tend to get faster over time, and our code will run faster as a result.\n",
    "\n",
    "Complexity analysis is interested only in those last two parts and the relationship between them.  *How much work does a given algorithm need to do to complete a task, as a function of the input size?*\n",
    "\n",
    "An *algorithm* is a bit more general than code.  It's a description of the steps that must be performed to complete the task.  We might *implement\" an algorithm in different languages.  For example, here's an algorithm for finding the biggest number in a list:\n",
    "\n",
    "<pre>\n",
    "Take a list, and set x to be the first item in that list.\n",
    "Iterate over each item in the list, putting each value in y:\n",
    "    if y is bigger than x, then set x equal to y\n",
    "Output x, as the biggest number in the list\n",
    "</pre>\n",
    "\n",
    "We could convert that to Python code:"
   ]
  },
  {
   "cell_type": "code",
   "execution_count": 3,
   "metadata": {},
   "outputs": [
    {
     "data": {
      "text/plain": [
       "9"
      ]
     },
     "execution_count": 3,
     "metadata": {},
     "output_type": "execute_result"
    }
   ],
   "source": [
    "nums = [5,3,2,9,8]\n",
    "x = nums[0]\n",
    "for y in nums:\n",
    "    if y > x:\n",
    "        x = y\n",
    "x"
   ]
  },
  {
   "attachments": {},
   "cell_type": "markdown",
   "metadata": {},
   "source": [
    "The algorithm is more general than this specific Python code -- you could imagine implementing the same algorithm in the code of another programming language (C, Go, JavaScript, etc).\n",
    "\n",
    "Complexity analysis is interested in how much \"work\" needs to be done, as the \"input size\" increases.  We'll postpone talking about how to measure \"work\" in terms of \"steps.\"  Input size can be defined on a case-by-case basis.  Here, we could say the input size is $N$, where `N = len(nums)`.  We could also use other variable names (though N is most common), or multiple variables.  For other algorithms, there might be other ways to measure the input size that make more sense, like the size of a file, length of a string, or number of entries in a dictionary."
   ]
  },
  {
   "attachments": {},
   "cell_type": "markdown",
   "metadata": {},
   "source": [
    "## Big O\n",
    "\n",
    "Big-O notation is a mathematical way of communicating how quickly the outputs of a function grow as the inputs grow.  This will be useful because we will eventually have functions like $y = f(x)$, where $f$ is a function that tells us how much work our algorithm must do ($y$ will be the number of \"steps\" -- defined later; $x$ will be the size of the input, such as the length of a list).\n",
    "\n",
    "Big-O notation allows us to broadly categorize functions into sets, so we'll use set notation.  For example, $f(x) \\in O(N^2)$ means that the $f$ function is in the $O(N^2)$ set (to be defined soon).  Confusingly, other resources you might find use the notation $f(x) = O(N^2)$, replacing the $\\in$ with $=$.\n",
    "\n",
    "Big-O sets are fairly broad.  For example, all straight lines belong to the same set.  Lets see this intuitively before we give a definition:"
   ]
  },
  {
   "cell_type": "code",
   "execution_count": 4,
   "metadata": {},
   "outputs": [
    {
     "ename": "ModuleNotFoundError",
     "evalue": "No module named 'matplotlib'",
     "output_type": "error",
     "traceback": [
      "\u001b[0;31m---------------------------------------------------------------------------\u001b[0m",
      "\u001b[0;31mModuleNotFoundError\u001b[0m                       Traceback (most recent call last)",
      "Cell \u001b[0;32mIn[4], line 2\u001b[0m\n\u001b[1;32m      1\u001b[0m \u001b[39mimport\u001b[39;00m \u001b[39mpandas\u001b[39;00m \u001b[39mas\u001b[39;00m \u001b[39mpd\u001b[39;00m\n\u001b[0;32m----> 2\u001b[0m \u001b[39mimport\u001b[39;00m \u001b[39mmatplotlib\u001b[39;00m\u001b[39m.\u001b[39;00m\u001b[39mpyplot\u001b[39;00m \u001b[39mas\u001b[39;00m \u001b[39mplt\u001b[39;00m\n\u001b[1;32m      3\u001b[0m get_ipython()\u001b[39m.\u001b[39mrun_line_magic(\u001b[39m'\u001b[39m\u001b[39mmatplotlib\u001b[39m\u001b[39m'\u001b[39m, \u001b[39m'\u001b[39m\u001b[39minline\u001b[39m\u001b[39m'\u001b[39m)\n\u001b[1;32m      4\u001b[0m plt\u001b[39m.\u001b[39mrcParams[\u001b[39m\"\u001b[39m\u001b[39mfont.size\u001b[39m\u001b[39m\"\u001b[39m] \u001b[39m=\u001b[39m \u001b[39m16\u001b[39m\n",
      "\u001b[0;31mModuleNotFoundError\u001b[0m: No module named 'matplotlib'"
     ]
    }
   ],
   "source": [
    "import pandas as pd\n",
    "import matplotlib.pyplot as plt\n",
    "%matplotlib inline\n",
    "plt.rcParams[\"font.size\"] = 16\n",
    "\n",
    "# add functions to DataFrame\n",
    "df = pd.DataFrame({\"N\": range(1, 7)})\n",
    "df[\"A(N)=N\"] = df[\"N\"]\n",
    "df[\"B(N)=N+15\"] = df[\"N\"] + 15\n",
    "df[\"C(N)=3*N\"] = 3 * df[\"N\"]\n",
    "df[\"D(N)=5*N\"] = 5 * df[\"N\"]\n",
    "df[\"E(N)=N**2\"] = df[\"N\"] ** 2\n",
    "df.set_index(\"N\", inplace=True)\n",
    "\n",
    "# plot functions A to E\n",
    "ax = df.plot.line()\n",
    "ax.set_ylabel(\"y\")\n",
    "\n",
    "# clean up plot...\n",
    "for label, y in df.iloc[-1].items():\n",
    "    ax.text(6.1, y, label, va=\"center\")\n",
    "ax.spines[\"top\"].set_visible(False)\n",
    "ax.spines[\"right\"].set_visible(False)\n",
    "ax.get_legend().remove()"
   ]
  },
  {
   "attachments": {},
   "cell_type": "markdown",
   "metadata": {},
   "source": [
    "Even though function B and C are \"bigger\" than function A, Big O will categorize them as being in the same set of functions, as they are all the same shape (straight lines).  Big-O notation **does not care** about the following:\n",
    "\n",
    "* if you add a fixed amount to a function (for example, line B is just line A shifted up)\n",
    "* if you multiple a function by a constant (for example, line C is just line A multiplied by 3)\n",
    "\n",
    "To formalize this a bit, Big-O analysis says if we want to claim function $y=f(x)$ belongs to the same set as as $y=g(x)$, we can multiply the g function by some constant to create a new function, then show that $y=f(x)$ is beneath the new function.  For example, line D is line A multiplied by a constant (in this case 5, though we could have chosen any constant we liked).  E is above line C, therefore C is in the same complexity set as A.  We're also allowed to only look at large N values (above a threshold of our choosing), so B is also in the same complexity set as A because the B line is beneath the E line for all N values of 4 or greater.\n",
    "\n",
    "In contrast, E is not beneath line D.  Of course, we could have used a different constant multiple on the A line to produce the D line, such as $D(N) = 999999*N$.  However, it doesn't matter what constant we use.  We'll still end up with a straight line, and no matter how steep it is, the E line will eventually surpass it because E's line keeps getting steeper and steeper.  E is NOT in A's complexity class -- it's y values fundamentally grow faster as N increases.\n",
    "\n",
    "Let's write a more precise mathematical definition to capture this intuition:\n",
    "\n",
    "**Definition:** If $f(N) \\le C * g(N)$ for large N values and some fixed constant C, then $f(N) \\in O(g(N))$.\n",
    "\n",
    "How does categorizing functions into complexity classes/set relate to algorithm performance?  Let's look at the previous plot again, with some new labels:"
   ]
  },
  {
   "cell_type": "code",
   "execution_count": null,
   "metadata": {},
   "outputs": [
    {
     "data": {
      "image/png": "[encoded data removed]",
      "text/plain": [
       "<Figure size 432x288 with 1 Axes>"
      ]
     },
     "metadata": {
      "needs_background": "light"
     },
     "output_type": "display_data"
    }
   ],
   "source": [
    "# add functions to DataFrame\n",
    "df = pd.DataFrame({\"N\": range(1, 7)})\n",
    "df[\"Algorithm A\"] = df[\"N\"]\n",
    "df[\"Algorithm B\"] = df[\"N\"] + 15\n",
    "df[\"Algorithm C\"] = 3 * df[\"N\"]\n",
    "df[\"Algorithm D\"] = 5 * df[\"N\"]\n",
    "df[\"Algorithm E\"] = df[\"N\"] ** 2\n",
    "df.set_index(\"N\", inplace=True)\n",
    "\n",
    "# plot functions A to E\n",
    "ax = df.plot.line()\n",
    "ax.set_ylabel('Total Work (number of \"steps\")')\n",
    "ax.set_xlabel(\"N (size if input)\")\n",
    "\n",
    "# clean up plot...\n",
    "for label, y in df.iloc[-1].items():\n",
    "    ax.text(6.1, y, label, va=\"center\")\n",
    "ax.spines[\"top\"].set_visible(False)\n",
    "ax.spines[\"right\"].set_visible(False)\n",
    "ax.get_legend().remove()"
   ]
  },
  {
   "attachments": {},
   "cell_type": "markdown",
   "metadata": {},
   "source": [
    "Each function corresponds to an algorithm and tells us how many \"steps\" (defined next) the algorithm will need to perfom in order to complete a task, given an input size."
   ]
  },
  {
   "attachments": {},
   "cell_type": "markdown",
   "metadata": {},
   "source": [
    "## Steps\n",
    "\n",
    "In the above section, you may be wondering why you would want to classify function/algorithm A as having the same computational complexity as function/algorithm B.  Isn't B much slower because it does more steps?  Not necessarily: it turns out there's not one correct way to count steps, and it's allowed for some steps to be slower than others.  Our only restriction is as follows:\n",
    "\n",
    "**Definition:** A *step* is any unit of work with bounded execution time (it doesn't keep getting slower and slower with growing input size).\n",
    "\n",
    "For example, for a piece of code that takes the average of the odd numbers in a list, we could break it down into 4 steps as possible:\n",
    "\n",
    "<img src=\"good-steps1.png\" align=\"left\" width=400><br>"
   ]
  },
  {
   "attachments": {},
   "cell_type": "markdown",
   "metadata": {},
   "source": [
    "How long it takes to execute that third might depend on whether a number is even or odd, but it's *bounded*.  As the size of `input_nums` grows and grows, it won't keep getting slower and slower to execute that step once (that step will execute more times, but that's a separate point).\n",
    "\n",
    "If there are N=10 (where N is `len(input_nums)`), then a total of $1+11+10+1$ steps will execute total.  In general, $f(N) = 2*N + 3$ gives the number of steps that will executed for a given input length.\n",
    "\n",
    "Here's an example of an illegitimate way to identify steps:\n",
    "\n",
    "<img src=\"bad-steps.png\" align=\"left\" width=400>"
   ]
  },
  {
   "attachments": {},
   "cell_type": "markdown",
   "metadata": {},
   "source": [
    "Going back to the definition, that second box surrounds a snippet of code that keeps \"getting slower will growing input size.\"  The execution time to *run that snippet once* is not bounded, so it's not a single step.\n",
    "\n",
    "Let's consider an anthor valid way to identify steps:\n",
    "\n",
    "<img src=\"good-steps2.png\" align=\"left\" width=400>"
   ]
  },
  {
   "attachments": {},
   "cell_type": "markdown",
   "metadata": {},
   "source": [
    "Here, the number of steps that execute depends on whether the numbers are odd or even.  If all are odd, and $N=10$, there will be $1+11+10+10+1=33$ steps.  If all are even, there will be $1+11+10+1=23$.  Unless specified otherwise, we'll be doing *worst case analysis*, so we'll go with $f(N) = 3*N + 3$.\n",
    "\n",
    "Notice that this $f(N)$ is different than the function we got when we counted steps differently in the first example ($f(N) = 3*N + 3$), even though both approaches to counting steps were legitimate.  Fortunately, it's all good, because both $f$ functions are in the $O(N)$ complexity class.\n",
    "\n",
    "Let's consider some more examples:"
   ]
  },
  {
   "cell_type": "code",
   "execution_count": null,
   "metadata": {},
   "outputs": [],
   "source": [
    "nums = [1, 3, 4, 2, 5, 3, 6, 4]"
   ]
  },
  {
   "cell_type": "code",
   "execution_count": null,
   "metadata": {},
   "outputs": [
    {
     "data": {
      "text/plain": [
       "True"
      ]
     },
     "execution_count": 5,
     "metadata": {},
     "output_type": "execute_result"
    }
   ],
   "source": [
    "# example 1: O(N)\n",
    "x = 3\n",
    "x in nums"
   ]
  },
  {
   "attachments": {},
   "cell_type": "markdown",
   "metadata": {},
   "source": [
    "The above `x in nums` snippet in $O(N)$.  Even though it's one line of code, that one line is not a single step, as Python essentially loops over all numbers looking for 3.\n",
    "\n",
    "In this case, Python will quickly find 3 at index 1 and stop, but for complexity analysis, we want to think about what happens in the worst case for different `nums` lists.  The list might not even contain the number we're looking for, so Python might need to check every entry."
   ]
  },
  {
   "cell_type": "code",
   "execution_count": null,
   "metadata": {},
   "outputs": [
    {
     "data": {
      "text/plain": [
       "4"
      ]
     },
     "execution_count": 6,
     "metadata": {},
     "output_type": "execute_result"
    }
   ],
   "source": [
    "# example 2: O(1)\n",
    "total = 0\n",
    "for x in nums[:100]:\n",
    "    total += x\n",
    "x"
   ]
  },
  {
   "attachments": {},
   "cell_type": "markdown",
   "metadata": {},
   "source": [
    "It's not common to find loops in O(1) code, but in this case, the execution time is bounded.  After `len(nums) > 100`, the code won't keep getting slower and slower as the list grows, because it only looks at the first 100."
   ]
  },
  {
   "cell_type": "code",
   "execution_count": null,
   "metadata": {},
   "outputs": [
    {
     "name": "stdout",
     "output_type": "stream",
     "text": [
      "duplicate!\n",
      "duplicate!\n",
      "duplicate!\n",
      "duplicate!\n"
     ]
    }
   ],
   "source": [
    "# example 3: O(N**2)\n",
    "for i in range(len(nums)):\n",
    "    for j in range(len(nums)):\n",
    "        if i != j and nums[i] == nums[j]:\n",
    "            print(\"duplicate!\")"
   ]
  },
  {
   "attachments": {},
   "cell_type": "markdown",
   "metadata": {},
   "source": [
    "Here, we're looping over every pair of numbers in the list.  If there are N numbers, there are N numbers, there are $N^2$ pairs."
   ]
  },
  {
   "cell_type": "code",
   "execution_count": null,
   "metadata": {},
   "outputs": [
    {
     "name": "stdout",
     "output_type": "stream",
     "text": [
      "duplicate!\n",
      "duplicate!\n"
     ]
    }
   ],
   "source": [
    "# example 4: O(N**2)\n",
    "\n",
    "# part 1: filter to odd numbers\n",
    "odds = []\n",
    "for x in nums:\n",
    "    if x % 2 == 1:\n",
    "        odds.append(x)\n",
    "\n",
    "# part 2: are there any duplicates among our odd numbers?\n",
    "for i in range(len(odds)):\n",
    "    for j in range(len(odds)):\n",
    "        if i != j and odds[i] == odds[j]:\n",
    "            print(\"duplicate!\")"
   ]
  },
  {
   "attachments": {},
   "cell_type": "markdown",
   "metadata": {},
   "source": [
    "Here, we have two phases, the first of which is $O(N)$, and the second of which is $O(N^2)$.  Together, it is $O(N + N^2)$, which is actually the same as $O(N^2)$ (a better answer since it is simpler).  "
   ]
  }
 ],
 "metadata": {
  "kernelspec": {
   "display_name": "Python 3 (ipykernel)",
   "language": "python",
   "name": "python3"
  },
  "language_info": {
   "codemirror_mode": {
    "name": "ipython",
    "version": 3
   },
   "file_extension": ".py",
   "mimetype": "text/x-python",
   "name": "python",
   "nbconvert_exporter": "python",
   "pygments_lexer": "ipython3",
   "version": "3.10.10"
  }
 },
 "nbformat": 4,
 "nbformat_minor": 2
}
