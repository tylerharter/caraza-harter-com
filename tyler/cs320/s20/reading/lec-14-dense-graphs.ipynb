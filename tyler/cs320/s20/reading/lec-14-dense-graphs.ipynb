{
 "cells": [
  {
   "cell_type": "markdown",
   "metadata": {},
   "source": [
    "# Dense Graphs: Language Detection Example\n",
    "\n",
    "Ok, enough with graph searching!  In this reading ([notebook here](lec-14-dense-graphs.ipynb)), we'll write some code that makes a reasonable guess about what language (English, Spanish, etc) a given string is in -- something like this module: https://pypi.org/project/langdetect/.\n",
    "\n",
    "There are many ways we might approach this problem.  We'll look at what the order of letters.  For example, the letters \"a\" and \"o\" are more likely to be and the end of a word in Spanish than they are in English.\n",
    "\n",
    "We can model the transitions between letters in a language with *Markov chain*.  A Markov chain is a graph where nodes represent states and weighted edges represent the probably of transitioning between states.  Our Markov chain will look like this:\n",
    "* each node will be a letter\n",
    "* there will be a directed edge between every pair of nodes\n",
    "* each edge will have a number associated with it, indicating the probability that the node/letter pointed to will follow the node/letter pointed from\n",
    "\n",
    "We will construct our language models (Markov chains) based on sample data, pulled from Wikipedia articles in multiple languages.\n",
    "\n",
    "Given an example string, we can compute the likilihood that a given language model would generate that string, if we were to use the model to randomly generate a string.  Of course, the probability of generating a particular string of any significant size is very tiny.  However, we can compare the tiny likelihoods of two models to determine which language is more likely.  This will require us to deal with extremely small floats.  When they get too small (meaning the computer rounds them to zero), we'll learn a trick, *log likelihood* to deal with it.\n",
    "\n",
    "The kinds of grahps we've been generating, where each node has a list of children (these are called *sparse graphs*), are not efficient when there is an edge between every pair of nodes.  In this example, we'll learn to create a *dense graph*.  We'll represent edges with a big table (DataFrame) -- there will be a column for each node and a row for each node.  A number in the cell at row A and column B represents the weight on the edge between these nodes."
   ]
  },
  {
   "cell_type": "code",
   "execution_count": 1,
   "metadata": {},
   "outputs": [],
   "source": [
    "from bs4 import BeautifulSoup\n",
    "import requests\n",
    "import pandas as pd\n",
    "import copy, string, os"
   ]
  },
  {
   "cell_type": "markdown",
   "metadata": {},
   "source": [
    "## Dense Graph\n",
    "\n",
    "We need to first implement a dense graph, which will be useful for then building our language models.  Look at the following code, then read the descriptions below, corresponding to the commented lines."
   ]
  },
  {
   "cell_type": "code",
   "execution_count": 2,
   "metadata": {},
   "outputs": [],
   "source": [
    "class dense_graph:\n",
    "    def __init__(self, nodes):\n",
    "        self.nodes = sorted(nodes)\n",
    "        self.nodes.append(\"?\") # A\n",
    "        self.node_set = set(nodes)\n",
    "        self.edges = pd.DataFrame(index=self.nodes, columns=self.nodes)\n",
    "        self.edges.fillna(1, inplace=True) # B\n",
    "\n",
    "    def _repr_html_(self):\n",
    "        with pd.option_context('display.max_columns', None): # C\n",
    "            return self.edges._repr_html_()\n",
    "\n",
    "    def inc(self, src, dst):\n",
    "        if not src in self.node_set:\n",
    "            src = \"?\"\n",
    "        if not dst in self.node_set:\n",
    "            dst = \"?\"\n",
    "        self.edges.at[src, dst] += 1\n",
    "        \n",
    "    def get_edge(self, src, dst):\n",
    "        if not src in self.node_set:\n",
    "            src = \"?\"\n",
    "        if not dst in self.node_set:\n",
    "            dst = \"?\"\n",
    "        return self.edges.at[src, dst] # D\n",
    "        \n",
    "    def to_prob(self):\n",
    "        # E\n",
    "        g = copy.deepcopy(self)\n",
    "        row_sums = g.edges.sum(axis=1)\n",
    "        g.edges = g.edges.div(row_sums, axis=0)\n",
    "        return g\n",
    "\n",
    "g = dense_graph(\"ABC\") # F"
   ]
  },
  {
   "cell_type": "markdown",
   "metadata": {},
   "source": [
    "A) to keep our model simple, we'll only have 26 nodes (for the 26 English letters, which also appear frequently in the other languages we'll model).  We'll use \"?\" as a catch-all for punctuation and other characters.\n",
    "\n",
    "B) the cell at row A, col B represents how many times letter B comes after letter A.  You might expect we would count starting from zero, but starting at one will actually help later, as we don't have enough data to say something envers happens (details here for the curious: https://en.wikipedia.org/wiki/Additive_smoothing#Pseudocount)\n",
    "\n",
    "C) when displaying the graph, we'll just show the underlying table of edge weights.  This context manager let's us make sure the columns are not hidden by Jupyter to save space.\n",
    "\n",
    "D) `.at` works `.loc` when you only want to access one cell (but it's faster!)\n",
    "\n",
    "E) we'll create a normalized table where the values in each row correspond to probabilities that add to 1.  Remember that `axis=0` goes down and `axis=1` goes across.  So we're computing sums across (`axis=1`), to get a sum per row.  Then, we want to orient that series of sums vertically (`axis=1`) so we can line up a row per sum in the division.\n",
    "\n",
    "F) normally we would pass in a list of nodes, but the constructor immediately calls `sorted` on whatever we pass in, so we can pass in any sequence -- so here, we'll have 3 nodes: A, B, C\n",
    "\n",
    "Let's use the increment method (`inc`) to increase the weights on some edges:"
   ]
  },
  {
   "cell_type": "code",
   "execution_count": 3,
   "metadata": {},
   "outputs": [
    {
     "data": {
      "text/html": [
       "<div>\n",
       "<style scoped>\n",
       "    .dataframe tbody tr th:only-of-type {\n",
       "        vertical-align: middle;\n",
       "    }\n",
       "\n",
       "    .dataframe tbody tr th {\n",
       "        vertical-align: top;\n",
       "    }\n",
       "\n",
       "    .dataframe thead th {\n",
       "        text-align: right;\n",
       "    }\n",
       "</style>\n",
       "<table border=\"1\" class=\"dataframe\">\n",
       "  <thead>\n",
       "    <tr style=\"text-align: right;\">\n",
       "      <th></th>\n",
       "      <th>A</th>\n",
       "      <th>B</th>\n",
       "      <th>C</th>\n",
       "      <th>?</th>\n",
       "    </tr>\n",
       "  </thead>\n",
       "  <tbody>\n",
       "    <tr>\n",
       "      <th>A</th>\n",
       "      <td>1</td>\n",
       "      <td>4</td>\n",
       "      <td>2</td>\n",
       "      <td>1</td>\n",
       "    </tr>\n",
       "    <tr>\n",
       "      <th>B</th>\n",
       "      <td>1</td>\n",
       "      <td>1</td>\n",
       "      <td>1</td>\n",
       "      <td>2</td>\n",
       "    </tr>\n",
       "    <tr>\n",
       "      <th>C</th>\n",
       "      <td>1</td>\n",
       "      <td>1</td>\n",
       "      <td>1</td>\n",
       "      <td>1</td>\n",
       "    </tr>\n",
       "    <tr>\n",
       "      <th>?</th>\n",
       "      <td>2</td>\n",
       "      <td>1</td>\n",
       "      <td>1</td>\n",
       "      <td>1</td>\n",
       "    </tr>\n",
       "  </tbody>\n",
       "</table>\n",
       "</div>"
      ],
      "text/plain": [
       "<__main__.dense_graph at 0x7f61e5a9d128>"
      ]
     },
     "execution_count": 3,
     "metadata": {},
     "output_type": "execute_result"
    }
   ],
   "source": [
    "g.inc(\"A\", \"B\")\n",
    "g.inc(\"A\", \"B\")\n",
    "g.inc(\"A\", \"B\")\n",
    "g.inc(\"A\", \"C\")\n",
    "g.inc(\"B\", \"D\")\n",
    "g.inc(\"E\", \"A\")\n",
    "g"
   ]
  },
  {
   "cell_type": "markdown",
   "metadata": {},
   "source": [
    "If we look in the \"A\" row, we see \"A\" appeared 8 times total; 4 of those times it was followed by a \"B\".  Let's normalize:"
   ]
  },
  {
   "cell_type": "code",
   "execution_count": 4,
   "metadata": {},
   "outputs": [
    {
     "data": {
      "text/html": [
       "<div>\n",
       "<style scoped>\n",
       "    .dataframe tbody tr th:only-of-type {\n",
       "        vertical-align: middle;\n",
       "    }\n",
       "\n",
       "    .dataframe tbody tr th {\n",
       "        vertical-align: top;\n",
       "    }\n",
       "\n",
       "    .dataframe thead th {\n",
       "        text-align: right;\n",
       "    }\n",
       "</style>\n",
       "<table border=\"1\" class=\"dataframe\">\n",
       "  <thead>\n",
       "    <tr style=\"text-align: right;\">\n",
       "      <th></th>\n",
       "      <th>A</th>\n",
       "      <th>B</th>\n",
       "      <th>C</th>\n",
       "      <th>?</th>\n",
       "    </tr>\n",
       "  </thead>\n",
       "  <tbody>\n",
       "    <tr>\n",
       "      <th>A</th>\n",
       "      <td>0.125</td>\n",
       "      <td>0.50</td>\n",
       "      <td>0.25</td>\n",
       "      <td>0.125</td>\n",
       "    </tr>\n",
       "    <tr>\n",
       "      <th>B</th>\n",
       "      <td>0.200</td>\n",
       "      <td>0.20</td>\n",
       "      <td>0.20</td>\n",
       "      <td>0.400</td>\n",
       "    </tr>\n",
       "    <tr>\n",
       "      <th>C</th>\n",
       "      <td>0.250</td>\n",
       "      <td>0.25</td>\n",
       "      <td>0.25</td>\n",
       "      <td>0.250</td>\n",
       "    </tr>\n",
       "    <tr>\n",
       "      <th>?</th>\n",
       "      <td>0.400</td>\n",
       "      <td>0.20</td>\n",
       "      <td>0.20</td>\n",
       "      <td>0.200</td>\n",
       "    </tr>\n",
       "  </tbody>\n",
       "</table>\n",
       "</div>"
      ],
      "text/plain": [
       "<__main__.dense_graph at 0x7f61e5a84208>"
      ]
     },
     "execution_count": 4,
     "metadata": {},
     "output_type": "execute_result"
    }
   ],
   "source": [
    "probs = g.to_prob()\n",
    "probs"
   ]
  },
  {
   "cell_type": "markdown",
   "metadata": {},
   "source": [
    "The cell at row A, col B tells us that 50% of the time, the letter after \"A\" is a \"B\".  The `get_edge` method is a convenient way to lookup this up."
   ]
  },
  {
   "cell_type": "code",
   "execution_count": 5,
   "metadata": {},
   "outputs": [
    {
     "data": {
      "text/plain": [
       "0.5"
      ]
     },
     "execution_count": 5,
     "metadata": {},
     "output_type": "execute_result"
    }
   ],
   "source": [
    "probs.get_edge(\"A\", \"B\")"
   ]
  },
  {
   "cell_type": "markdown",
   "metadata": {},
   "source": [
    "## Language Examples\n",
    "\n",
    "We'll download and extract the text of 7 wikipedia articles:\n",
    "* 5 pages describing the Python programming language, in English, Spanish, German, French, and Italian.  We'll later create a model based on each of these.\n",
    "* 2 pages (in English and Spanish) about giant pandas, the animal.  We'll test our models to see if we can automatically detect what language these are in."
   ]
  },
  {
   "cell_type": "code",
   "execution_count": 6,
   "metadata": {},
   "outputs": [],
   "source": [
    "urls = {\n",
    "    \"english\": \"https://en.wikipedia.org/wiki/Python_(programming_language)\",\n",
    "    \"spanish\": \"https://es.wikipedia.org/wiki/Python\",\n",
    "    \"german\": \"https://de.wikipedia.org/wiki/Python_(Programmiersprache)\",\n",
    "    \"french\": \"https://fr.wikipedia.org/wiki/Python_(langage)\",\n",
    "    \"italian\": \"https://it.wikipedia.org/wiki/Python\",\n",
    "    \"english-test\": \"https://en.wikipedia.org/wiki/Giant_panda\",\n",
    "    \"spanish-test\": \"https://es.wikipedia.org/wiki/Ailuropoda_melanoleuca\",\n",
    "}\n",
    "\n",
    "texts = {}\n",
    "\n",
    "for lang, url in urls.items():\n",
    "    path = lang + \".txt\"\n",
    "    \n",
    "    # have we downloaded it before?\n",
    "    if not os.path.exists(path):\n",
    "        r = requests.get(url)\n",
    "        r.raise_for_status()\n",
    "        page = BeautifulSoup(r.text)\n",
    "        with open(path, \"w\") as f:\n",
    "            f.write(page.get_text())\n",
    "    \n",
    "    # for simplicity, strip out everything except lower\n",
    "    # case English letters, periods, and commas\n",
    "    with open(path) as f:\n",
    "        valid = string.ascii_lowercase + \" .,\"\n",
    "        text = []\n",
    "        for c in f.read().lower():\n",
    "            if c in valid:\n",
    "                text.append(c)\n",
    "            else:\n",
    "                text.append(\"?\")\n",
    "        texts[lang] = \"\".join(text)"
   ]
  },
  {
   "cell_type": "markdown",
   "metadata": {},
   "source": [
    "Let's take a look at the first two files.  Notice that we're also accidentally grabbing some English-like text for the web page code in both cases.  That will confuse our models a bit, but hopefully not too much!"
   ]
  },
  {
   "cell_type": "code",
   "execution_count": 7,
   "metadata": {},
   "outputs": [
    {
     "name": "stdout",
     "output_type": "stream",
     "text": [
      "????python ?programming language? ? wikipedia?document.documentelement.classname??client?js??rlconf???wgbreakframes????,?wgseparatortransformtable?????,???,?wgdigittransformtable?????,???,?wgdefaultdateformat???dmy?,?wgmonthnames?????,?january?,?february?,?march?,?april?,?may?,?june?,?july?,?august?,?september?,?october?,?november?,?december??,?wgmonthnamesshort?????,?jan?,?feb?,?mar?,?apr?,?may?,?jun?,?jul?,?aug?,?sep?,?oct?,?nov?,?dec??,?wgrequestid???xk?jlgpaaeaaae?x??oaaacr?,?wgcspnonce????,?wgcanonicalnamespace????,?wgcanonicalspecialpagename????,?wgnamespacenumber???,?wgpagename???python??programming?language??,?wgtitle???python ?programming language??,?wgcurrevisionid???????????,?wgrevisionid???????????,?wgarticleid???????,?wgisarticle????,?wgisredirect????,?wgaction???view?,?wgusername??null,?wgusergroups???????,?wgcategories????articles with short description?,?use dmy dates from august ?????,?all articles with unsourced statements?,?articles with unsourced statements from december ?????,??articles containing potentially dated statements from november ?????,?all articles containing potentially dated statements?,?articles containing potentially dated statements from february ?????,?articles with unsourced statements from february ?????,?articles with curlie links?,?wikipedia articles with bnf identifiers?,?wikipedia articles with gnd identifiers?,?wikipedia articles with lccn identifiers?,?wikipedia articles with sudoc identifiers?,?good articles?,?articles with example python code?,?programming languages?,?class?based programming languages?,?computational notebook?,?computer science in the netherlands?,?cross?platform free software?,?dutch inventions?,?dynamically typed programming languages?,?educational programming languages?,?high?level programming languages?,?information technology in the netherlands?,?multi?paradigm programming languages?,?object?oriented programming languages?,?programming languages created in ?????,?python ?programming language??,??scripting languages?,?text?oriented programming languages?,?cross?platform software??,?wgpagecontentlanguage???en?,?wgpagecontentmodel???wikitext?,?wgrelevantpagename???python??programming?language??,?wgrelevantarticleid???????,?wgisprobablyeditable????,?wgrelevantpageisprobablyeditable????,?wgrestrictionedit????,?wgrestrictionmove????,?wgmediavieweronclick????,?wgmediaviewerenabledbydefault????,?wgpopupsreferencepreviews????,?wgpopupsconflictswithnavpopupgadget????,?wgvisualeditor????pagelanguagecode???en?,?pagelanguagedir???ltr?,?pagevariantfallbacks???en??,?wgmfdisplaywikibasedescriptions????search????,?nearby????,?watchlist????,?tagline?????,?wgwmeschemaeditattemptstepoversample????,?wgulscurrentautonym???english?,?wgnoticeproject???wikipedia?,?wgwikibaseitemid???q??????,?wgcentralauthmobiledomain????,?wgeditsubmitbuttonlabelpublish??????rlstate???ext.globalcssjs.user.styles???ready?,?site.styles???ready?,?noscript???ready?,?user.styles???ready?,??ext.globalcssjs.user???ready?,?user???ready?,?user.options???ready?,?user.tokens???loading?,?ext.cite.styles???ready?,?ext.pygments???ready?,?mediawiki.legacy.shared???ready?,?mediawiki.legacy.commonprint???ready?,?jquery.makecollapsible.styles???ready?,?mediawiki.toc.styles???ready?,?skins.vector.styles???ready?,?wikibase.client.init???ready?,?ext.visualeditor.desktoparticletarget.noscript???ready?,?ext.uls.interlanguage???ready?,?ext.wikimediabadges???ready???rlpagemodules???ext.cite.ux?enhancements?,?ext.scribunto.logs?,?site?,?mediawiki.page.startup?,?skins.vector.js?,?mediawiki.page.ready?,?jquery.makecollapsible?,?mediawiki.toc?,?ext.gadget.referencetooltips?,?ext.gadget.watchlist?notice?,?ext.gadget.drn?wizard?,?ext.gadget.charinsert?,?ext.gadget.reftoolbar?,?ext.gadget.extra?toolbar?buttons?,?ext.gadget.switcher?,?ext.centralauth.centralautologin?,?mmv.head?,?mmv.bootstrap.autostart?,?ext.popups?,?ext.visualeditor.desktoparticletarget.init?,?ext.visualeditor.targetloader?,??ext.eventlogging?,?ext.wikimediaevents?,?ext.navigationtiming?,?ext.uls.compactlinks?,?ext.uls.interface?,?ext.cx.eventlogging.campaigns?,?ext.quicksurveys.init?,?ext.centralnotice.geoip?,?ext.centralnotice.startup?????rlq?window.rlq?????.push?function???mw.loader.implement??user.tokens?tffin?,function??,jquery,require,module?????nomin??mw.user.tokens.set???patroltoken???????,?watchtoken???????,?csrftoken????????????????????????????????????????????????python ?programming language???from wikipedia, the free encyclopedia???jump to navigation?jump to search?for other uses, see python.?general?purpose, high?level programming language???pythonparadigmmulti?paradigm? functional, imperative, object?oriented, reflectivedesigned?byguido van rossumdeveloperpython software foundationfirst?appeared????? ???years ago??????????stable release?.?.??   ? ???december ????? ? months ago????????????????preview release?.?.?a??   ? ???january ????? ?? days ago?????????????????typing disciplineduck, dynamic, gradual ?since ?.?????licensepython s\n"
     ]
    }
   ],
   "source": [
    "print(texts[\"english\"][:5000])"
   ]
  },
  {
   "cell_type": "code",
   "execution_count": 8,
   "metadata": {},
   "outputs": [
    {
     "name": "stdout",
     "output_type": "stream",
     "text": [
      "????python ? wikipedia, la enciclopedia libre?document.documentelement.classname??client?js??rlconf???wgbreakframes????,?wgseparatortransformtable????,?t.?,???t,??,?wgdigittransformtable?????,???,?wgdefaultdateformat???dmy?,?wgmonthnames?????,?enero?,?febrero?,?marzo?,?abril?,?mayo?,?junio?,?julio?,?agosto?,?septiembre?,?octubre?,?noviembre?,?diciembre??,?wgmonthnamesshort?????,?ene?,?feb?,?mar?,?abr?,?may?,?jun?,?jul?,?ago?,?sep?,?oct?,?nov?,?dic??,?wgrequestid???xkvjzapamewaai?plcmaaabf?,?wgcspnonce????,?wgcanonicalnamespace????,?wgcanonicalspecialpagename????,?wgnamespacenumber???,?wgpagename???python?,?wgtitle???python?,?wgcurrevisionid???????????,?wgrevisionid???????????,?wgarticleid??????,?wgisarticle????,?wgisredirect????,?wgaction???view?,?wgusername??null,?wgusergroups???????,?wgcategories????wikipedia?art?culos con datos por trasladar a wikidata?,?wikipedia?art?culos destacados en la wikipedia en ruso?,?wikipedia?art?culos buenos en la wikipedia en alem?n?,??wikipedia?art?culos buenos en la wikipedia en ingl?s?,?wikipedia?art?culos con identificadores bnf?,?wikipedia?art?culos con identificadores gnd?,?wikipedia?art?culos con identificadores lccn?,?python?,?lenguajes de programaci?n orientada a objetos?,?lenguajes de programaci?n de alto nivel?,?lenguajes de programaci?n din?micamente tipados?,?lenguajes de programaci?n educativos?,?software de ?????,?pa?ses bajos en ?????,?ciencia y tecnolog?a de los pa?ses bajos??,?wgpagecontentlanguage???es?,?wgpagecontentmodel???wikitext?,?wgrelevantpagename???python?,?wgrelevantarticleid??????,?wgisprobablyeditable????,?wgrelevantpageisprobablyeditable????,?wgrestrictionedit????,?wgrestrictionmove????,?wgmediavieweronclick????,?wgmediaviewerenabledbydefault????,?wgpopupsreferencepreviews????,?wgpopupsconflictswithnavpopupgadget????,?wgvisualeditor????pagelanguagecode???es?,?pagelanguagedir???ltr?,?pagevariantfallbacks???es??,?wgmfdisplaywikibasedescriptions????search????,??nearby????,?watchlist????,?tagline?????,?wgwmeschemaeditattemptstepoversample????,?wgulscurrentautonym???espa?ol?,?wgnoticeproject???wikipedia?,?wgwikibaseitemid???q??????,?wgcentralauthmobiledomain????,?wgeditsubmitbuttonlabelpublish??????rlstate???ext.gadget.imagenesinfobox???ready?,?ext.globalcssjs.user.styles???ready?,?site.styles???ready?,?noscript???ready?,?user.styles???ready?,?ext.globalcssjs.user???ready?,?user???ready?,?user.options???loading?,?user.tokens???loading?,?ext.cite.styles???ready?,?ext.pygments???ready?,?mediawiki.legacy.shared???ready?,?mediawiki.legacy.commonprint???ready?,?mediawiki.toc.styles???ready?,?mediawiki.skinning.interface???ready?,?skins.vector.styles???ready?,?wikibase.client.init???ready?,?ext.visualeditor.desktoparticletarget.noscript???ready?,?ext.uls.interlanguage???ready?,?ext.wikimediabadges???ready???rlpagemodules???ext.cite.ux?enhancements?,?site?,?mediawiki.page.startup?,?skins.vector.js?,?mediawiki.page.ready?,??mediawiki.toc?,?ext.gadget.a?commons?directo?,?ext.gadget.referencetooltips?,?ext.gadget.reftoolbar?,?ext.centralauth.centralautologin?,?mmv.head?,?mmv.bootstrap.autostart?,?ext.popups?,?ext.visualeditor.desktoparticletarget.init?,?ext.visualeditor.targetloader?,?ext.eventlogging?,?ext.wikimediaevents?,?ext.navigationtiming?,?ext.uls.compactlinks?,?ext.uls.interface?,?ext.cx.eventlogging.campaigns?,?ext.quicksurveys.init?,?ext.centralnotice.geoip?,?ext.centralnotice.startup?????rlq?window.rlq?????.push?function???mw.loader.implement??user.options?wq????,function??,jquery,require,module?????nomin??mw.user.options.set???variant???es????????mw.loader.implement??user.tokens?tffin?,function??,jquery,require,module?????nomin??mw.user.tokens.set???patroltoken???????,?watchtoken???????,?csrftoken?????????????????????????????????????????????????python??de wikipedia, la enciclopedia libre???ir a la navegaci?n?ir a la b?squeda?este art?culo trata sobre el lenguaje de programaci?n. para el grupo de humoristas, v?ase monty python. para el rev?lver, v?ase colt python.? para otros usos de este t?rmino, v?ase pit?n.?python?desarrollador?es??python software foundationsitio web oficialinformaci?n generalextensiones comunes?.py, .pyc, .pyd, .pyo, .pyw, .pyzparadigma?multiparadigma? orientado a objetos, imperativo, funcional, reflexivoapareci? en?????dise?ado por?guido van rossum?ltima versi?n estable??.?.????????? de diciembre de ???? ?? meses?sistema de tipos?fuertemente tipado, din?micoimplementaciones?cpython, ironpython, jython, python for s??, pypy, activepython, unladen swallowdialectos?stackless python, rpythoninfluido por?abc, algol ??, c, haskell, icon, lisp, modula??, perl, smalltalk, javaha influido a?boo, cobra, d, falcon, genie, groovy, ruby, javascript, cython, go latinosistema operativo?multiplataformalicencia?python software foundation license?editar datos en wikidata??python es un lenguaje de programaci?n interpretado cuya filosof?a hace hincapi? en la legibilidad de su c?digo.?se trata de un lenguaje de programaci?n multiparadigma, ya que\n"
     ]
    }
   ],
   "source": [
    "print(texts[\"spanish\"][:5000])"
   ]
  },
  {
   "cell_type": "markdown",
   "metadata": {},
   "source": [
    "## Language Profiles\n",
    "\n",
    "Let's write a `LangProfile` class to model the letter transitions in a language.  We'll *train* the model with some exmaple input text in the constructor, to determine the transition probabilities."
   ]
  },
  {
   "cell_type": "code",
   "execution_count": 9,
   "metadata": {},
   "outputs": [],
   "source": [
    "class LangProfile:\n",
    "    def __init__(self, name, text):\n",
    "        self.name = name\n",
    "\n",
    "        g = dense_graph(valid)\n",
    "        for i in range(len(text)-1):\n",
    "            g.inc(text[i], text[i+1])\n",
    "        self.graph = g.to_prob()\n",
    "\n",
    "    def prob(self, text):\n",
    "        p = 1\n",
    "        for i in range(len(text)-1):\n",
    "            p *= self.graph.get_edge(text[i], text[i+1])\n",
    "        return p"
   ]
  },
  {
   "cell_type": "code",
   "execution_count": 10,
   "metadata": {},
   "outputs": [
    {
     "data": {
      "text/html": [
       "<div>\n",
       "<style scoped>\n",
       "    .dataframe tbody tr th:only-of-type {\n",
       "        vertical-align: middle;\n",
       "    }\n",
       "\n",
       "    .dataframe tbody tr th {\n",
       "        vertical-align: top;\n",
       "    }\n",
       "\n",
       "    .dataframe thead th {\n",
       "        text-align: right;\n",
       "    }\n",
       "</style>\n",
       "<table border=\"1\" class=\"dataframe\">\n",
       "  <thead>\n",
       "    <tr style=\"text-align: right;\">\n",
       "      <th></th>\n",
       "      <th></th>\n",
       "      <th>,</th>\n",
       "      <th>.</th>\n",
       "      <th>a</th>\n",
       "      <th>b</th>\n",
       "      <th>c</th>\n",
       "      <th>d</th>\n",
       "      <th>e</th>\n",
       "    </tr>\n",
       "  </thead>\n",
       "  <tbody>\n",
       "    <tr>\n",
       "      <th></th>\n",
       "      <td>0.059830</td>\n",
       "      <td>0.000303</td>\n",
       "      <td>0.003938</td>\n",
       "      <td>0.048470</td>\n",
       "      <td>0.016056</td>\n",
       "      <td>0.067707</td>\n",
       "      <td>0.103756</td>\n",
       "      <td>0.095577</td>\n",
       "    </tr>\n",
       "    <tr>\n",
       "      <th>,</th>\n",
       "      <td>0.634473</td>\n",
       "      <td>0.001486</td>\n",
       "      <td>0.001486</td>\n",
       "      <td>0.004458</td>\n",
       "      <td>0.004458</td>\n",
       "      <td>0.001486</td>\n",
       "      <td>0.001486</td>\n",
       "      <td>0.001486</td>\n",
       "    </tr>\n",
       "    <tr>\n",
       "      <th>.</th>\n",
       "      <td>0.230100</td>\n",
       "      <td>0.002488</td>\n",
       "      <td>0.130597</td>\n",
       "      <td>0.007463</td>\n",
       "      <td>0.002488</td>\n",
       "      <td>0.029851</td>\n",
       "      <td>0.009950</td>\n",
       "      <td>0.007463</td>\n",
       "    </tr>\n",
       "    <tr>\n",
       "      <th>a</th>\n",
       "      <td>0.213605</td>\n",
       "      <td>0.014293</td>\n",
       "      <td>0.010852</td>\n",
       "      <td>0.002118</td>\n",
       "      <td>0.030439</td>\n",
       "      <td>0.062467</td>\n",
       "      <td>0.081525</td>\n",
       "      <td>0.001588</td>\n",
       "    </tr>\n",
       "    <tr>\n",
       "      <th>b</th>\n",
       "      <td>0.017575</td>\n",
       "      <td>0.007030</td>\n",
       "      <td>0.010545</td>\n",
       "      <td>0.096661</td>\n",
       "      <td>0.001757</td>\n",
       "      <td>0.035149</td>\n",
       "      <td>0.024605</td>\n",
       "      <td>0.050967</td>\n",
       "    </tr>\n",
       "    <tr>\n",
       "      <th>c</th>\n",
       "      <td>0.007563</td>\n",
       "      <td>0.002909</td>\n",
       "      <td>0.004072</td>\n",
       "      <td>0.134380</td>\n",
       "      <td>0.000582</td>\n",
       "      <td>0.041303</td>\n",
       "      <td>0.003490</td>\n",
       "      <td>0.078534</td>\n",
       "    </tr>\n",
       "    <tr>\n",
       "      <th>d</th>\n",
       "      <td>0.023166</td>\n",
       "      <td>0.002758</td>\n",
       "      <td>0.001655</td>\n",
       "      <td>0.120794</td>\n",
       "      <td>0.002758</td>\n",
       "      <td>0.001103</td>\n",
       "      <td>0.001655</td>\n",
       "      <td>0.423056</td>\n",
       "    </tr>\n",
       "    <tr>\n",
       "      <th>e</th>\n",
       "      <td>0.226607</td>\n",
       "      <td>0.008568</td>\n",
       "      <td>0.009696</td>\n",
       "      <td>0.022548</td>\n",
       "      <td>0.006539</td>\n",
       "      <td>0.035400</td>\n",
       "      <td>0.046449</td>\n",
       "      <td>0.004510</td>\n",
       "    </tr>\n",
       "  </tbody>\n",
       "</table>\n",
       "</div>"
      ],
      "text/plain": [
       "                    ,         .         a         b         c         d  \\\n",
       "   0.059830  0.000303  0.003938  0.048470  0.016056  0.067707  0.103756   \n",
       ",  0.634473  0.001486  0.001486  0.004458  0.004458  0.001486  0.001486   \n",
       ".  0.230100  0.002488  0.130597  0.007463  0.002488  0.029851  0.009950   \n",
       "a  0.213605  0.014293  0.010852  0.002118  0.030439  0.062467  0.081525   \n",
       "b  0.017575  0.007030  0.010545  0.096661  0.001757  0.035149  0.024605   \n",
       "c  0.007563  0.002909  0.004072  0.134380  0.000582  0.041303  0.003490   \n",
       "d  0.023166  0.002758  0.001655  0.120794  0.002758  0.001103  0.001655   \n",
       "e  0.226607  0.008568  0.009696  0.022548  0.006539  0.035400  0.046449   \n",
       "\n",
       "          e  \n",
       "   0.095577  \n",
       ",  0.001486  \n",
       ".  0.007463  \n",
       "a  0.001588  \n",
       "b  0.050967  \n",
       "c  0.078534  \n",
       "d  0.423056  \n",
       "e  0.004510  "
      ]
     },
     "execution_count": 10,
     "metadata": {},
     "output_type": "execute_result"
    }
   ],
   "source": [
    "english = LangProfile(\"english\", texts[\"english\"])\n",
    "spanish = LangProfile(\"spanish\", texts[\"spanish\"])\n",
    "spanish.graph.edges.iloc[:8,:8]"
   ]
  },
  {
   "cell_type": "markdown",
   "metadata": {},
   "source": [
    "The above table tells us that in Spanish, 10.4% of words start with a \"d\" (the frequency of that letter after a space), whereas only 1.6% start with a \"b\".\n",
    "\n",
    "We can notice significant differences between the languages.  For examples, only about 6% of \"a\" or \"e\" appearances in an English sentence end a word (i.e., they are followed by a space).  For Spanish, it is about 20%."
   ]
  },
  {
   "cell_type": "code",
   "execution_count": 11,
   "metadata": {},
   "outputs": [
    {
     "name": "stdout",
     "output_type": "stream",
     "text": [
      "English O/A ending: 0.058113544926240504 0.05953878406708595\n",
      "Spanish O/A ending: 0.19825783972125435 0.21360508205399684\n"
     ]
    }
   ],
   "source": [
    "print(\"English O/A ending:\", english.prob(\"o \"), english.prob(\"a \"))\n",
    "print(\"Spanish O/A ending:\", spanish.prob(\"o \"), spanish.prob(\"a \"))"
   ]
  },
  {
   "cell_type": "markdown",
   "metadata": {},
   "source": [
    "We can also use the `prob` method to compute the odds that our (extremely simplified) models of each language would generate a given word, if we took the starting letter then kept randomly appending based on the edge weights.\n",
    "\n",
    "How likely is the English model to generate the word \"house\"?  The Spanish model?"
   ]
  },
  {
   "cell_type": "code",
   "execution_count": 12,
   "metadata": {},
   "outputs": [
    {
     "data": {
      "text/plain": [
       "(0.0001949407907586606, 3.979239280202041e-05)"
      ]
     },
     "execution_count": 12,
     "metadata": {},
     "output_type": "execute_result"
    }
   ],
   "source": [
    "english.prob(\"house\"), spanish.prob(\"house\")"
   ]
  },
  {
   "cell_type": "markdown",
   "metadata": {},
   "source": [
    "We can see that the word \"house\" fits the English model better -- good!  Let's try the Spanish word for the same:"
   ]
  },
  {
   "cell_type": "code",
   "execution_count": 13,
   "metadata": {},
   "outputs": [
    {
     "data": {
      "text/plain": [
       "(9.689361588272094e-05, 0.0003401731927203949)"
      ]
     },
     "execution_count": 13,
     "metadata": {},
     "output_type": "execute_result"
    }
   ],
   "source": [
    "english.prob(\"casa\"), spanish.prob(\"casa\")"
   ]
  },
  {
   "cell_type": "markdown",
   "metadata": {},
   "source": [
    "Great, that one fits Spanish better!  (note the scientific notation: the english model number is very small).\n",
    "\n",
    "Don't be concerned that the numbers are very small.  If we're generating a random English-like word, there are millions of strings that we could come up with.  So it's OK that \"casa\" is small in the Spanish model.  The interesting thing is that the Spanish model gives the bigger number, even though both are very small."
   ]
  },
  {
   "cell_type": "markdown",
   "metadata": {},
   "source": [
    "## Log Likelihood: Motivation\n",
    "\n",
    "The longer strings are, the smaller likelihoods we'll get:"
   ]
  },
  {
   "cell_type": "code",
   "execution_count": 14,
   "metadata": {},
   "outputs": [
    {
     "name": "stdout",
     "output_type": "stream",
     "text": [
      "7.965927008415434e-67\n",
      "7.471379930386457e-72\n"
     ]
    }
   ],
   "source": [
    "print(english.prob(\"this is an example of a sentence in english, can we detect that?\"))\n",
    "print(spanish.prob(\"this is an example of a sentence in english, can we detect that?\"))"
   ]
  },
  {
   "cell_type": "markdown",
   "metadata": {},
   "source": [
    "Take a close look, those are extremely small numbers in scientific notation!  Let's generate a slightly longer string and try that:"
   ]
  },
  {
   "cell_type": "code",
   "execution_count": 15,
   "metadata": {},
   "outputs": [
    {
     "name": "stdout",
     "output_type": "stream",
     "text": [
      "this is a sentence. this is a sentence. this is a sentence. this is a sentence. this is a sentence. this is a sentence. this is a sentence. this is a sentence. this is a sentence. this is a sentence. this is a sentence. this is a sentence. this is a sentence. this is a sentence. this is a sentence. this is a sentence. this is a sentence. this is a sentence. this is a sentence. this is a sentence. \n",
      "0.0\n",
      "0.0\n"
     ]
    }
   ],
   "source": [
    "long_str = \"this is a sentence. \" * 20\n",
    "print(long_str)\n",
    "print(english.prob(long_str))\n",
    "print(spanish.prob(long_str))"
   ]
  },
  {
   "cell_type": "markdown",
   "metadata": {},
   "source": [
    "The `prob` function only works for small strings.  For bigger strings, the likelihoods get so small that they get rounded to zero.\n",
    "\n",
    "One good way to deal with very small or very large numbers is to take the log of them.  Let's do that!"
   ]
  },
  {
   "cell_type": "markdown",
   "metadata": {},
   "source": [
    "## Review Logs, Product Rule\n",
    "\n",
    "You may have heard that the base-10 log of an integer greater than 1 is approximately the number of digits in the number (with error at most 1).\n",
    "\n",
    "Here's an easy-to-remember approximation for small numbers too:"
   ]
  },
  {
   "cell_type": "code",
   "execution_count": 16,
   "metadata": {},
   "outputs": [
    {
     "name": "stdout",
     "output_type": "stream",
     "text": [
      "0.0001 -4.0 -5\n",
      "0.0002 -3.6989700043360187 -4\n",
      "0.0004 -3.3979400086720375 -4\n",
      "0.0008 -3.0969100130080562 -4\n",
      "0.0016 -2.795880017344075 -3\n",
      "0.0032 -2.494850021680094 -3\n",
      "0.0064 -2.193820026016113 -3\n",
      "0.0128 -1.8927900303521317 -2\n",
      "0.0256 -1.5917600346881504 -2\n",
      "0.0512 -1.2907300390241692 -2\n",
      "0.1024 -0.989700043360188 -1\n",
      "0.2048 -0.6886700476962069 -1\n",
      "0.4096 -0.3876400520322256 -1\n",
      "0.8192 -0.08661005636824444 -1\n",
      "1.6384 0.21441993929573674 1\n",
      "3.2768 0.5154499349597179 1\n",
      "6.5536 0.8164799306236992 1\n",
      "13.1072 1.1175099262876804 2\n",
      "26.2144 1.4185399219516615 2\n",
      "52.4288 1.7195699176156427 2\n"
     ]
    }
   ],
   "source": [
    "from math import log10\n",
    "\n",
    "def loggy(x):\n",
    "    if x > 1:\n",
    "        return len(str(int(x)))\n",
    "    else:\n",
    "        return -len(str(int(1/x)))\n",
    "\n",
    "val = 0.0001\n",
    "for i in range(20):\n",
    "    print(val, log10(val), loggy(val))\n",
    "    val *= 2"
   ]
  },
  {
   "cell_type": "markdown",
   "metadata": {},
   "source": [
    "As you can see, the error is never more than 1 (compare the `loggy` approximation with the actual `log10`).  More importantly, thinking of `loggy` will help us intuit various log rules.\n",
    "\n",
    "For example, if you multiply a 10 digit integer of a 20 digit integer (both positive), you can probably guess that the result will be about 30 digits.  This is the intuition behind\n",
    "\n",
    "$log10(10*20) == log10(10) + log10(20)$\n",
    "\n",
    "Let's see this by multiplying a 16 digit number by an 11 digit number:"
   ]
  },
  {
   "cell_type": "code",
   "execution_count": 17,
   "metadata": {},
   "outputs": [],
   "source": [
    "A = 1259061235607506\n",
    "B = 12498123469"
   ]
  },
  {
   "cell_type": "code",
   "execution_count": 18,
   "metadata": {},
   "outputs": [
    {
     "name": "stdout",
     "output_type": "stream",
     "text": [
      "16 11\n",
      "26\n",
      "27\n"
     ]
    }
   ],
   "source": [
    "# approximate\n",
    "print(loggy(A), loggy(B))\n",
    "print(loggy(A * B))\n",
    "print(loggy(A) + loggy(B))"
   ]
  },
  {
   "cell_type": "code",
   "execution_count": 19,
   "metadata": {},
   "outputs": [
    {
     "name": "stdout",
     "output_type": "stream",
     "text": [
      "15.10004685293527 10.096844810749097\n",
      "25.19689166368437\n",
      "25.19689166368437\n"
     ]
    }
   ],
   "source": [
    "# actual calculation\n",
    "print(log10(A), log10(B))\n",
    "print(log10(A * B))\n",
    "print(log10(A) + log10(B))"
   ]
  },
  {
   "cell_type": "markdown",
   "metadata": {},
   "source": [
    "Although the intuition may be less obvious for very small positive numbers, the multiplication rule still holds:\n",
    "\n",
    "$log10(X*Y) = log10(X) + log10(Y)$\n",
    "\n",
    "Before, we ran in trouble because we **multiplied** so many probabilities <1 together that we ultimately rounded to 0 for the likelihood, but now we can use this log rule to compute the *log likelihood*.  This will let us **add** the log of all the individual probabilities together to get the final log likelihood.\n",
    "\n",
    "How is the log of the likelihood useful?  Well, if we compute it for two models, we can figure out which one is more likely to generate the string in question.  We never cared about a precise likelihood calculation anyway, we only wanted to make this comparison to choose the best language model that best explains the text.\n",
    "\n",
    "Let's monkey patch in the method to compute the log likelihood:"
   ]
  },
  {
   "cell_type": "code",
   "execution_count": 20,
   "metadata": {},
   "outputs": [],
   "source": [
    "def log_prob(self, text):\n",
    "    #p = 1\n",
    "    logp = 0 # log10(1)\n",
    "    for i in range(len(text)-1):\n",
    "        # p *= self.graph.get_edge(text[i], text[i+1])\n",
    "        logp += log10(self.graph.get_edge(text[i], text[i+1]))\n",
    "    return logp\n",
    "\n",
    "LangProfile.log_prob = log_prob"
   ]
  },
  {
   "cell_type": "markdown",
   "metadata": {},
   "source": [
    "As a test, lets make sure that taking the log of our old result (with `prob`) gives us the same answer the new approach, where we sum the logs of each individual probability:"
   ]
  },
  {
   "cell_type": "code",
   "execution_count": 21,
   "metadata": {},
   "outputs": [
    {
     "name": "stdout",
     "output_type": "stream",
     "text": [
      "-3.7100972765937996\n",
      "-3.7100972765937996\n"
     ]
    }
   ],
   "source": [
    "english = LangProfile(\"english\", texts[\"english\"])\n",
    "spanish = LangProfile(\"spanish\", texts[\"spanish\"])\n",
    "\n",
    "print(log10(english.prob(\"house\")))\n",
    "print(english.log_prob(\"house\"))"
   ]
  },
  {
   "cell_type": "markdown",
   "metadata": {},
   "source": [
    "Yay, it works!  In general, we'll always be seeing negative number for log likelihood, because all the likelihoods will be <1.  A log likelihood of -2 means the model is better than if the log likelihood is -3.\n",
    "\n",
    "Does this fix our earlier problem, when we were rounding to zero?"
   ]
  },
  {
   "cell_type": "code",
   "execution_count": 22,
   "metadata": {},
   "outputs": [
    {
     "name": "stdout",
     "output_type": "stream",
     "text": [
      "this is a sentence. this is a sentence. this is a sentence. this is a sentence. this is a sentence. this is a sentence. this is a sentence. this is a sentence. this is a sentence. this is a sentence. this is a sentence. this is a sentence. this is a sentence. this is a sentence. this is a sentence. this is a sentence. this is a sentence. this is a sentence. this is a sentence. this is a sentence. \n",
      "0.0\n",
      "0.0\n",
      "-395.2220089854635\n",
      "-417.16647550702294\n"
     ]
    }
   ],
   "source": [
    "print(long_str)\n",
    "print(english.prob(long_str))\n",
    "print(spanish.prob(long_str))\n",
    "print(english.log_prob(long_str))\n",
    "print(spanish.log_prob(long_str))"
   ]
  },
  {
   "cell_type": "markdown",
   "metadata": {},
   "source": [
    "Yes it does!  Now we can tell the English model is more likely to produce a string like that than the Spanish model."
   ]
  },
  {
   "cell_type": "markdown",
   "metadata": {},
   "source": [
    "## Prediction\n",
    "\n",
    "So far, we've built a dense graph, then used that to build a Markov chain-based model, which we can train per language.  These models can tell us the likelihood of producing a given string.\n",
    "\n",
    "The last part is to get the likelihood for each language model for a given string, then predict the language of the string based on whichever model give the biggest likelihood.  Let's do that with a `LangPredictor` class:"
   ]
  },
  {
   "cell_type": "code",
   "execution_count": 23,
   "metadata": {},
   "outputs": [],
   "source": [
    "class LangPredictor:\n",
    "    def __init__(self, profiles):\n",
    "        self.profiles = profiles\n",
    "        \n",
    "    def predict(self, line):\n",
    "        profile = max(self.profiles, key=lambda profile: profile.log_prob(line))\n",
    "        return profile.name\n",
    "    \n",
    "    def percents(self, lines):\n",
    "        counts = {p.name: 0 for p in self.profiles}\n",
    "        for line in lines:\n",
    "            counts[self.predict(line)] += 1\n",
    "        for k in counts:\n",
    "            counts[k] /= len(lines)\n",
    "        return counts\n",
    "\n",
    "p = LangPredictor([\n",
    "    LangProfile(\"english\", texts[\"english\"]),\n",
    "    LangProfile(\"spanish\", texts[\"spanish\"]),\n",
    "    LangProfile(\"french\", texts[\"french\"]),\n",
    "    LangProfile(\"italian\", texts[\"italian\"]),\n",
    "    LangProfile(\"german\", texts[\"german\"]),\n",
    "])"
   ]
  },
  {
   "cell_type": "markdown",
   "metadata": {},
   "source": [
    "Let's try it for some simple strings:"
   ]
  },
  {
   "cell_type": "code",
   "execution_count": 24,
   "metadata": {},
   "outputs": [
    {
     "data": {
      "text/plain": [
       "'english'"
      ]
     },
     "execution_count": 24,
     "metadata": {},
     "output_type": "execute_result"
    }
   ],
   "source": [
    "p.predict(\"hello friends!\")"
   ]
  },
  {
   "cell_type": "code",
   "execution_count": 25,
   "metadata": {},
   "outputs": [
    {
     "data": {
      "text/plain": [
       "'spanish'"
      ]
     },
     "execution_count": 25,
     "metadata": {},
     "output_type": "execute_result"
    }
   ],
   "source": [
    "p.predict(\"hola amigos!\")"
   ]
  },
  {
   "cell_type": "markdown",
   "metadata": {},
   "source": [
    "Let's do a more comprehensive test.  We'll take the tests inputs (the English and Spanish wikipedia pages describing the giant panda), break them into sentences, then see what percentage of the sentences get classified as each language."
   ]
  },
  {
   "cell_type": "code",
   "execution_count": 26,
   "metadata": {},
   "outputs": [
    {
     "data": {
      "text/plain": [
       "{'english': 0.5642900670322973,\n",
       " 'spanish': 0.07312614259597806,\n",
       " 'french': 0.15112736136502133,\n",
       " 'italian': 0.11151736745886655,\n",
       " 'german': 0.09993906154783669}"
      ]
     },
     "execution_count": 26,
     "metadata": {},
     "output_type": "execute_result"
    }
   ],
   "source": [
    "p.percents(texts[\"english-test\"].split(\".\"))"
   ]
  },
  {
   "cell_type": "code",
   "execution_count": 27,
   "metadata": {},
   "outputs": [
    {
     "data": {
      "text/plain": [
       "{'english': 0.09903381642512077,\n",
       " 'spanish': 0.5628019323671497,\n",
       " 'french': 0.13285024154589373,\n",
       " 'italian': 0.10628019323671498,\n",
       " 'german': 0.09903381642512077}"
      ]
     },
     "execution_count": 27,
     "metadata": {},
     "output_type": "execute_result"
    }
   ],
   "source": [
    "p.percents(texts[\"spanish-test\"].split(\".\"))"
   ]
  },
  {
   "cell_type": "markdown",
   "metadata": {},
   "source": [
    "Not too bad!  The predictor thinks a majority (56%) of the English sentences are actually English, and a majority (56%) of the Spanish sentences are actually Spanish.  The mistakes are spread across languages.  For example, 13% of the sentences in the Spanish article are classified as Fresh and 1% are classified as German.\n",
    "\n",
    "There are certain things we could do to improve our accuracy:\n",
    "* replacing all non-English characters with \"?\" is a big disadvantage -- some characters will by themselves give a very strong hint about what language is used!\n",
    "* we learned our probabilities based on a single Wikipedia article.  Why not train on thousands of articles?\n",
    "* we are only considering what letter is likely to come next after the previous letter.  Why not compute the probability based on the past 2 or 3 letters?"
   ]
  },
  {
   "cell_type": "markdown",
   "metadata": {},
   "source": [
    "## Conclusions\n",
    "\n",
    "In this reading, we learned about layered design.  At the foundation, we built a dense graph, that represents edge data in a big table.  On that, we build a class that models languages as Markov chains; likelihoods of long strings were so small that they got rounded to zero, so we used log likelihood instead.  Finally, we built a predictor that uses multiple models to find the best fit for a string in an unknown language."
   ]
  },
  {
   "cell_type": "code",
   "execution_count": null,
   "metadata": {},
   "outputs": [],
   "source": []
  }
 ],
 "metadata": {
  "kernelspec": {
   "display_name": "Python 3",
   "language": "python",
   "name": "python3"
  },
  "language_info": {
   "codemirror_mode": {
    "name": "ipython",
    "version": 3
   },
   "file_extension": ".py",
   "mimetype": "text/x-python",
   "name": "python",
   "nbconvert_exporter": "python",
   "pygments_lexer": "ipython3",
   "version": "3.6.9"
  }
 },
 "nbformat": 4,
 "nbformat_minor": 4
}
