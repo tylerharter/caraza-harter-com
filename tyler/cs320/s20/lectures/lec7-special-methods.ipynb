{
 "cells": [
  {
   "cell_type": "code",
   "execution_count": 1,
   "metadata": {},
   "outputs": [
    {
     "data": {
      "text/plain": [
       "True"
      ]
     },
     "execution_count": 1,
     "metadata": {},
     "output_type": "execute_result"
    }
   ],
   "source": [
    "class Dog:\n",
    "    def __init__(self, name, age):\n",
    "        self.name = name\n",
    "        self.age = age\n",
    "\n",
    "    def is_puppy(self):\n",
    "        return self.age < 2\n",
    "\n",
    "    def speak(self):\n",
    "        if self.age > 10:\n",
    "            print(self.name + \": grrrr\")\n",
    "        elif self.is_puppy():\n",
    "            print(self.name + \": \" + \"bark! \" * 10)\n",
    "        else:\n",
    "            print(self.name + \": bark\")\n",
    "            \n",
    "    def __str__(self):\n",
    "        return \"Dog {}, Age={}\".format(self.name, self.age)\n",
    "    \n",
    "    def __repr__(self):\n",
    "        return \"Dog('{}', {})\".format(self.name, self.age)\n",
    "    \n",
    "    def _repr_html_(self):\n",
    "        return \"<h1><i>{}</i> the dog</h1>\".format(self.name)\n",
    "    \n",
    "    def __eq__(self, other_dog):\n",
    "        return (self.name == other_dog.name\n",
    "                and self.age == other_dog.age)\n",
    "    \n",
    "    def __lt__(self, other_dog):\n",
    "        return self.age < other_dog.age\n",
    "\n",
    "fido = Dog(\"Fido\", 11)\n",
    "fido_v2 = Dog(\"Fido\", 11)\n",
    "sam = Dog(\"Sam\", 5)\n",
    "\n",
    "fido == fido_v2"
   ]
  },
  {
   "cell_type": "code",
   "execution_count": 2,
   "metadata": {},
   "outputs": [
    {
     "data": {
      "text/html": [
       "<h1><i>Sam</i> the dog</h1>"
      ],
      "text/plain": [
       "Dog('Sam', 5)"
      ]
     },
     "execution_count": 2,
     "metadata": {},
     "output_type": "execute_result"
    }
   ],
   "source": [
    "sam"
   ]
  },
  {
   "cell_type": "code",
   "execution_count": 3,
   "metadata": {},
   "outputs": [
    {
     "data": {
      "text/plain": [
       "True"
      ]
     },
     "execution_count": 3,
     "metadata": {},
     "output_type": "execute_result"
    }
   ],
   "source": [
    "sam < fido"
   ]
  },
  {
   "cell_type": "code",
   "execution_count": 4,
   "metadata": {},
   "outputs": [
    {
     "name": "stdout",
     "output_type": "stream",
     "text": [
      "[Dog('Sam', 5), Dog('Fido', 11)]\n"
     ]
    }
   ],
   "source": [
    "dogs = [fido, sam]\n",
    "dogs.sort()\n",
    "print(dogs)"
   ]
  },
  {
   "cell_type": "code",
   "execution_count": 5,
   "metadata": {},
   "outputs": [],
   "source": [
    "class Range:\n",
    "    def __init__(self, bound1, bound2=None):\n",
    "        if bound2 != None:\n",
    "            self.lower = bound1\n",
    "            self.upper = bound2\n",
    "        else:\n",
    "            self.lower = 0\n",
    "            self.upper = bound1\n",
    "            \n",
    "    def __len__(self):\n",
    "        return self.upper - self.lower\n",
    "            \n",
    "    def __getitem__(self, lookup):\n",
    "        print(\"TYPE:\", type(lookup))\n",
    "        if not isinstance(lookup, int):\n",
    "            raise NotImplementedError(\"slices not supported\")\n",
    "        if lookup < 0:\n",
    "            raise NotImplementedError(\"negative not supported\")\n",
    "        if lookup >= len(self):\n",
    "            raise IndexError(\"out of bounds\")\n",
    "        return self.lower + lookup"
   ]
  },
  {
   "cell_type": "code",
   "execution_count": 6,
   "metadata": {},
   "outputs": [
    {
     "name": "stdout",
     "output_type": "stream",
     "text": [
      "TYPE: <class 'slice'>\n"
     ]
    },
    {
     "ename": "NotImplementedError",
     "evalue": "slices not supported",
     "output_type": "error",
     "traceback": [
      "\u001b[0;31m---------------------------------------------------------------------------\u001b[0m",
      "\u001b[0;31mNotImplementedError\u001b[0m                       Traceback (most recent call last)",
      "\u001b[0;32m<ipython-input-6-0a8467013658>\u001b[0m in \u001b[0;36m<module>\u001b[0;34m\u001b[0m\n\u001b[1;32m      1\u001b[0m \u001b[0mr1\u001b[0m \u001b[0;34m=\u001b[0m \u001b[0mRange\u001b[0m\u001b[0;34m(\u001b[0m\u001b[0;36m5\u001b[0m\u001b[0;34m,\u001b[0m \u001b[0;36m10\u001b[0m\u001b[0;34m)\u001b[0m\u001b[0;34m\u001b[0m\u001b[0;34m\u001b[0m\u001b[0m\n\u001b[0;32m----> 2\u001b[0;31m \u001b[0mr1\u001b[0m\u001b[0;34m[\u001b[0m\u001b[0;34m:\u001b[0m\u001b[0;36m3\u001b[0m\u001b[0;34m]\u001b[0m\u001b[0;34m\u001b[0m\u001b[0;34m\u001b[0m\u001b[0m\n\u001b[0m",
      "\u001b[0;32m<ipython-input-5-8ab3e672b409>\u001b[0m in \u001b[0;36m__getitem__\u001b[0;34m(self, lookup)\u001b[0m\n\u001b[1;32m     14\u001b[0m         \u001b[0mprint\u001b[0m\u001b[0;34m(\u001b[0m\u001b[0;34m\"TYPE:\"\u001b[0m\u001b[0;34m,\u001b[0m \u001b[0mtype\u001b[0m\u001b[0;34m(\u001b[0m\u001b[0mlookup\u001b[0m\u001b[0;34m)\u001b[0m\u001b[0;34m)\u001b[0m\u001b[0;34m\u001b[0m\u001b[0;34m\u001b[0m\u001b[0m\n\u001b[1;32m     15\u001b[0m         \u001b[0;32mif\u001b[0m \u001b[0;32mnot\u001b[0m \u001b[0misinstance\u001b[0m\u001b[0;34m(\u001b[0m\u001b[0mlookup\u001b[0m\u001b[0;34m,\u001b[0m \u001b[0mint\u001b[0m\u001b[0;34m)\u001b[0m\u001b[0;34m:\u001b[0m\u001b[0;34m\u001b[0m\u001b[0;34m\u001b[0m\u001b[0m\n\u001b[0;32m---> 16\u001b[0;31m             \u001b[0;32mraise\u001b[0m \u001b[0mNotImplementedError\u001b[0m\u001b[0;34m(\u001b[0m\u001b[0;34m\"slices not supported\"\u001b[0m\u001b[0;34m)\u001b[0m\u001b[0;34m\u001b[0m\u001b[0;34m\u001b[0m\u001b[0m\n\u001b[0m\u001b[1;32m     17\u001b[0m         \u001b[0;32mif\u001b[0m \u001b[0mlookup\u001b[0m \u001b[0;34m<\u001b[0m \u001b[0;36m0\u001b[0m\u001b[0;34m:\u001b[0m\u001b[0;34m\u001b[0m\u001b[0;34m\u001b[0m\u001b[0m\n\u001b[1;32m     18\u001b[0m             \u001b[0;32mraise\u001b[0m \u001b[0mNotImplementedError\u001b[0m\u001b[0;34m(\u001b[0m\u001b[0;34m\"negative not supported\"\u001b[0m\u001b[0;34m)\u001b[0m\u001b[0;34m\u001b[0m\u001b[0;34m\u001b[0m\u001b[0m\n",
      "\u001b[0;31mNotImplementedError\u001b[0m: slices not supported"
     ]
    }
   ],
   "source": [
    "r1 = Range(5, 10)\n",
    "r1[:3]"
   ]
  },
  {
   "cell_type": "code",
   "execution_count": 7,
   "metadata": {},
   "outputs": [
    {
     "name": "stdout",
     "output_type": "stream",
     "text": [
      "TYPE: <class 'int'>\n"
     ]
    },
    {
     "data": {
      "text/plain": [
       "9"
      ]
     },
     "execution_count": 7,
     "metadata": {},
     "output_type": "execute_result"
    }
   ],
   "source": [
    "r1 = Range(5, 10)\n",
    "r1[4]"
   ]
  },
  {
   "cell_type": "code",
   "execution_count": 8,
   "metadata": {},
   "outputs": [
    {
     "name": "stdout",
     "output_type": "stream",
     "text": [
      "TYPE: <class 'int'>\n",
      "5\n",
      "TYPE: <class 'int'>\n",
      "6\n",
      "TYPE: <class 'int'>\n"
     ]
    }
   ],
   "source": [
    "for i in Range(5, 7):\n",
    "    print(i)"
   ]
  },
  {
   "cell_type": "code",
   "execution_count": 9,
   "metadata": {},
   "outputs": [],
   "source": [
    "# WAY 1\n",
    "f = open(\"file.txt\", \"w\")\n",
    "f.write(\"hello\")\n",
    "# WHAT IF I CRASH HERE?\n",
    "f.write(\"hello\")\n",
    "f.close()"
   ]
  },
  {
   "cell_type": "code",
   "execution_count": 10,
   "metadata": {},
   "outputs": [],
   "source": [
    "# WAY 2 (preferred)\n",
    "with open(\"file.txt\", \"w\") as f:\n",
    "    f.write(\"hello\")\n",
    "    # WHAT IF I CRASH HERE?\n",
    "    f.write(\"hello\")\n"
   ]
  },
  {
   "cell_type": "code",
   "execution_count": null,
   "metadata": {},
   "outputs": [],
   "source": []
  }
 ],
 "metadata": {
  "kernelspec": {
   "display_name": "Python 3",
   "language": "python",
   "name": "python3"
  },
  "language_info": {
   "codemirror_mode": {
    "name": "ipython",
    "version": 3
   },
   "file_extension": ".py",
   "mimetype": "text/x-python",
   "name": "python",
   "nbconvert_exporter": "python",
   "pygments_lexer": "ipython3",
   "version": "3.6.9"
  }
 },
 "nbformat": 4,
 "nbformat_minor": 4
}
