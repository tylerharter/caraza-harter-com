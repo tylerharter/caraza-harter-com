{
 "cells": [
  {
   "cell_type": "markdown",
   "metadata": {},
   "source": [
    "# String Representation"
   ]
  },
  {
   "cell_type": "code",
   "execution_count": 1,
   "metadata": {},
   "outputs": [
    {
     "name": "stdout",
     "output_type": "stream",
     "text": [
      "Sam: bark! bark! bark! bark! bark! \n"
     ]
    }
   ],
   "source": [
    "class Cat:\n",
    "    def speak(self):\n",
    "        print(\"meow\")\n",
    "\n",
    "class Dog:\n",
    "    def __init__(self, name, age):\n",
    "        self.name = name\n",
    "        self.age = age\n",
    "\n",
    "    def is_puppy(self):\n",
    "        return self.age < 2\n",
    "\n",
    "    def speak(self):\n",
    "        msg = \"bark\"\n",
    "        if self.is_puppy():\n",
    "            msg = \"bark! \"*5\n",
    "        elif self.age > 10:\n",
    "            msg = \"grrrr\"\n",
    "\n",
    "        print(self.name + \": \" + msg)\n",
    "\n",
    "sam = Dog(\"Sam\", 1)\n",
    "sam.speak()"
   ]
  },
  {
   "cell_type": "code",
   "execution_count": 2,
   "metadata": {},
   "outputs": [
    {
     "data": {
      "text/plain": [
       "<__main__.Dog at 0x7faf144537f0>"
      ]
     },
     "execution_count": 2,
     "metadata": {},
     "output_type": "execute_result"
    }
   ],
   "source": [
    "sam"
   ]
  },
  {
   "cell_type": "code",
   "execution_count": 3,
   "metadata": {},
   "outputs": [
    {
     "name": "stdout",
     "output_type": "stream",
     "text": [
      "<__main__.Dog object at 0x7faf144537f0>\n"
     ]
    }
   ],
   "source": [
    "print(sam)"
   ]
  },
  {
   "cell_type": "code",
   "execution_count": 4,
   "metadata": {},
   "outputs": [
    {
     "name": "stdout",
     "output_type": "stream",
     "text": [
      "Sam the 1-old dog\n"
     ]
    }
   ],
   "source": [
    "class Cat:\n",
    "    def speak(self):\n",
    "        print(\"meow\")\n",
    "\n",
    "class Dog:\n",
    "    def __init__(self, name, age):\n",
    "        self.name = name\n",
    "        self.age = age\n",
    "\n",
    "    def is_puppy(self):\n",
    "        return self.age < 2\n",
    "\n",
    "    def speak(self):\n",
    "        msg = \"bark\"\n",
    "        if self.is_puppy():\n",
    "            msg = \"bark! \"*5\n",
    "        elif self.age > 10:\n",
    "            msg = \"grrrr\"\n",
    "\n",
    "        print(self.name + \": \" + msg)\n",
    "        \n",
    "    def __str__(self):\n",
    "        return \"{} the {}-old dog\".format(self.name, self.age)\n",
    "    \n",
    "    def __repr__(self):\n",
    "        return \"Dog(name={}, age={})\".format(repr(self.name), self.age)\n",
    "\n",
    "    def _repr_html_(self):\n",
    "        return \"<h3><i>{}</i> the dog!</h3>\".format(self.name)\n",
    "\n",
    "    #def __eq__(self, other):\n",
    "    #    return self.name == other.name and self.age == other.age\n",
    "    \n",
    "    #def __lt__(self, other):\n",
    "    #    print(\"is {} < {}?\".format(self, other))\n",
    "    #    return self.age < other.age\n",
    "\n",
    "sam = Dog(\"Sam\", 1)\n",
    "print(sam)"
   ]
  },
  {
   "cell_type": "code",
   "execution_count": 5,
   "metadata": {},
   "outputs": [
    {
     "data": {
      "text/html": [
       "<h3><i>Sam</i> the dog!</h3>"
      ],
      "text/plain": [
       "Dog(name='Sam', age=1)"
      ]
     },
     "execution_count": 5,
     "metadata": {},
     "output_type": "execute_result"
    }
   ],
   "source": [
    "sam"
   ]
  },
  {
   "cell_type": "code",
   "execution_count": 6,
   "metadata": {},
   "outputs": [
    {
     "data": {
      "text/plain": [
       "10.0"
      ]
     },
     "execution_count": 6,
     "metadata": {},
     "output_type": "execute_result"
    }
   ],
   "source": [
    "import matplotlib\n",
    "from matplotlib import pyplot as plt\n",
    "matplotlib.rcParams[\"font.size\"]"
   ]
  },
  {
   "cell_type": "markdown",
   "metadata": {},
   "source": [
    "# Comparison"
   ]
  },
  {
   "cell_type": "code",
   "execution_count": 7,
   "metadata": {},
   "outputs": [],
   "source": [
    "d1 = Dog(\"Sam\", 1)\n",
    "d2 = Dog(\"Fluffy\", 3)\n",
    "d3 = Dog(\"Cuddles\", 2)"
   ]
  },
  {
   "cell_type": "code",
   "execution_count": 8,
   "metadata": {},
   "outputs": [
    {
     "ename": "TypeError",
     "evalue": "'<' not supported between instances of 'Dog' and 'Dog'",
     "output_type": "error",
     "traceback": [
      "\u001b[0;31m---------------------------------------------------------------------------\u001b[0m",
      "\u001b[0;31mTypeError\u001b[0m                                 Traceback (most recent call last)",
      "\u001b[0;32m<ipython-input-8-13eb9178a87b>\u001b[0m in \u001b[0;36m<module>\u001b[0;34m\u001b[0m\n\u001b[0;32m----> 1\u001b[0;31m \u001b[0msorted\u001b[0m\u001b[0;34m(\u001b[0m\u001b[0;34m[\u001b[0m\u001b[0md3\u001b[0m\u001b[0;34m,\u001b[0m \u001b[0md1\u001b[0m\u001b[0;34m,\u001b[0m \u001b[0md2\u001b[0m\u001b[0;34m]\u001b[0m\u001b[0;34m)\u001b[0m\u001b[0;34m\u001b[0m\u001b[0;34m\u001b[0m\u001b[0m\n\u001b[0m",
      "\u001b[0;31mTypeError\u001b[0m: '<' not supported between instances of 'Dog' and 'Dog'"
     ]
    }
   ],
   "source": [
    "sorted([d3, d1, d2])"
   ]
  },
  {
   "cell_type": "markdown",
   "metadata": {},
   "source": [
    "# Range Example"
   ]
  },
  {
   "cell_type": "code",
   "execution_count": 9,
   "metadata": {},
   "outputs": [],
   "source": [
    "class Range:\n",
    "    def __init__(self, v1, v2=None):\n",
    "        if v2 != None:\n",
    "            self.start = v1\n",
    "            self.end = v2\n",
    "        else:\n",
    "            self.start = 0\n",
    "            self.end = v1\n",
    "            \n",
    "    def __len__(self):\n",
    "        return self.end - self.start\n",
    "    \n",
    "    def __repr__(self):\n",
    "        return str(list(self))\n",
    "    \n",
    "    def __getitem__(self, lookup):\n",
    "        if isinstance(lookup, slice):\n",
    "            raise NotImplementedError(\"slicing not supported yet\")\n",
    "            #start = self.start + lookup.start\n",
    "            #end = start + (lookup.stop - lookup.start)\n",
    "            #return Range(start, end)\n",
    "\n",
    "        num = self.start + lookup\n",
    "        if num < self.start or num >= self.end:\n",
    "            raise IndexError\n",
    "        return num"
   ]
  },
  {
   "cell_type": "code",
   "execution_count": 10,
   "metadata": {},
   "outputs": [
    {
     "data": {
      "text/plain": [
       "5"
      ]
     },
     "execution_count": 10,
     "metadata": {},
     "output_type": "execute_result"
    }
   ],
   "source": [
    "r1 = Range(5)\n",
    "len(r1)"
   ]
  },
  {
   "cell_type": "code",
   "execution_count": 11,
   "metadata": {},
   "outputs": [
    {
     "data": {
      "text/plain": [
       "8"
      ]
     },
     "execution_count": 11,
     "metadata": {},
     "output_type": "execute_result"
    }
   ],
   "source": [
    "r2 = Range(2, 10)\n",
    "len(r2)"
   ]
  },
  {
   "cell_type": "code",
   "execution_count": 12,
   "metadata": {},
   "outputs": [
    {
     "name": "stdout",
     "output_type": "stream",
     "text": [
      "0\n",
      "1\n",
      "2\n",
      "3\n",
      "4\n"
     ]
    }
   ],
   "source": [
    "for i in r1:\n",
    "    print(i)"
   ]
  },
  {
   "cell_type": "code",
   "execution_count": 13,
   "metadata": {},
   "outputs": [
    {
     "name": "stdout",
     "output_type": "stream",
     "text": [
      "0\n",
      "1\n",
      "2\n"
     ]
    }
   ],
   "source": [
    "for i in Range(3):\n",
    "    print(i)"
   ]
  },
  {
   "cell_type": "code",
   "execution_count": 14,
   "metadata": {},
   "outputs": [
    {
     "data": {
      "text/plain": [
       "[2, 3, 4, 5, 6, 7, 8, 9]"
      ]
     },
     "execution_count": 14,
     "metadata": {},
     "output_type": "execute_result"
    }
   ],
   "source": [
    "list(r2)"
   ]
  },
  {
   "cell_type": "markdown",
   "metadata": {},
   "source": [
    "# Series"
   ]
  },
  {
   "cell_type": "code",
   "execution_count": 15,
   "metadata": {},
   "outputs": [],
   "source": [
    "from pandas import Series as OrigSeries"
   ]
  },
  {
   "cell_type": "code",
   "execution_count": 16,
   "metadata": {},
   "outputs": [
    {
     "name": "stdout",
     "output_type": "stream",
     "text": [
      "0    9\n",
      "1    7\n",
      "2    8\n",
      "dtype: ???\n",
      "\n",
      "A    9\n",
      "B    7\n",
      "C    8\n",
      "dtype: ???\n",
      "\n",
      "24\n",
      "9\n",
      "9\n",
      "A    100\n",
      "B    7\n",
      "C    8\n",
      "dtype: ???\n",
      "\n",
      "A    100\n",
      "B    200\n",
      "C    8\n",
      "dtype: ???\n",
      "\n",
      "C    8\n",
      "A    100\n",
      "B    200\n",
      "dtype: ???\n",
      "\n",
      "A    100\n",
      "B    200\n",
      "C    8\n",
      "dtype: ???\n",
      "\n"
     ]
    }
   ],
   "source": [
    "import copy\n",
    "\n",
    "class Series:\n",
    "    def __init__(self, values):\n",
    "        self.iloc = IntPosLookup(self)\n",
    "        self.loc = IndexLookup(self)\n",
    "        self.items = [] # list of SeriesItem's\n",
    "        self.index = {} # index => SeriesItem\n",
    "\n",
    "        if isinstance(values, list):\n",
    "            for i in range(len(values)):\n",
    "                self.append(idx=i, val=values[i])\n",
    "        elif isinstance(values, dict):\n",
    "            for key in values:\n",
    "                self.append(idx=key, val=values[key])\n",
    "        else:\n",
    "            raise NotImplementedError(\"only works with lists+dicts\")\n",
    "\n",
    "    def sum(self):\n",
    "        total = 0\n",
    "        for si in self.items:\n",
    "            total += si.val\n",
    "        return total\n",
    "            \n",
    "    def append(self, idx, val):\n",
    "        item = SeriesItem(idx=idx, val=val)\n",
    "        self.items.append(item)\n",
    "        self.index[idx] = item\n",
    "        \n",
    "    def sort_index(self):\n",
    "        s2 = copy.deepcopy(self)\n",
    "        s2.items.sort(key=lambda item: item.idx)\n",
    "        return s2\n",
    "    \n",
    "    def sort_values(self):\n",
    "        s2 = copy.deepcopy(self)\n",
    "        s2.items.sort(key=lambda item: item.val)\n",
    "        return s2\n",
    "\n",
    "    def __repr__(self):\n",
    "        s = \"\"\n",
    "        for item in self.items:\n",
    "            line = str(item.idx)\n",
    "            line += \"  \"*(3-len(line))\n",
    "            line += str(item.val)\n",
    "            s += line + \"\\n\"\n",
    "        s += \"dtype: ???\"\n",
    "        return s\n",
    "\n",
    "class SeriesItem:\n",
    "    def __init__(self, idx, val):\n",
    "        self.idx = idx\n",
    "        self.val = val\n",
    "    \n",
    "class IntPosLookup:\n",
    "    def __init__(self, series):\n",
    "        self.series = series\n",
    "        \n",
    "    def __getitem__(self, pos):\n",
    "        return self.series.items[pos].val\n",
    "\n",
    "class IndexLookup:\n",
    "    def __init__(self, series):\n",
    "        self.series = series\n",
    "\n",
    "    def __getitem__(self, idx):\n",
    "        return self.series.index[idx].val\n",
    "    \n",
    "    def __setitem__(self, idx, val):\n",
    "        if idx in self.series.index:\n",
    "            self.series.index[idx].val = val\n",
    "        else:\n",
    "            self.series.append(idx, val)\n",
    "    \n",
    "s1 = Series([9, 7, 8])\n",
    "print(s1)\n",
    "print()\n",
    "\n",
    "s2 = Series({\"A\": 9, \"B\": 7, \"C\": 8})\n",
    "print(s2)\n",
    "print()\n",
    "\n",
    "print(s1.sum())\n",
    "print(s2.iloc[0])\n",
    "print(s2.loc[\"A\"])\n",
    "\n",
    "s2.loc[\"A\"] = 100\n",
    "print(s2)\n",
    "print()\n",
    "s2.loc[\"B\"] = 200\n",
    "print(s2)\n",
    "print()\n",
    "\n",
    "s3 = s2.sort_values()\n",
    "print(s3)\n",
    "print()\n",
    "\n",
    "s4 = s3.sort_index()\n",
    "print(s4)\n",
    "print()"
   ]
  },
  {
   "cell_type": "markdown",
   "metadata": {},
   "source": [
    "# Context Managers"
   ]
  },
  {
   "cell_type": "code",
   "execution_count": 17,
   "metadata": {},
   "outputs": [
    {
     "data": {
      "text/plain": [
       "(<Figure size 432x288 with 1 Axes>,\n",
       " <matplotlib.axes._subplots.AxesSubplot at 0x7faeed0dda20>)"
      ]
     },
     "execution_count": 17,
     "metadata": {},
     "output_type": "execute_result"
    },
    {
     "data": {
      "image/png": "[encoded data removed]",
      "text/plain": [
       "<Figure size 432x288 with 1 Axes>"
      ]
     },
     "metadata": {
      "needs_background": "light"
     },
     "output_type": "display_data"
    },
    {
     "data": {
      "image/png": "[encoded data removed]",
      "text/plain": [
       "<Figure size 432x288 with 1 Axes>"
      ]
     },
     "metadata": {
      "needs_background": "light"
     },
     "output_type": "display_data"
    },
    {
     "data": {
      "image/png": "[encoded data removed]",
      "text/plain": [
       "<Figure size 432x288 with 1 Axes>"
      ]
     },
     "metadata": {
      "needs_background": "light"
     },
     "output_type": "display_data"
    }
   ],
   "source": [
    "class DoubleFont:\n",
    "    def __enter__(self):\n",
    "        self.prior = matplotlib.rcParams[\"font.size\"]\n",
    "        matplotlib.rcParams[\"font.size\"] *= 2\n",
    "\n",
    "    def __exit__(self, exc_type, exc_value, traceback):\n",
    "        matplotlib.rcParams[\"font.size\"] = self.prior\n",
    "        \n",
    "with DoubleFont():\n",
    "    plt.subplots()\n",
    "    with DoubleFont():\n",
    "        plt.subplots()\n",
    "    # TODO: assert failure\n",
    "plt.subplots()"
   ]
  },
  {
   "cell_type": "code",
   "execution_count": null,
   "metadata": {},
   "outputs": [],
   "source": []
  }
 ],
 "metadata": {
  "kernelspec": {
   "display_name": "Python 3",
   "language": "python",
   "name": "python3"
  },
  "language_info": {
   "codemirror_mode": {
    "name": "ipython",
    "version": 3
   },
   "file_extension": ".py",
   "mimetype": "text/x-python",
   "name": "python",
   "nbconvert_exporter": "python",
   "pygments_lexer": "ipython3",
   "version": "3.6.9"
  }
 },
 "nbformat": 4,
 "nbformat_minor": 4
}
