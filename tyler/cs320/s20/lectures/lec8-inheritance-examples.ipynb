{
 "cells": [
  {
   "cell_type": "markdown",
   "metadata": {},
   "source": [
    "# Context Managers (__enter__, __exit__)\n",
    "\n",
    "https://docs.python.org/3/reference/datamodel.html#with-statement-context-managers"
   ]
  },
  {
   "cell_type": "code",
   "execution_count": 1,
   "metadata": {},
   "outputs": [],
   "source": [
    "# WAY 1\n",
    "f = open(\"file.txt\", \"w\")\n",
    "f.write(\"hello\")\n",
    "# WHAT IF I CRASH HERE?\n",
    "f.write(\"hello\")\n",
    "f.close()"
   ]
  },
  {
   "cell_type": "code",
   "execution_count": 2,
   "metadata": {},
   "outputs": [],
   "source": [
    "# WAY 2 (preferred)\n",
    "with open(\"file.txt\", \"w\") as f:\n",
    "    f.write(\"hello\")\n",
    "    # WHAT IF I CRASH HERE?\n",
    "    f.write(\"hello\")\n"
   ]
  },
  {
   "cell_type": "code",
   "execution_count": 3,
   "metadata": {},
   "outputs": [],
   "source": [
    "import matplotlib\n",
    "from matplotlib import pyplot as plt"
   ]
  },
  {
   "cell_type": "code",
   "execution_count": 4,
   "metadata": {},
   "outputs": [
    {
     "data": {
      "text/plain": [
       "10.0"
      ]
     },
     "execution_count": 4,
     "metadata": {},
     "output_type": "execute_result"
    }
   ],
   "source": [
    "matplotlib.rcParams[\"font.size\"]"
   ]
  },
  {
   "cell_type": "code",
   "execution_count": 5,
   "metadata": {},
   "outputs": [
    {
     "ename": "AssertionError",
     "evalue": "",
     "output_type": "error",
     "traceback": [
      "\u001b[0;31m---------------------------------------------------------------------------\u001b[0m",
      "\u001b[0;31mAssertionError\u001b[0m                            Traceback (most recent call last)",
      "\u001b[0;32m<ipython-input-5-34c506f745e4>\u001b[0m in \u001b[0;36m<module>\u001b[0;34m\u001b[0m\n\u001b[1;32m     13\u001b[0m \u001b[0;32mwith\u001b[0m \u001b[0mMultFont\u001b[0m\u001b[0;34m(\u001b[0m\u001b[0;36m2\u001b[0m\u001b[0;34m)\u001b[0m\u001b[0;34m:\u001b[0m\u001b[0;34m\u001b[0m\u001b[0;34m\u001b[0m\u001b[0m\n\u001b[1;32m     14\u001b[0m     \u001b[0mplt\u001b[0m\u001b[0;34m.\u001b[0m\u001b[0msubplots\u001b[0m\u001b[0;34m(\u001b[0m\u001b[0mfigsize\u001b[0m\u001b[0;34m=\u001b[0m\u001b[0;34m(\u001b[0m\u001b[0;36m1.5\u001b[0m\u001b[0;34m,\u001b[0m\u001b[0;36m1.5\u001b[0m\u001b[0;34m)\u001b[0m\u001b[0;34m)\u001b[0m\u001b[0;34m\u001b[0m\u001b[0;34m\u001b[0m\u001b[0m\n\u001b[0;32m---> 15\u001b[0;31m     \u001b[0;32massert\u001b[0m \u001b[0;36m1\u001b[0m \u001b[0;34m==\u001b[0m \u001b[0;36m2\u001b[0m\u001b[0;34m\u001b[0m\u001b[0;34m\u001b[0m\u001b[0m\n\u001b[0m\u001b[1;32m     16\u001b[0m     \u001b[0mplt\u001b[0m\u001b[0;34m.\u001b[0m\u001b[0msubplots\u001b[0m\u001b[0;34m(\u001b[0m\u001b[0mfigsize\u001b[0m\u001b[0;34m=\u001b[0m\u001b[0;34m(\u001b[0m\u001b[0;36m1.5\u001b[0m\u001b[0;34m,\u001b[0m\u001b[0;36m1.5\u001b[0m\u001b[0;34m)\u001b[0m\u001b[0;34m)\u001b[0m\u001b[0;34m\u001b[0m\u001b[0;34m\u001b[0m\u001b[0m\n",
      "\u001b[0;31mAssertionError\u001b[0m: "
     ]
    },
    {
     "data": {
      "image/png": "[encoded data removed]",
      "text/plain": [
       "<Figure size 108x108 with 1 Axes>"
      ]
     },
     "metadata": {
      "needs_background": "light"
     },
     "output_type": "display_data"
    },
    {
     "data": {
      "image/png": "[encoded data removed]",
      "text/plain": [
       "<Figure size 108x108 with 1 Axes>"
      ]
     },
     "metadata": {
      "needs_background": "light"
     },
     "output_type": "display_data"
    }
   ],
   "source": [
    "class MultFont:\n",
    "    def __init__(self, mult):\n",
    "        self.mult = mult\n",
    "    \n",
    "    def __enter__(self):\n",
    "        self.prior_size = matplotlib.rcParams[\"font.size\"]\n",
    "        matplotlib.rcParams[\"font.size\"] *= self.mult\n",
    "        \n",
    "    def __exit__(self, exc_type, exc_value, traceback):\n",
    "        matplotlib.rcParams[\"font.size\"] = self.prior_size\n",
    "\n",
    "plt.subplots(figsize=(1.5,1.5))\n",
    "with MultFont(2):\n",
    "    plt.subplots(figsize=(1.5,1.5))\n",
    "    assert 1 == 2\n",
    "    plt.subplots(figsize=(1.5,1.5))"
   ]
  },
  {
   "cell_type": "code",
   "execution_count": 6,
   "metadata": {},
   "outputs": [
    {
     "data": {
      "text/plain": [
       "(<Figure size 108x108 with 1 Axes>,\n",
       " <matplotlib.axes._subplots.AxesSubplot at 0x7f82686c6dd8>)"
      ]
     },
     "execution_count": 6,
     "metadata": {},
     "output_type": "execute_result"
    },
    {
     "data": {
      "image/png": "[encoded data removed]",
      "text/plain": [
       "<Figure size 108x108 with 1 Axes>"
      ]
     },
     "metadata": {
      "needs_background": "light"
     },
     "output_type": "display_data"
    }
   ],
   "source": [
    "plt.subplots(figsize=(1.5,1.5))"
   ]
  },
  {
   "cell_type": "markdown",
   "metadata": {},
   "source": [
    "# Inheritance"
   ]
  },
  {
   "cell_type": "code",
   "execution_count": 7,
   "metadata": {},
   "outputs": [
    {
     "name": "stdout",
     "output_type": "stream",
     "text": [
      "Cat Kevin, string expert\n",
      "Dog Sam\n"
     ]
    }
   ],
   "source": [
    "class NamedAnimal:\n",
    "    def __init__(self, name):\n",
    "        self.name = name\n",
    "    \n",
    "    def __str__(self):\n",
    "        return \"{} {}\".format(type(self).__name__, self.name)\n",
    "\n",
    "    def __repr__(self):\n",
    "        return \"{}('{}')\".format(type(self).__name__, self.name)\n",
    "\n",
    "class Dog(NamedAnimal):\n",
    "    def __init__(self, name, age):\n",
    "        # step 1: manually call parent init\n",
    "        NamedAnimal.__init__(self, name) \n",
    "        # step 2: do our own additional init\n",
    "        self.age = age\n",
    "    \n",
    "    def speak(self):\n",
    "        print(\"bark\")\n",
    "    \n",
    "class Cat(NamedAnimal):\n",
    "    def speak(self):\n",
    "        print(\"bark\")\n",
    "        \n",
    "    def __str__(self):\n",
    "        return NamedAnimal.__str__(self) + \", string expert\"\n",
    "\n",
    "c = Cat(\"Kevin\")\n",
    "print(c)\n",
    "d = Dog(\"Sam\", 1)\n",
    "print(d)"
   ]
  },
  {
   "cell_type": "markdown",
   "metadata": {},
   "source": [
    "# ABC's\n",
    "\n",
    "https://docs.python.org/3/library/collections.abc.html#collections-abstract-base-classes"
   ]
  },
  {
   "cell_type": "code",
   "execution_count": 8,
   "metadata": {},
   "outputs": [],
   "source": [
    "class Range:\n",
    "    def __init__(self, bound1, bound2=None):\n",
    "        if bound2 != None:\n",
    "            self.lower = bound1\n",
    "            self.upper = bound2\n",
    "        else:\n",
    "            self.lower = 0\n",
    "            self.upper = bound1\n",
    "            \n",
    "    def __len__(self):\n",
    "        return self.upper - self.lower\n",
    "            \n",
    "    def __getitem__(self, lookup):\n",
    "        if not isinstance(lookup, int):\n",
    "            raise NotImplementedError(\"slices not supported\")\n",
    "        if lookup < 0:\n",
    "            raise NotImplementedError(\"negative not supported\")\n",
    "        if lookup >= len(self):\n",
    "            raise IndexError(\"out of bounds\")\n",
    "        return self.lower + lookup"
   ]
  },
  {
   "cell_type": "code",
   "execution_count": null,
   "metadata": {},
   "outputs": [],
   "source": []
  }
 ],
 "metadata": {
  "kernelspec": {
   "display_name": "Python 3",
   "language": "python",
   "name": "python3"
  },
  "language_info": {
   "codemirror_mode": {
    "name": "ipython",
    "version": 3
   },
   "file_extension": ".py",
   "mimetype": "text/x-python",
   "name": "python",
   "nbconvert_exporter": "python",
   "pygments_lexer": "ipython3",
   "version": "3.6.9"
  }
 },
 "nbformat": 4,
 "nbformat_minor": 4
}
