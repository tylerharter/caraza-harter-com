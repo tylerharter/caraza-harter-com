{
 "cells": [
  {
   "cell_type": "markdown",
   "metadata": {},
   "source": [
    "# Outline\n",
    "\n",
    "## Lecture\n",
    "\n",
    "1. Morning: first100sum, Afternoon: binary_search\n",
    "2. Review\n",
    "3. Slides\n",
    "4. Dog+Cat Demos\n",
    "5. SuperList (fast sum, max, in)\n",
    "6. SSH Overview\n",
    "7. http.server\n",
    "\n",
    "## Lab\n",
    "\n",
    "1. writing files\n",
    "2. reading json: load vs. loads\n",
    "3. visualizing C and N>?\n",
    "4. merge sort"
   ]
  },
  {
   "cell_type": "markdown",
   "metadata": {},
   "source": [
    "# Objects and Functions"
   ]
  },
  {
   "cell_type": "code",
   "execution_count": 12,
   "metadata": {},
   "outputs": [
    {
     "name": "stdout",
     "output_type": "stream",
     "text": [
      "Fido: bark! bark! bark! bark! bark! \n",
      "Sam: bark\n"
     ]
    }
   ],
   "source": [
    "class Dog:\n",
    "    pass\n",
    "\n",
    "def init(dog, name, age):\n",
    "    dog.name = name\n",
    "    dog.age = age\n",
    "\n",
    "def speak(dog):\n",
    "    msg = \"bark\"\n",
    "    if dog.age < 2:\n",
    "        msg = \"bark! \"*5\n",
    "\n",
    "    print(dog.name + \": \" + msg)\n",
    "\n",
    "dog1 = Dog()\n",
    "init(dog1, \"Fido\", 1)\n",
    "speak(dog1)\n",
    "\n",
    "dog2 = Dog()\n",
    "init(dog2, \"Sam\", 11)\n",
    "speak(dog2)"
   ]
  },
  {
   "cell_type": "markdown",
   "metadata": {},
   "source": [
    "# Methods"
   ]
  },
  {
   "cell_type": "code",
   "execution_count": 30,
   "metadata": {},
   "outputs": [
    {
     "name": "stdout",
     "output_type": "stream",
     "text": [
      "Fido: bark! bark! bark! bark! bark! \n",
      "Sam: grrrr\n",
      "meow\n"
     ]
    }
   ],
   "source": [
    "class Dog:\n",
    "    def init(dog, name, age):\n",
    "        dog.name = name\n",
    "        dog.age = age\n",
    "    \n",
    "    def speak(dog):\n",
    "        msg = \"bark\"\n",
    "        if dog.age < 2:\n",
    "            msg = \"bark! \"*5\n",
    "        elif dog.age > 10:\n",
    "            msg = \"grrrr\"\n",
    "\n",
    "        print(dog.name + \": \" + msg)\n",
    "\n",
    "class Cat:\n",
    "    def speak(cat):\n",
    "        print(\"meow\")\n",
    "\n",
    "dog1 = Dog()\n",
    "Dog.init(dog1, \"Fido\", 1)\n",
    "Dog.speak(dog1)\n",
    "\n",
    "dog2 = Dog()\n",
    "Dog.init(dog2, \"Sam\", 11)\n",
    "Dog.speak(dog2)\n",
    "\n",
    "c = Cat()\n",
    "Cat.speak(c)"
   ]
  },
  {
   "cell_type": "markdown",
   "metadata": {},
   "source": [
    "# Types"
   ]
  },
  {
   "cell_type": "code",
   "execution_count": 36,
   "metadata": {},
   "outputs": [
    {
     "name": "stdout",
     "output_type": "stream",
     "text": [
      "<class '__main__.Dog'>\n"
     ]
    }
   ],
   "source": [
    "print(type(dog1))"
   ]
  },
  {
   "cell_type": "code",
   "execution_count": 37,
   "metadata": {},
   "outputs": [
    {
     "data": {
      "text/plain": [
       "(True, False)"
      ]
     },
     "execution_count": 37,
     "metadata": {},
     "output_type": "execute_result"
    }
   ],
   "source": [
    "type(dog1) == Dog, type(dog1) == Cat"
   ]
  },
  {
   "cell_type": "code",
   "execution_count": 38,
   "metadata": {},
   "outputs": [
    {
     "data": {
      "text/plain": [
       "(True, False)"
      ]
     },
     "execution_count": 38,
     "metadata": {},
     "output_type": "execute_result"
    }
   ],
   "source": [
    "isinstance(dog1, Dog), isinstance(dog1, Cat)"
   ]
  },
  {
   "cell_type": "markdown",
   "metadata": {},
   "source": [
    "# Type-Based Dispatch"
   ]
  },
  {
   "cell_type": "code",
   "execution_count": 25,
   "metadata": {},
   "outputs": [
    {
     "name": "stdout",
     "output_type": "stream",
     "text": [
      "Fido: bark! bark! bark! bark! bark! \n",
      "Sam: grrrr\n",
      "meow\n"
     ]
    }
   ],
   "source": [
    "class Dog:\n",
    "    def init(dog, name, age):\n",
    "        dog.name = name\n",
    "        dog.age = age\n",
    "    \n",
    "    def speak(dog):\n",
    "        msg = \"bark\"\n",
    "        if dog.age < 2:\n",
    "            msg = \"bark! \"*5\n",
    "        elif dog.age > 10:\n",
    "            msg = \"grrrr\"\n",
    "\n",
    "        print(dog.name + \": \" + msg)\n",
    "\n",
    "class Cat:\n",
    "    def speak(cat):\n",
    "        print(\"meow\")\n",
    "\n",
    "dog1 = Dog()\n",
    "type(dog1).init(dog1, \"Fido\", 1)\n",
    "type(dog1).speak(dog1)\n",
    "\n",
    "dog2 = Dog() # can we cobine instantiation...\n",
    "dog2.init(\"Sam\", 11) # ... with initialization?\n",
    "\n",
    "dog2.speak() # automatically uses Dog.speak(...)\n",
    "\n",
    "c = Cat()\n",
    "c.speak() # automatically uses Cat.speak(...)"
   ]
  },
  {
   "cell_type": "markdown",
   "metadata": {},
   "source": [
    "# Receivers"
   ]
  },
  {
   "cell_type": "code",
   "execution_count": 46,
   "metadata": {},
   "outputs": [
    {
     "name": "stdout",
     "output_type": "stream",
     "text": [
      "Sam: bark! bark! bark! bark! bark! \n",
      "meow\n"
     ]
    }
   ],
   "source": [
    "class Dog:\n",
    "    def init(self, name, age):\n",
    "        self.name = name\n",
    "        self.age = age\n",
    "        \n",
    "    def is_puppy(self):\n",
    "        return self.age < 2\n",
    "    \n",
    "    def speak(self):\n",
    "        msg = \"bark\"\n",
    "        if self.is_puppy():\n",
    "            msg = \"bark! \"*5\n",
    "        elif self.age > 10:\n",
    "            msg = \"grrrr\"\n",
    "\n",
    "        print(self.name + \": \" + msg)\n",
    "\n",
    "class Cat:\n",
    "    def speak(self):\n",
    "        print(\"meow\")\n",
    "\n",
    "dog2 = Dog() # can we cobine instantiation...\n",
    "dog2.init(\"Sam\", 1) # ... with initialization?\n",
    "dog2.speak() # automatically uses Dog.speak(...)\n",
    "\n",
    "c = Cat()\n",
    "c.speak() # automatically uses Cat.speak(...)"
   ]
  },
  {
   "cell_type": "markdown",
   "metadata": {},
   "source": [
    "# Constructors"
   ]
  },
  {
   "cell_type": "code",
   "execution_count": 47,
   "metadata": {},
   "outputs": [
    {
     "name": "stdout",
     "output_type": "stream",
     "text": [
      "Sam: bark! bark! bark! bark! bark! \n"
     ]
    }
   ],
   "source": [
    "class Dog:\n",
    "    # a method with this name is a constructor, it gets\n",
    "    # called automatically at instantiation\n",
    "    def __init__(self, name, age):\n",
    "        self.name = name\n",
    "        self.age = age\n",
    "    \n",
    "    def is_puppy(self):\n",
    "        return self.age < 2\n",
    "    \n",
    "    def speak(self):\n",
    "        msg = \"bark\"\n",
    "        if self.is_puppy():\n",
    "            msg = \"bark! \"*5\n",
    "        elif self.age > 10:\n",
    "            msg = \"grrrr\"\n",
    "\n",
    "        print(self.name + \": \" + msg)\n",
    "\n",
    "dog2 = Dog(\"Sam\", 1)\n",
    "dog2.speak() # automatically uses Dog.speak(...)"
   ]
  },
  {
   "cell_type": "code",
   "execution_count": null,
   "metadata": {},
   "outputs": [],
   "source": []
  }
 ],
 "metadata": {
  "kernelspec": {
   "display_name": "Python 3",
   "language": "python",
   "name": "python3"
  },
  "language_info": {
   "codemirror_mode": {
    "name": "ipython",
    "version": 3
   },
   "file_extension": ".py",
   "mimetype": "text/x-python",
   "name": "python",
   "nbconvert_exporter": "python",
   "pygments_lexer": "ipython3",
   "version": "3.7.2"
  }
 },
 "nbformat": 4,
 "nbformat_minor": 2
}
