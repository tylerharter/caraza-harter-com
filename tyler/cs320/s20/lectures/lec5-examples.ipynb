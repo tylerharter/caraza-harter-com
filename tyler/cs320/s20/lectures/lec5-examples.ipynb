{
 "cells": [
  {
   "cell_type": "code",
   "execution_count": 1,
   "metadata": {},
   "outputs": [
    {
     "data": {
      "text/html": [
       "<style>.container { width:100% !important; }</style>"
      ],
      "text/plain": [
       "<IPython.core.display.HTML object>"
      ]
     },
     "metadata": {},
     "output_type": "display_data"
    }
   ],
   "source": [
    "from IPython.core.display import display, HTML\n",
    "display(HTML(\"<style>.container { width:100% !important; }</style>\"))"
   ]
  },
  {
   "cell_type": "code",
   "execution_count": 2,
   "metadata": {},
   "outputs": [],
   "source": [
    "%matplotlib inline"
   ]
  },
  {
   "cell_type": "code",
   "execution_count": 3,
   "metadata": {},
   "outputs": [],
   "source": [
    "from time import time\n",
    "from pandas import DataFrame\n",
    "import matplotlib\n",
    "matplotlib.rcParams[\"font.size\"] = 18"
   ]
  },
  {
   "cell_type": "code",
   "execution_count": 4,
   "metadata": {},
   "outputs": [
    {
     "data": {
      "text/html": [
       "<div>\n",
       "<style scoped>\n",
       "    .dataframe tbody tr th:only-of-type {\n",
       "        vertical-align: middle;\n",
       "    }\n",
       "\n",
       "    .dataframe tbody tr th {\n",
       "        vertical-align: top;\n",
       "    }\n",
       "\n",
       "    .dataframe thead th {\n",
       "        text-align: right;\n",
       "    }\n",
       "</style>\n",
       "<table border=\"1\" class=\"dataframe\">\n",
       "  <thead>\n",
       "    <tr style=\"text-align: right;\">\n",
       "      <th></th>\n",
       "      <th>sum</th>\n",
       "      <th>len</th>\n",
       "      <th>max</th>\n",
       "      <th>extend</th>\n",
       "    </tr>\n",
       "  </thead>\n",
       "  <tbody>\n",
       "    <tr>\n",
       "      <th>0</th>\n",
       "      <td>0.715256</td>\n",
       "      <td>0.953674</td>\n",
       "      <td>1.907349</td>\n",
       "      <td>1.192093</td>\n",
       "    </tr>\n",
       "    <tr>\n",
       "      <th>1</th>\n",
       "      <td>0.953674</td>\n",
       "      <td>1.192093</td>\n",
       "      <td>1.430511</td>\n",
       "      <td>0.476837</td>\n",
       "    </tr>\n",
       "    <tr>\n",
       "      <th>2</th>\n",
       "      <td>0.953674</td>\n",
       "      <td>0.715256</td>\n",
       "      <td>1.192093</td>\n",
       "      <td>0.715256</td>\n",
       "    </tr>\n",
       "    <tr>\n",
       "      <th>3</th>\n",
       "      <td>0.715256</td>\n",
       "      <td>1.192093</td>\n",
       "      <td>1.430511</td>\n",
       "      <td>0.715256</td>\n",
       "    </tr>\n",
       "    <tr>\n",
       "      <th>4</th>\n",
       "      <td>0.715256</td>\n",
       "      <td>0.953674</td>\n",
       "      <td>1.192093</td>\n",
       "      <td>0.953674</td>\n",
       "    </tr>\n",
       "    <tr>\n",
       "      <th>...</th>\n",
       "      <td>...</td>\n",
       "      <td>...</td>\n",
       "      <td>...</td>\n",
       "      <td>...</td>\n",
       "    </tr>\n",
       "    <tr>\n",
       "      <th>4995</th>\n",
       "      <td>25.272369</td>\n",
       "      <td>0.953674</td>\n",
       "      <td>84.400177</td>\n",
       "      <td>10.251999</td>\n",
       "    </tr>\n",
       "    <tr>\n",
       "      <th>4996</th>\n",
       "      <td>25.272369</td>\n",
       "      <td>1.192093</td>\n",
       "      <td>84.400177</td>\n",
       "      <td>10.251999</td>\n",
       "    </tr>\n",
       "    <tr>\n",
       "      <th>4997</th>\n",
       "      <td>25.510788</td>\n",
       "      <td>0.953674</td>\n",
       "      <td>84.400177</td>\n",
       "      <td>9.536743</td>\n",
       "    </tr>\n",
       "    <tr>\n",
       "      <th>4998</th>\n",
       "      <td>25.510788</td>\n",
       "      <td>0.953674</td>\n",
       "      <td>84.638596</td>\n",
       "      <td>9.775162</td>\n",
       "    </tr>\n",
       "    <tr>\n",
       "      <th>4999</th>\n",
       "      <td>25.272369</td>\n",
       "      <td>0.953674</td>\n",
       "      <td>93.936920</td>\n",
       "      <td>10.013580</td>\n",
       "    </tr>\n",
       "  </tbody>\n",
       "</table>\n",
       "<p>5000 rows × 4 columns</p>\n",
       "</div>"
      ],
      "text/plain": [
       "            sum       len        max     extend\n",
       "0      0.715256  0.953674   1.907349   1.192093\n",
       "1      0.953674  1.192093   1.430511   0.476837\n",
       "2      0.953674  0.715256   1.192093   0.715256\n",
       "3      0.715256  1.192093   1.430511   0.715256\n",
       "4      0.715256  0.953674   1.192093   0.953674\n",
       "...         ...       ...        ...        ...\n",
       "4995  25.272369  0.953674  84.400177  10.251999\n",
       "4996  25.272369  1.192093  84.400177  10.251999\n",
       "4997  25.510788  0.953674  84.400177   9.536743\n",
       "4998  25.510788  0.953674  84.638596   9.775162\n",
       "4999  25.272369  0.953674  93.936920  10.013580\n",
       "\n",
       "[5000 rows x 4 columns]"
      ]
     },
     "execution_count": 4,
     "metadata": {},
     "output_type": "execute_result"
    }
   ],
   "source": [
    "# row per List size, column per operation\n",
    "# val is time in microseconds\n",
    "df = DataFrame()\n",
    "\n",
    "L = []\n",
    "for N in range(5000):\n",
    "    # it updates a len statistic\n",
    "    # (a better list might also update sum, max)\n",
    "    L.append(N) \n",
    "    \n",
    "    t0 = time()\n",
    "    x = sum(L)\n",
    "    t1 = time()\n",
    "    df.loc[N, \"sum\"] = (t1-t0) * 1e6\n",
    "    \n",
    "    t0 = time()\n",
    "    x = len(L)\n",
    "    t1 = time()\n",
    "    df.loc[N, \"len\"] = (t1-t0) * 1e6\n",
    "    \n",
    "    t0 = time()\n",
    "    x = max(L)\n",
    "    t1 = time()\n",
    "    df.loc[N, \"max\"] = (t1-t0) * 1e6 \n",
    "    \n",
    "    L2 = []\n",
    "    t0 = time()\n",
    "    L2.extend(L)\n",
    "    t1 = time()\n",
    "    df.loc[N, \"extend\"] = (t1-t0) * 1e6\n",
    "    \n",
    "df"
   ]
  },
  {
   "cell_type": "code",
   "execution_count": 5,
   "metadata": {},
   "outputs": [
    {
     "data": {
      "text/plain": [
       "Text(0, 0.5, 'Time (Microseconds)')"
      ]
     },
     "execution_count": 5,
     "metadata": {},
     "output_type": "execute_result"
    },
    {
     "data": {
      "image/png": "[encoded data removed]",
      "text/plain": [
       "<Figure size 432x288 with 1 Axes>"
      ]
     },
     "metadata": {
      "needs_background": "light"
     },
     "output_type": "display_data"
    }
   ],
   "source": [
    "ax = df.plot.line()\n",
    "ax.set_ylim(0, 150)\n",
    "ax.set_xlabel(\"Input Size (N)\")\n",
    "ax.set_ylabel(\"Time (Microseconds)\")"
   ]
  },
  {
   "cell_type": "code",
   "execution_count": null,
   "metadata": {},
   "outputs": [],
   "source": []
  }
 ],
 "metadata": {
  "kernelspec": {
   "display_name": "Python 3",
   "language": "python",
   "name": "python3"
  },
  "language_info": {
   "codemirror_mode": {
    "name": "ipython",
    "version": 3
   },
   "file_extension": ".py",
   "mimetype": "text/x-python",
   "name": "python",
   "nbconvert_exporter": "python",
   "pygments_lexer": "ipython3",
   "version": "3.6.9"
  }
 },
 "nbformat": 4,
 "nbformat_minor": 2
}
