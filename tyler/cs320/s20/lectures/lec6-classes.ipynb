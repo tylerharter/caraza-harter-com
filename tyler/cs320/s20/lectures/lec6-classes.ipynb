{
 "cells": [
  {
   "cell_type": "code",
   "execution_count": 1,
   "metadata": {},
   "outputs": [
    {
     "data": {
      "text/html": [
       "<style>.container { width:100% !important; }</style>"
      ],
      "text/plain": [
       "<IPython.core.display.HTML object>"
      ]
     },
     "metadata": {},
     "output_type": "display_data"
    }
   ],
   "source": [
    "from IPython.core.display import display, HTML\n",
    "display(HTML(\"<style>.container { width:100% !important; }</style>\"))"
   ]
  },
  {
   "cell_type": "code",
   "execution_count": 2,
   "metadata": {},
   "outputs": [],
   "source": [
    "# # BAD EXAMPLE\n",
    "\n",
    "# class Dog:\n",
    "#     pass\n",
    "\n",
    "# def init(dog, name, age):\n",
    "#     dog.name = name\n",
    "#     dog.age = age\n",
    "\n",
    "# def speak(dog):\n",
    "#     if dog.age > 10:\n",
    "#         print(dog.name + \": grrrr\")\n",
    "#     elif dog.age < 2:\n",
    "#         print(dog.name + \": \" + \"bark! \" * 10)\n",
    "#     else:\n",
    "#         print(dog.name + \": bark\")\n",
    "\n",
    "# dog1 = Dog()\n",
    "# init(dog, \"Fido\", 11)\n",
    "\n",
    "# speak(dog1)"
   ]
  },
  {
   "cell_type": "code",
   "execution_count": 3,
   "metadata": {},
   "outputs": [],
   "source": [
    "# # BAD EXAMPLE 2\n",
    "# class Dog:\n",
    "#     def init(dog, name, age):\n",
    "#         dog.name = name\n",
    "#         dog.age = age\n",
    "\n",
    "#     def speak(dog):\n",
    "#         if dog.age > 10:\n",
    "#             print(dog.name + \": grrrr\")\n",
    "#         elif dog.age < 2:\n",
    "#             print(dog.name + \": \" + \"bark! \" * 10)\n",
    "#         else:\n",
    "#             print(dog.name + \": bark\")\n",
    "        \n",
    "# class Cat:\n",
    "#     def speak(cat):\n",
    "#         print(\"meow\")\n",
    "\n",
    "# c = Cat()\n",
    "# Cat.speak(c)\n",
    "    \n",
    "# dog1 = Dog()\n",
    "# Dog.init(dog1, \"Fido\", 11)\n",
    "# Dog.speak(dog1)"
   ]
  },
  {
   "cell_type": "code",
   "execution_count": 4,
   "metadata": {},
   "outputs": [
    {
     "name": "stdout",
     "output_type": "stream",
     "text": [
      "meow\n",
      "Fido: grrrr\n"
     ]
    }
   ],
   "source": [
    "# OK EXAMPLE 3\n",
    "class Dog:\n",
    "    def init(dog, name, age):\n",
    "        dog.name = name\n",
    "        dog.age = age\n",
    "\n",
    "    def speak(dog):\n",
    "        if dog.age > 10:\n",
    "            print(dog.name + \": grrrr\")\n",
    "        elif dog.age < 2:\n",
    "            print(dog.name + \": \" + \"bark! \" * 10)\n",
    "        else:\n",
    "            print(dog.name + \": bark\")\n",
    "        \n",
    "class Cat:\n",
    "    def speak(cat):\n",
    "        print(\"meow\")\n",
    "\n",
    "c = Cat()\n",
    "dog1 = Dog()\n",
    "Dog.init(dog1, \"Fido\", 11)\n",
    "animals = [c, dog1]\n",
    "\n",
    "# WHAT IS HAPPENING:\n",
    "# for pet in animals:\n",
    "#     type(pet).speak(pet)\n",
    "\n",
    "# SHORTCUT\n",
    "for pet in animals:\n",
    "    pet.speak()"
   ]
  },
  {
   "cell_type": "code",
   "execution_count": 5,
   "metadata": {},
   "outputs": [
    {
     "name": "stdout",
     "output_type": "stream",
     "text": [
      "<class '__main__.Cat'>\n",
      "<class '__main__.Dog'>\n"
     ]
    }
   ],
   "source": [
    "print(type(c))\n",
    "print(type(dog1))"
   ]
  },
  {
   "cell_type": "code",
   "execution_count": 6,
   "metadata": {},
   "outputs": [
    {
     "name": "stdout",
     "output_type": "stream",
     "text": [
      "True\n",
      "True\n"
     ]
    }
   ],
   "source": [
    "print(type(c) == Cat) # not a good example\n",
    "print(isinstance(c, Cat)) # preferred"
   ]
  },
  {
   "cell_type": "code",
   "execution_count": 7,
   "metadata": {},
   "outputs": [
    {
     "name": "stdout",
     "output_type": "stream",
     "text": [
      "Fido: grrrr\n"
     ]
    }
   ],
   "source": [
    "# GOOD EXAMPLE\n",
    "class Cat:\n",
    "    def speak(self):\n",
    "        print(\"meow\")\n",
    "\n",
    "class Dog:\n",
    "    def __init__(self, name, age):\n",
    "        self.name = name\n",
    "        self.age = age\n",
    "\n",
    "    def is_puppy(self):\n",
    "        return self.age < 2\n",
    "\n",
    "    def speak(self):\n",
    "        if self.age > 10:\n",
    "            print(self.name + \": grrrr\")\n",
    "        elif self.is_puppy():\n",
    "            print(self.name + \": \" + \"bark! \" * 10)\n",
    "        else:\n",
    "            print(self.name + \": bark\")\n",
    "\n",
    "dog1 = Dog(\"Fido\", 11) # instantiate+initialize it\n",
    "dog1.speak()"
   ]
  },
  {
   "cell_type": "code",
   "execution_count": null,
   "metadata": {},
   "outputs": [],
   "source": []
  }
 ],
 "metadata": {
  "kernelspec": {
   "display_name": "Python 3",
   "language": "python",
   "name": "python3"
  },
  "language_info": {
   "codemirror_mode": {
    "name": "ipython",
    "version": 3
   },
   "file_extension": ".py",
   "mimetype": "text/x-python",
   "name": "python",
   "nbconvert_exporter": "python",
   "pygments_lexer": "ipython3",
   "version": "3.6.9"
  }
 },
 "nbformat": 4,
 "nbformat_minor": 4
}
