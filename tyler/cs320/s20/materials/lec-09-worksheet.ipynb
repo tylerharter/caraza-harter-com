{
 "cells": [
  {
   "cell_type": "code",
   "execution_count": 8,
   "metadata": {},
   "outputs": [
    {
     "data": {
      "text/plain": [
       "120"
      ]
     },
     "execution_count": 8,
     "metadata": {},
     "output_type": "execute_result"
    }
   ],
   "source": [
    "def fact(n):\n",
    "    if n == 0:\n",
    "        return 1\n",
    "    return n * fact(n-1)\n",
    "fact(5)"
   ]
  },
  {
   "cell_type": "code",
   "execution_count": 9,
   "metadata": {},
   "outputs": [
    {
     "data": {
      "text/plain": [
       "8"
      ]
     },
     "execution_count": 9,
     "metadata": {},
     "output_type": "execute_result"
    }
   ],
   "source": [
    "def fib(n):\n",
    "    if n < 2:\n",
    "        return n\n",
    "    return fib(n-1) + fib(n-2)\n",
    "\n",
    "fib(6)"
   ]
  },
  {
   "cell_type": "code",
   "execution_count": 17,
   "metadata": {},
   "outputs": [
    {
     "name": "stdout",
     "output_type": "stream",
     "text": [
      "7\n",
      "8\n",
      "9\n"
     ]
    }
   ],
   "source": [
    "def f(n):\n",
    "    print(n)\n",
    "    if n < 9:\n",
    "        f(n + 1)\n",
    "# what does f(7) print?\n",
    "f(7)"
   ]
  },
  {
   "cell_type": "code",
   "execution_count": 19,
   "metadata": {},
   "outputs": [
    {
     "name": "stdout",
     "output_type": "stream",
     "text": [
      "9\n",
      "8\n",
      "7\n"
     ]
    }
   ],
   "source": [
    "def g(n):\n",
    "    if n < 9:\n",
    "        g(n + 1)    \n",
    "    print(n)\n",
    "# what does f(7) print?\n",
    "g(7)"
   ]
  },
  {
   "cell_type": "code",
   "execution_count": 22,
   "metadata": {},
   "outputs": [
    {
     "name": "stdout",
     "output_type": "stream",
     "text": [
      "3\n",
      "2\n",
      "1\n",
      "2\n",
      "3\n"
     ]
    }
   ],
   "source": [
    "def M(n):\n",
    "    print(n)\n",
    "    if n > 1:\n",
    "        M(n-1)\n",
    "        print(n)\n",
    "# what does M(3) print?\n",
    "M(3)"
   ]
  },
  {
   "cell_type": "code",
   "execution_count": 29,
   "metadata": {},
   "outputs": [
    {
     "data": {
      "text/plain": [
       "[3, 6, 5, 2]"
      ]
     },
     "execution_count": 29,
     "metadata": {},
     "output_type": "execute_result"
    }
   ],
   "source": [
    "B = []\n",
    "def f(A):\n",
    "    if len(A) > 0:\n",
    "        f(A[1:])\n",
    "        B.append(A[0])\n",
    "f([2, 5, 6, 3])\n",
    "# what is in B?\n",
    "B"
   ]
  },
  {
   "cell_type": "code",
   "execution_count": 34,
   "metadata": {},
   "outputs": [
    {
     "data": {
      "text/plain": [
       "5"
      ]
     },
     "execution_count": 34,
     "metadata": {},
     "output_type": "execute_result"
    }
   ],
   "source": [
    "class Node:\n",
    "    def __init__(self, val):\n",
    "        self.val = val\n",
    "        self.next = None\n",
    "        \n",
    "    def __getitem__(self, idx):\n",
    "        if idx == 0:\n",
    "            return self.val\n",
    "        return self.next[idx-1]\n",
    "    \n",
    "A = Node(3)\n",
    "B = Node(5)\n",
    "C = Node(7)\n",
    "A.next = B\n",
    "B.next = C\n",
    "\n",
    "A[1]"
   ]
  },
  {
   "cell_type": "code",
   "execution_count": 59,
   "metadata": {},
   "outputs": [
    {
     "name": "stdout",
     "output_type": "stream",
     "text": [
      "B.g\n",
      "E1.f\n",
      "D.__str__\n",
      "\n",
      "<__main__.C object at 0x10f406f28>\n",
      "C.h\n",
      "D.h\n"
     ]
    }
   ],
   "source": [
    "class A:\n",
    "    def f(self):\n",
    "        print(\"A.f\")\n",
    "        \n",
    "    def g(self):\n",
    "        print(\"A.g\")\n",
    "\n",
    "class B(A):\n",
    "    def g(self):\n",
    "        print(\"B.g\")\n",
    "\n",
    "class C(A):\n",
    "    def h(self):\n",
    "        print(\"C.h\")\n",
    "\n",
    "class D(A):\n",
    "    def h(self):\n",
    "        print(\"D.h\")\n",
    "    \n",
    "    def __str__(self):\n",
    "        print(\"D.__str__\")\n",
    "        return \"\"\n",
    "\n",
    "class E1(C, D):\n",
    "    def f(self):\n",
    "        print(\"E1.f\")\n",
    "        \n",
    "class E2(D, C):\n",
    "    pass\n",
    "        \n",
    "class M(B, E1):\n",
    "    pass\n",
    "        \n",
    "w = C()\n",
    "x = M()\n",
    "y = E1()\n",
    "z = E2()\n",
    "        \n",
    "x.g()\n",
    "x.f()\n",
    "print(x)\n",
    "print(w)\n",
    "y.h()\n",
    "z.h()"
   ]
  },
  {
   "cell_type": "code",
   "execution_count": 63,
   "metadata": {},
   "outputs": [
    {
     "data": {
      "text/plain": [
       "(__main__.M,\n",
       " __main__.B,\n",
       " __main__.E1,\n",
       " __main__.C,\n",
       " __main__.D,\n",
       " __main__.A,\n",
       " object)"
      ]
     },
     "execution_count": 63,
     "metadata": {},
     "output_type": "execute_result"
    }
   ],
   "source": [
    "type(x).__mro__"
   ]
  },
  {
   "cell_type": "code",
   "execution_count": 67,
   "metadata": {},
   "outputs": [
    {
     "name": "stdout",
     "output_type": "stream",
     "text": [
      "False\n",
      "True\n",
      "True\n",
      "True\n"
     ]
    },
    {
     "data": {
      "text/plain": [
       "False"
      ]
     },
     "execution_count": 67,
     "metadata": {},
     "output_type": "execute_result"
    }
   ],
   "source": [
    "print(type(w) == A)\n",
    "print(type(w) == C)\n",
    "print(isinstance(w, A))\n",
    "print(isinstance(w, C))\n",
    "isinstance(B, A)"
   ]
  },
  {
   "cell_type": "code",
   "execution_count": 24,
   "metadata": {},
   "outputs": [
    {
     "data": {
      "text/plain": [
       "3,4"
      ]
     },
     "execution_count": 24,
     "metadata": {},
     "output_type": "execute_result"
    }
   ],
   "source": [
    "from collections import abc\n",
    "\n",
    "class Node(abc.Sequence):\n",
    "    def __init__(self, val):\n",
    "        self.val = val\n",
    "        self.next = None\n",
    "        \n",
    "    def __getitem__(self, idx):\n",
    "        if idx < 0:\n",
    "            idx = len(self) + idx\n",
    "\n",
    "        if idx == 0:\n",
    "            # base case\n",
    "            return self.val\n",
    "        else:\n",
    "            if self.next == None:\n",
    "                raise IndexError()\n",
    "            \n",
    "            # recursive case\n",
    "            return self.next[idx-1]\n",
    "        \n",
    "    def append(self, val):\n",
    "        last_node = self\n",
    "        while last_node.next != None:\n",
    "            last_node = last_node.next\n",
    "        last_node.next = Node(val)\n",
    "            \n",
    "    def __repr__(self):\n",
    "        if self.next == None:\n",
    "            return repr(self.val)\n",
    "        else:\n",
    "            return repr(self.val)+\",\"+repr(self.next)\n",
    "\n",
    "    def __len__(self):\n",
    "        if self.next == None:\n",
    "            # base case: I'm the only Node!  Length must be 1\n",
    "            return 1\n",
    "        else:\n",
    "            # recursive case: total length is the length of next plus 1\n",
    "            return len(self.next) + 1\n",
    "\n",
    "A = Node(3)\n",
    "A.append(4)\n",
    "A"
   ]
  },
  {
   "cell_type": "code",
   "execution_count": 25,
   "metadata": {},
   "outputs": [
    {
     "name": "stdout",
     "output_type": "stream",
     "text": [
      "C\n",
      "C\n"
     ]
    }
   ],
   "source": [
    "regular_list = [\"A\", \"B\", \"C\", \"D\"]\n",
    "neg_idx = -2\n",
    "pos_idx = 4 + neg_idx # where did 4 come from?\n",
    "print(regular_list[neg_idx])\n",
    "print(regular_list[pos_idx])"
   ]
  },
  {
   "cell_type": "code",
   "execution_count": 26,
   "metadata": {},
   "outputs": [
    {
     "name": "stdout",
     "output_type": "stream",
     "text": [
      "'A','B','C'\n"
     ]
    }
   ],
   "source": [
    "L = Node(\"A\")\n",
    "L.append(\"B\")\n",
    "L.append(\"C\")\n",
    "print(L)"
   ]
  },
  {
   "cell_type": "code",
   "execution_count": 27,
   "metadata": {},
   "outputs": [
    {
     "data": {
      "text/plain": [
       "'C'"
      ]
     },
     "execution_count": 27,
     "metadata": {},
     "output_type": "execute_result"
    }
   ],
   "source": [
    "L[-1]"
   ]
  },
  {
   "cell_type": "code",
   "execution_count": 30,
   "metadata": {},
   "outputs": [
    {
     "name": "stdout",
     "output_type": "stream",
     "text": [
      "List: 'A','B','B','C','D'\n",
      "A is at index 0\n",
      "C is at index 3\n",
      "B occurs 2 times\n",
      "D occurs 1 times\n"
     ]
    }
   ],
   "source": [
    "L = Node(\"A\")\n",
    "L.append(\"B\")\n",
    "L.append(\"B\")\n",
    "L.append(\"C\")\n",
    "L.append(\"D\")\n",
    "print(\"List:\", L)\n",
    "print(\"A is at index\", L.index(\"A\"))\n",
    "print(\"C is at index\", L.index(\"C\"))\n",
    "print(\"B occurs\", L.count(\"B\"), \"times\")\n",
    "print(\"D occurs\", L.count(\"D\"), \"times\")"
   ]
  },
  {
   "cell_type": "code",
   "execution_count": 29,
   "metadata": {},
   "outputs": [
    {
     "name": "stdout",
     "output_type": "stream",
     "text": [
      "A\n",
      "B\n",
      "B\n",
      "C\n",
      "D\n"
     ]
    }
   ],
   "source": [
    "for x in L:\n",
    "    print(x)"
   ]
  },
  {
   "cell_type": "code",
   "execution_count": 31,
   "metadata": {},
   "outputs": [
    {
     "name": "stdout",
     "output_type": "stream",
     "text": [
      "--2020-02-09 17:57:53--  https://github.com/tylerharter/cs320/raw/master/s20/p2/mmt_gtfs.zip\n",
      "Resolving github.com (github.com)... 140.82.113.3\n",
      "Connecting to github.com (github.com)|140.82.113.3|:443... connected.\n",
      "HTTP request sent, awaiting response... 302 Found\n",
      "Location: https://raw.githubusercontent.com/tylerharter/cs320/master/s20/p2/mmt_gtfs.zip [following]\n",
      "--2020-02-09 17:57:54--  https://raw.githubusercontent.com/tylerharter/cs320/master/s20/p2/mmt_gtfs.zip\n",
      "Resolving raw.githubusercontent.com (raw.githubusercontent.com)... 199.232.28.133\n",
      "Connecting to raw.githubusercontent.com (raw.githubusercontent.com)|199.232.28.133|:443... connected.\n",
      "HTTP request sent, awaiting response... 200 OK\n",
      "Length: 8274970 (7.9M) [application/zip]\n",
      "Saving to: ‘mmt_gtfs.zip’\n",
      "\n",
      "mmt_gtfs.zip        100%[===================>]   7.89M  1.48MB/s    in 7.0s    \n",
      "\n",
      "2020-02-09 17:58:02 (1.13 MB/s) - ‘mmt_gtfs.zip’ saved [8274970/8274970]\n",
      "\n"
     ]
    }
   ],
   "source": [
    "! wget https://github.com/tylerharter/cs320/raw/master/s20/p2/mmt_gtfs.zip"
   ]
  },
  {
   "cell_type": "code",
   "execution_count": 35,
   "metadata": {},
   "outputs": [
    {
     "name": "stdout",
     "output_type": "stream",
     "text": [
      "agency.txt 363 204\n",
      "calendar.txt 2450 400\n",
      "calendar_dates.txt 3988 602\n",
      "extended_data_dictionary.txt 6546 2221\n",
      "fare_attributes.txt 126 99\n",
      "fare_rules.txt 1024 253\n",
      "feed_info.txt 298 178\n",
      "linked_datasets.txt 251 128\n",
      "routes.txt 33156 2952\n",
      "shapes.txt 10341920 2291431\n",
      "stop_features.txt 9566 2388\n",
      "stop_times.txt 36909825 5712510\n",
      "stops.txt 401411 89220\n",
      "terms_of_use.txt 5993 2491\n",
      "transfers.txt 480 200\n",
      "translations.txt 9863 666\n",
      "trips.txt 1399179 167219\n"
     ]
    }
   ],
   "source": [
    "from zipfile import ZipFile\n",
    "\n",
    "with ZipFile('mmt_gtfs.zip') as zf:\n",
    "    for info in zf.infolist():\n",
    "        print(info.filename, info.file_size, info.compress_size)"
   ]
  },
  {
   "cell_type": "code",
   "execution_count": 43,
   "metadata": {},
   "outputs": [
    {
     "name": "stdout",
     "output_type": "stream",
     "text": [
      "file agency.txt, 0.000 MB (uncompressed), 1.8 compression ratio\n",
      "file calendar.txt, 0.002 MB (uncompressed), 6.1 compression ratio\n",
      "file calendar_dates.txt, 0.004 MB (uncompressed), 6.6 compression ratio\n",
      "file extended_data_dictionary.txt, 0.006 MB (uncompressed), 2.9 compression ratio\n",
      "file fare_attributes.txt, 0.000 MB (uncompressed), 1.3 compression ratio\n",
      "file fare_rules.txt, 0.001 MB (uncompressed), 4.0 compression ratio\n",
      "file feed_info.txt, 0.000 MB (uncompressed), 1.7 compression ratio\n",
      "file linked_datasets.txt, 0.000 MB (uncompressed), 2.0 compression ratio\n",
      "file routes.txt, 0.032 MB (uncompressed), 11.2 compression ratio\n",
      "file shapes.txt, 9.863 MB (uncompressed), 4.5 compression ratio\n",
      "file stop_features.txt, 0.009 MB (uncompressed), 4.0 compression ratio\n",
      "file stop_times.txt, 35.200 MB (uncompressed), 6.5 compression ratio\n",
      "file stops.txt, 0.383 MB (uncompressed), 4.5 compression ratio\n",
      "file terms_of_use.txt, 0.006 MB (uncompressed), 2.4 compression ratio\n",
      "file transfers.txt, 0.000 MB (uncompressed), 2.4 compression ratio\n",
      "file translations.txt, 0.009 MB (uncompressed), 14.8 compression ratio\n",
      "file trips.txt, 1.334 MB (uncompressed), 8.4 compression ratio\n"
     ]
    }
   ],
   "source": [
    "num = 0\n",
    "den = 0\n",
    "\n",
    "for info in zf.infolist():\n",
    "    orig_mb = info.file_size / (1024**2) # there are 1024**2 bytes in a MB\n",
    "    ratio = info.file_size / info.compress_size\n",
    "    \n",
    "    num += info.file_size\n",
    "    den += info.compress_size\n",
    "    \n",
    "    s = \"file {name:s}, {mb:.3f} MB (uncompressed), {ratio:.1f} compression ratio\"\n",
    "    print(s.format(name=info.filename, mb=orig_mb, ratio=ratio))"
   ]
  },
  {
   "cell_type": "code",
   "execution_count": 44,
   "metadata": {},
   "outputs": [
    {
     "data": {
      "text/plain": [
       "5.9380487170443415"
      ]
     },
     "execution_count": 44,
     "metadata": {},
     "output_type": "execute_result"
    }
   ],
   "source": [
    "num/den"
   ]
  },
  {
   "cell_type": "code",
   "execution_count": 45,
   "metadata": {},
   "outputs": [
    {
     "name": "stdout",
     "output_type": "stream",
     "text": [
      "-rw-r--r--  1 trh  staff   7.9M Feb  9 17:58 mmt_gtfs.zip\r\n"
     ]
    }
   ],
   "source": [
    "!ls -lah mmt_gtfs.zip"
   ]
  },
  {
   "cell_type": "code",
   "execution_count": 49,
   "metadata": {},
   "outputs": [
    {
     "name": "stdout",
     "output_type": "stream",
     "text": [
      "b'service_id,service_name,monday,tuesday,wednesday,thursday,friday,saturday,sunday,start_date,end_date\\r\\n88_D24,December 24,0,0,0,0,0,0,0,20191201,20200229\\r\\n88_D31,December 31,0,0,0,0,0,0,0,20191201,20200229\\r\\n88_HOL,Holiday,0,0,0,0,0,0,0,20191201,20200229\\r\\n88_MWK,Modified,0,0,0,0,0,0,0,20191201,20200229\\r\\n88_MWK:R,Recess Modified,0,0,0,0,0,0,0,20191201,20200229\\r\\n88_SAT,Saturday,0,0,0,0,0,1,0,20191201,20200229\\r\\n88_SAT:L,Latenight Saturday,0,0,0,0,0,1,0,20191201,20200229\\r\\n88_SAT:R,Recess Saturday,0,0,0,0,0,0,0,20191201,20200229\\r\\n88_SAT:S,Standard Saturday,0,0,0,0,0,1,0,20191201,20200229\\r\\n88_SUN,Sunday,0,0,0,0,0,0,1,20191201,20200229\\r\\n88_SUN:L,Latenight Sunday,0,0,0,0,0,0,1,20191201,20200229\\r\\n88_SUN:R,Recess Sunday,0,0,0,0,0,0,0,20191201,20200229\\r\\n88_SUN:S,Standard Sunday,0,0,0,0,0,0,1,20191201,20200229\\r\\n88_WKD,Weekday,1,1,1,1,1,0,0,20191201,20200229\\r\\n88_WKD:G,Weekday Extra,1,1,1,1,1,0,0,20191201,20200229\\r\\n88_WKD:L#6,Latenight Mon-Thu,1,1,1,1,0,0,0,20191201,20200229\\r\\n88_WKD:L=6,Latenight Fri only,0,0,0,0,1,0,0,20191201,20200229\\r\\n88_WKD:R,Recess Weekday,0,0,0,0,0,0,0,20191201,20200229\\r\\n88_WKD:S,Standard Weekday,1,1,1,1,1,0,0,20191201,20200229\\r\\n88_WKD:S#6,Standard Mon-Thu,1,1,1,1,0,0,0,20191201,20200229\\r\\n88_WKD:S=6,Standard Fri only,0,0,0,0,1,0,0,20191201,20200229\\r\\n89_D24,December 24,0,0,0,0,0,0,0,20200301,20200509\\r\\n89_D31,December 31,0,0,0,0,0,0,0,20200301,20200509\\r\\n89_HOL,Holiday,0,0,0,0,0,0,0,20200301,20200509\\r\\n89_MWK,Modified,0,0,0,0,0,0,0,20200301,20200509\\r\\n89_MWK:R,Recess Modified,0,0,0,0,0,0,0,20200301,20200509\\r\\n89_SAT,Saturday,0,0,0,0,0,1,0,20200301,20200509\\r\\n89_SAT:L,Latenight Saturday,0,0,0,0,0,1,0,20200301,20200509\\r\\n89_SAT:R,Recess Saturday,0,0,0,0,0,0,0,20200301,20200509\\r\\n89_SAT:S,Standard Saturday,0,0,0,0,0,1,0,20200301,20200509\\r\\n89_SUN,Sunday,0,0,0,0,0,0,1,20200301,20200509\\r\\n89_SUN:L,Latenight Sunday,0,0,0,0,0,0,1,20200301,20200509\\r\\n89_SUN:R,Recess Sunday,0,0,0,0,0,0,0,20200301,20200509\\r\\n89_SUN:S,Standard Sunday,0,0,0,0,0,0,1,20200301,20200509\\r\\n89_WKD,Weekday,1,1,1,1,1,0,0,20200301,20200509\\r\\n89_WKD:G,Weekday Extra,1,1,1,1,1,0,0,20200301,20200509\\r\\n89_WKD:L#6,Latenight Mon-Thu,1,1,1,1,0,0,0,20200301,20200509\\r\\n89_WKD:L=6,Latenight Fri only,0,0,0,0,1,0,0,20200301,20200509\\r\\n89_WKD:R,Recess Weekday,0,0,0,0,0,0,0,20200301,20200509\\r\\n89_WKD:S,Standard Weekday,1,1,1,1,1,0,0,20200301,20200509\\r\\n89_WKD:S#6,Standard Mon-Thu,1,1,1,1,0,0,0,20200301,20200509\\r\\n89_WKD:S=6,Standard Fri only,0,0,0,0,1,0,0,20200301,20200509'\n"
     ]
    }
   ],
   "source": [
    "with ZipFile('mmt_gtfs.zip') as zf:\n",
    "    with zf.open(\"calendar.txt\") as f:\n",
    "        print(f.read())"
   ]
  },
  {
   "cell_type": "code",
   "execution_count": 50,
   "metadata": {},
   "outputs": [
    {
     "data": {
      "text/html": [
       "<div>\n",
       "<style scoped>\n",
       "    .dataframe tbody tr th:only-of-type {\n",
       "        vertical-align: middle;\n",
       "    }\n",
       "\n",
       "    .dataframe tbody tr th {\n",
       "        vertical-align: top;\n",
       "    }\n",
       "\n",
       "    .dataframe thead th {\n",
       "        text-align: right;\n",
       "    }\n",
       "</style>\n",
       "<table border=\"1\" class=\"dataframe\">\n",
       "  <thead>\n",
       "    <tr style=\"text-align: right;\">\n",
       "      <th></th>\n",
       "      <th>service_id</th>\n",
       "      <th>service_name</th>\n",
       "      <th>monday</th>\n",
       "      <th>tuesday</th>\n",
       "      <th>wednesday</th>\n",
       "      <th>thursday</th>\n",
       "      <th>friday</th>\n",
       "      <th>saturday</th>\n",
       "      <th>sunday</th>\n",
       "      <th>start_date</th>\n",
       "      <th>end_date</th>\n",
       "    </tr>\n",
       "  </thead>\n",
       "  <tbody>\n",
       "    <tr>\n",
       "      <th>0</th>\n",
       "      <td>88_D24</td>\n",
       "      <td>December 24</td>\n",
       "      <td>0</td>\n",
       "      <td>0</td>\n",
       "      <td>0</td>\n",
       "      <td>0</td>\n",
       "      <td>0</td>\n",
       "      <td>0</td>\n",
       "      <td>0</td>\n",
       "      <td>20191201</td>\n",
       "      <td>20200229</td>\n",
       "    </tr>\n",
       "    <tr>\n",
       "      <th>1</th>\n",
       "      <td>88_D31</td>\n",
       "      <td>December 31</td>\n",
       "      <td>0</td>\n",
       "      <td>0</td>\n",
       "      <td>0</td>\n",
       "      <td>0</td>\n",
       "      <td>0</td>\n",
       "      <td>0</td>\n",
       "      <td>0</td>\n",
       "      <td>20191201</td>\n",
       "      <td>20200229</td>\n",
       "    </tr>\n",
       "    <tr>\n",
       "      <th>2</th>\n",
       "      <td>88_HOL</td>\n",
       "      <td>Holiday</td>\n",
       "      <td>0</td>\n",
       "      <td>0</td>\n",
       "      <td>0</td>\n",
       "      <td>0</td>\n",
       "      <td>0</td>\n",
       "      <td>0</td>\n",
       "      <td>0</td>\n",
       "      <td>20191201</td>\n",
       "      <td>20200229</td>\n",
       "    </tr>\n",
       "    <tr>\n",
       "      <th>3</th>\n",
       "      <td>88_MWK</td>\n",
       "      <td>Modified</td>\n",
       "      <td>0</td>\n",
       "      <td>0</td>\n",
       "      <td>0</td>\n",
       "      <td>0</td>\n",
       "      <td>0</td>\n",
       "      <td>0</td>\n",
       "      <td>0</td>\n",
       "      <td>20191201</td>\n",
       "      <td>20200229</td>\n",
       "    </tr>\n",
       "    <tr>\n",
       "      <th>4</th>\n",
       "      <td>88_MWK:R</td>\n",
       "      <td>Recess Modified</td>\n",
       "      <td>0</td>\n",
       "      <td>0</td>\n",
       "      <td>0</td>\n",
       "      <td>0</td>\n",
       "      <td>0</td>\n",
       "      <td>0</td>\n",
       "      <td>0</td>\n",
       "      <td>20191201</td>\n",
       "      <td>20200229</td>\n",
       "    </tr>\n",
       "  </tbody>\n",
       "</table>\n",
       "</div>"
      ],
      "text/plain": [
       "  service_id     service_name  monday  tuesday  wednesday  thursday  friday  \\\n",
       "0     88_D24      December 24       0        0          0         0       0   \n",
       "1     88_D31      December 31       0        0          0         0       0   \n",
       "2     88_HOL          Holiday       0        0          0         0       0   \n",
       "3     88_MWK         Modified       0        0          0         0       0   \n",
       "4   88_MWK:R  Recess Modified       0        0          0         0       0   \n",
       "\n",
       "   saturday  sunday  start_date  end_date  \n",
       "0         0       0    20191201  20200229  \n",
       "1         0       0    20191201  20200229  \n",
       "2         0       0    20191201  20200229  \n",
       "3         0       0    20191201  20200229  \n",
       "4         0       0    20191201  20200229  "
      ]
     },
     "execution_count": 50,
     "metadata": {},
     "output_type": "execute_result"
    }
   ],
   "source": [
    "import pandas as pd\n",
    "\n",
    "with ZipFile('mmt_gtfs.zip') as zf:\n",
    "    with zf.open(\"calendar.txt\") as f:\n",
    "        df = pd.read_csv(f)\n",
    "\n",
    "df.head()"
   ]
  },
  {
   "cell_type": "code",
   "execution_count": 52,
   "metadata": {},
   "outputs": [
    {
     "data": {
      "text/html": [
       "<div>\n",
       "<style scoped>\n",
       "    .dataframe tbody tr th:only-of-type {\n",
       "        vertical-align: middle;\n",
       "    }\n",
       "\n",
       "    .dataframe tbody tr th {\n",
       "        vertical-align: top;\n",
       "    }\n",
       "\n",
       "    .dataframe thead th {\n",
       "        text-align: right;\n",
       "    }\n",
       "</style>\n",
       "<table border=\"1\" class=\"dataframe\">\n",
       "  <thead>\n",
       "    <tr style=\"text-align: right;\">\n",
       "      <th></th>\n",
       "      <th>service_id</th>\n",
       "      <th>service_name</th>\n",
       "      <th>monday</th>\n",
       "      <th>tuesday</th>\n",
       "      <th>wednesday</th>\n",
       "      <th>thursday</th>\n",
       "      <th>friday</th>\n",
       "      <th>saturday</th>\n",
       "      <th>sunday</th>\n",
       "      <th>start_date</th>\n",
       "      <th>end_date</th>\n",
       "    </tr>\n",
       "  </thead>\n",
       "  <tbody>\n",
       "    <tr>\n",
       "      <th>5</th>\n",
       "      <td>88_SAT</td>\n",
       "      <td>Saturday</td>\n",
       "      <td>0</td>\n",
       "      <td>0</td>\n",
       "      <td>0</td>\n",
       "      <td>0</td>\n",
       "      <td>0</td>\n",
       "      <td>1</td>\n",
       "      <td>0</td>\n",
       "      <td>20191201</td>\n",
       "      <td>20200229</td>\n",
       "    </tr>\n",
       "    <tr>\n",
       "      <th>6</th>\n",
       "      <td>88_SAT:L</td>\n",
       "      <td>Latenight Saturday</td>\n",
       "      <td>0</td>\n",
       "      <td>0</td>\n",
       "      <td>0</td>\n",
       "      <td>0</td>\n",
       "      <td>0</td>\n",
       "      <td>1</td>\n",
       "      <td>0</td>\n",
       "      <td>20191201</td>\n",
       "      <td>20200229</td>\n",
       "    </tr>\n",
       "    <tr>\n",
       "      <th>8</th>\n",
       "      <td>88_SAT:S</td>\n",
       "      <td>Standard Saturday</td>\n",
       "      <td>0</td>\n",
       "      <td>0</td>\n",
       "      <td>0</td>\n",
       "      <td>0</td>\n",
       "      <td>0</td>\n",
       "      <td>1</td>\n",
       "      <td>0</td>\n",
       "      <td>20191201</td>\n",
       "      <td>20200229</td>\n",
       "    </tr>\n",
       "    <tr>\n",
       "      <th>26</th>\n",
       "      <td>89_SAT</td>\n",
       "      <td>Saturday</td>\n",
       "      <td>0</td>\n",
       "      <td>0</td>\n",
       "      <td>0</td>\n",
       "      <td>0</td>\n",
       "      <td>0</td>\n",
       "      <td>1</td>\n",
       "      <td>0</td>\n",
       "      <td>20200301</td>\n",
       "      <td>20200509</td>\n",
       "    </tr>\n",
       "    <tr>\n",
       "      <th>27</th>\n",
       "      <td>89_SAT:L</td>\n",
       "      <td>Latenight Saturday</td>\n",
       "      <td>0</td>\n",
       "      <td>0</td>\n",
       "      <td>0</td>\n",
       "      <td>0</td>\n",
       "      <td>0</td>\n",
       "      <td>1</td>\n",
       "      <td>0</td>\n",
       "      <td>20200301</td>\n",
       "      <td>20200509</td>\n",
       "    </tr>\n",
       "    <tr>\n",
       "      <th>29</th>\n",
       "      <td>89_SAT:S</td>\n",
       "      <td>Standard Saturday</td>\n",
       "      <td>0</td>\n",
       "      <td>0</td>\n",
       "      <td>0</td>\n",
       "      <td>0</td>\n",
       "      <td>0</td>\n",
       "      <td>1</td>\n",
       "      <td>0</td>\n",
       "      <td>20200301</td>\n",
       "      <td>20200509</td>\n",
       "    </tr>\n",
       "  </tbody>\n",
       "</table>\n",
       "</div>"
      ],
      "text/plain": [
       "   service_id        service_name  monday  tuesday  wednesday  thursday  \\\n",
       "5      88_SAT            Saturday       0        0          0         0   \n",
       "6    88_SAT:L  Latenight Saturday       0        0          0         0   \n",
       "8    88_SAT:S   Standard Saturday       0        0          0         0   \n",
       "26     89_SAT            Saturday       0        0          0         0   \n",
       "27   89_SAT:L  Latenight Saturday       0        0          0         0   \n",
       "29   89_SAT:S   Standard Saturday       0        0          0         0   \n",
       "\n",
       "    friday  saturday  sunday  start_date  end_date  \n",
       "5        0         1       0    20191201  20200229  \n",
       "6        0         1       0    20191201  20200229  \n",
       "8        0         1       0    20191201  20200229  \n",
       "26       0         1       0    20200301  20200509  \n",
       "27       0         1       0    20200301  20200509  \n",
       "29       0         1       0    20200301  20200509  "
      ]
     },
     "execution_count": 52,
     "metadata": {},
     "output_type": "execute_result"
    }
   ],
   "source": [
    "df[df[\"saturday\"] == 1]"
   ]
  },
  {
   "cell_type": "code",
   "execution_count": null,
   "metadata": {},
   "outputs": [],
   "source": []
  }
 ],
 "metadata": {
  "kernelspec": {
   "display_name": "Python 3",
   "language": "python",
   "name": "python3"
  },
  "language_info": {
   "codemirror_mode": {
    "name": "ipython",
    "version": 3
   },
   "file_extension": ".py",
   "mimetype": "text/x-python",
   "name": "python",
   "nbconvert_exporter": "python",
   "pygments_lexer": "ipython3",
   "version": "3.7.2"
  }
 },
 "nbformat": 4,
 "nbformat_minor": 2
}
