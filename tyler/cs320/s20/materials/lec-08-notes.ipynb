{
 "cells": [
  {
   "cell_type": "markdown",
   "metadata": {},
   "source": [
    "# Lecture 8"
   ]
  },
  {
   "cell_type": "code",
   "execution_count": 8,
   "metadata": {},
   "outputs": [
    {
     "name": "stdout",
     "output_type": "stream",
     "text": [
      "Sam: bark bark bark bark bark \n"
     ]
    },
    {
     "ename": "TypeError",
     "evalue": "bark() takes 3 positional arguments but 4 were given",
     "output_type": "error",
     "traceback": [
      "\u001b[0;31m---------------------------------------------------------------------------\u001b[0m",
      "\u001b[0;31mTypeError\u001b[0m                                 Traceback (most recent call last)",
      "\u001b[0;32m<ipython-input-8-acb59579c1ac>\u001b[0m in \u001b[0;36m<module>\u001b[0;34m\u001b[0m\n\u001b[1;32m     13\u001b[0m \u001b[0;34m\u001b[0m\u001b[0m\n\u001b[1;32m     14\u001b[0m \u001b[0mfido\u001b[0m\u001b[0;34m.\u001b[0m\u001b[0mbark\u001b[0m\u001b[0;34m(\u001b[0m\u001b[0;36m5\u001b[0m\u001b[0;34m,\u001b[0m \u001b[0;32mFalse\u001b[0m\u001b[0;34m)\u001b[0m               \u001b[0;31m# 1\u001b[0m\u001b[0;34m\u001b[0m\u001b[0;34m\u001b[0m\u001b[0m\n\u001b[0;32m---> 15\u001b[0;31m \u001b[0mfido\u001b[0m\u001b[0;34m.\u001b[0m\u001b[0mbark\u001b[0m\u001b[0;34m(\u001b[0m\u001b[0mfido\u001b[0m\u001b[0;34m,\u001b[0m \u001b[0;36m5\u001b[0m\u001b[0;34m,\u001b[0m \u001b[0;32mTrue\u001b[0m\u001b[0;34m)\u001b[0m          \u001b[0;31m# 2\u001b[0m\u001b[0;34m\u001b[0m\u001b[0;34m\u001b[0m\u001b[0m\n\u001b[0m\u001b[1;32m     16\u001b[0m \u001b[0mfido\u001b[0m\u001b[0;34m.\u001b[0m\u001b[0mbark\u001b[0m\u001b[0;34m(\u001b[0m\u001b[0mfido\u001b[0m\u001b[0;34m,\u001b[0m \u001b[0;36m5\u001b[0m\u001b[0;34m,\u001b[0m \u001b[0;32mTrue\u001b[0m\u001b[0;34m,\u001b[0m \u001b[0;32mNone\u001b[0m\u001b[0;34m)\u001b[0m    \u001b[0;31m# 3\u001b[0m\u001b[0;34m\u001b[0m\u001b[0;34m\u001b[0m\u001b[0m\n",
      "\u001b[0;31mTypeError\u001b[0m: bark() takes 3 positional arguments but 4 were given"
     ]
    }
   ],
   "source": [
    "class Dog:\n",
    "    def __init__(self, name):\n",
    "        self.name = name\n",
    "        \n",
    "    def bark(self, mult, ucase):\n",
    "        msg = \"bark \" * mult\n",
    "        if ucase:\n",
    "            msg = msg.upper()\n",
    "        print(self.name + \": \" + msg)\n",
    "        \n",
    "sam = Dog(\"Fido\")\n",
    "fido = Dog(\"Sam\")\n",
    "\n",
    "fido.bark(5, False)               # 1\n",
    "fido.bark(fido, 5, True)          # 2\n",
    "fido.bark(fido, 5, True, None)    # 3"
   ]
  },
  {
   "cell_type": "code",
   "execution_count": 14,
   "metadata": {},
   "outputs": [
    {
     "data": {
      "text/plain": [
       "120.00000000000001"
      ]
     },
     "execution_count": 14,
     "metadata": {},
     "output_type": "execute_result"
    }
   ],
   "source": [
    "from math import *\n",
    "\n",
    "class ContinuousList:\n",
    "    def __init__(self, L):\n",
    "        self.L = L\n",
    "        \n",
    "    def __getitem__(self, pos):\n",
    "        assert 0 <= pos <= len(self.L) - 1\n",
    "        idx1 = floor(pos) # round down\n",
    "        idx2 = ceil(pos)  # round up\n",
    "        v1 = self.L[idx1]\n",
    "        v2 = self.L[idx2]\n",
    "        diff = v2 - v1\n",
    "        return v1 + (pos - idx1) * diff\n",
    "    \n",
    "clist = ContinuousList([7, 8, 9, 100, 200])\n",
    "x = clist[3.2]\n",
    "y = clist[1:3]"
   ]
  },
  {
   "cell_type": "markdown",
   "metadata": {},
   "source": [
    "# Outline\n",
    "\n",
    "* review\n",
    "* context managers\n",
    "* TODAY\n",
    "* Series\n",
    "\n",
    "TODAY:\n",
    "* how does `obj.__str__()` work if we haven't implemented it?\n",
    "* look at `obj.__mro__`, `dir(Dog)`, `dir(object)`\n",
    "* inheritance of methods (NameStr, str, repr)\n",
    "* inheritance of constructor\n",
    "* overriding methods\n",
    "* calling overridden methods, constructors\n",
    "* from collections.abc import Sequence"
   ]
  },
  {
   "cell_type": "code",
   "execution_count": null,
   "metadata": {},
   "outputs": [],
   "source": [
    "class Dog:\n",
    "    def __str__(self):\n",
    "        return \"dog\"\n",
    "\n",
    "class Cat:\n",
    "    def __str__(self):\n",
    "        return \"cat\"\n",
    "\n",
    "d = Dog(\"Fido\", 5)\n",
    "print(d)\n",
    "d"
   ]
  },
  {
   "cell_type": "code",
   "execution_count": 96,
   "metadata": {},
   "outputs": [
    {
     "name": "stdout",
     "output_type": "stream",
     "text": [
      "Dog Fido\n"
     ]
    },
    {
     "data": {
      "text/plain": [
       "Dog(name='Fido')"
      ]
     },
     "execution_count": 96,
     "metadata": {},
     "output_type": "execute_result"
    }
   ],
   "source": [
    "class NameStr:\n",
    "    def __init__(self, name):\n",
    "        self.name = name\n",
    "\n",
    "    def __str__(self):\n",
    "        return type(self).__name__ + \" \" + self.name\n",
    "\n",
    "    def __repr__(self):\n",
    "        return \"{}(name='{}')\".format(type(self).__name__, self.name)\n",
    "\n",
    "class Dog(NameStr):\n",
    "    def __init__(self, name, age):\n",
    "        NameStr.__init__(self, name)\n",
    "        self.age = age\n",
    "\n",
    "class Cat(NameStr):\n",
    "    def __str__(self):\n",
    "        return NameStr.__str__(self) + \" [string expert]\"\n",
    "\n",
    "d = Dog(\"Fido\", 5)\n",
    "print(d)\n",
    "d"
   ]
  },
  {
   "cell_type": "code",
   "execution_count": 97,
   "metadata": {},
   "outputs": [
    {
     "name": "stdout",
     "output_type": "stream",
     "text": [
      "Cat Kevin [string expert]\n"
     ]
    },
    {
     "data": {
      "text/plain": [
       "Cat(name='Kevin')"
      ]
     },
     "execution_count": 97,
     "metadata": {},
     "output_type": "execute_result"
    }
   ],
   "source": [
    "c = Cat(\"Kevin\")\n",
    "print(c)\n",
    "c"
   ]
  },
  {
   "cell_type": "code",
   "execution_count": 111,
   "metadata": {},
   "outputs": [],
   "source": [
    "from collections.abc import Sequence"
   ]
  },
  {
   "cell_type": "code",
   "execution_count": 129,
   "metadata": {},
   "outputs": [
    {
     "data": {
      "text/plain": [
       "5"
      ]
     },
     "execution_count": 129,
     "metadata": {},
     "output_type": "execute_result"
    }
   ],
   "source": [
    "class Range:\n",
    "    def __init__(self, bound1, bound2=None):\n",
    "        if bound2 != None:\n",
    "            self.lower = bound1 # inclusive\n",
    "            self.upper = bound2 # exclusive\n",
    "        else:\n",
    "            self.lower = 0\n",
    "            self.upper = bound1\n",
    "\n",
    "    def __len__(self):\n",
    "        return self.upper - self.lower\n",
    "\n",
    "    def __getitem__(self, lookup):\n",
    "        if not isinstance(lookup, int):\n",
    "            raise NotImplementedError(\"only int indexes supported\")\n",
    "        if lookup < 0:\n",
    "            raise NotImplementedError(\"neg idx not supported\")\n",
    "        elif lookup + self.lower >= self.upper:\n",
    "            raise IndexError(\"idx too big!\")\n",
    "        return self.lower + lookup\n",
    "\n",
    "r1 = Range(2, 8)\n",
    "r1[3]"
   ]
  },
  {
   "cell_type": "code",
   "execution_count": 132,
   "metadata": {},
   "outputs": [
    {
     "data": {
      "text/plain": [
       "<iterator at 0x103ba04a8>"
      ]
     },
     "execution_count": 132,
     "metadata": {},
     "output_type": "execute_result"
    }
   ],
   "source": [
    "iter(r1)"
   ]
  },
  {
   "cell_type": "code",
   "execution_count": null,
   "metadata": {},
   "outputs": [],
   "source": []
  }
 ],
 "metadata": {
  "kernelspec": {
   "display_name": "Python 3",
   "language": "python",
   "name": "python3"
  },
  "language_info": {
   "codemirror_mode": {
    "name": "ipython",
    "version": 3
   },
   "file_extension": ".py",
   "mimetype": "text/x-python",
   "name": "python",
   "nbconvert_exporter": "python",
   "pygments_lexer": "ipython3",
   "version": "3.7.2"
  }
 },
 "nbformat": 4,
 "nbformat_minor": 4
}
