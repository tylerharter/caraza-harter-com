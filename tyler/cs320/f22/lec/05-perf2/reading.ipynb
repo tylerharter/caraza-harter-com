{
 "cells": [
  {
   "cell_type": "markdown",
   "metadata": {},
   "source": [
    "#  Complexity of List Operations\n",
    "\n",
    "Last time, we learned that a \"step\" is any unit of work with bounded execution time (it doesn't keep getting slower with growing input size).\n",
    "\n",
    "This definition provides significant flexibility.  For example, consider the following:\n",
    "\n",
    "```python\n",
    "print(1)\n",
    "print(2)\n",
    "print(3)\n",
    "```\n",
    "\n",
    "On could count each print as a single step, but given the definition, it would be equally legitimate to consider the 3-line code snippet to be a single step.\n",
    "\n",
    "Just like a step might correspond to multiple lines, sometimes a single line corresponds to multiple steps.  For example, the following line is not a single step, or a O(1) snippet of code:\n",
    "\n",
    "```python\n",
    "total = add_them_up(nums)\n",
    "```\n",
    "\n",
    "It turns out the above in an O(N) operation, where N is the length of the nums list.  Of course, you would only know that if we also show you the definition of `add_them_up`:\n",
    "\n",
    "```python\n",
    "def add_them_up(values):\n",
    "    total = 0\n",
    "    for v in values:\n",
    "        total += v\n",
    "    return total\n",
    "```\n",
    "\n",
    "A common misconception is that functions and operations built into Python count as single steps, but this is not so.  Python's `sum` function works much like the above `add_them_up`, so the following line is an O(N) snippet of code, not a single step:\n",
    "\n",
    "```python\n",
    "total = add_them_up(nums)\n",
    "```\n",
    "\n",
    "In this reading, we'll consider 8 common list operations, each of which is either O(N) or O(1) -- calls to the latter can be counted as a single step.  This has great practical significance: your code will generally be faster if you avoid the O(N) operations except when necessary.\n",
    "\n",
    "1. len\n",
    "2. index\n",
    "3. append\n",
    "4. insert\n",
    "5. pop\n",
    "6. extend\n",
    "7. in\n",
    "8. max\n",
    "\n",
    "Remember that every process keeps all its data in a big \"list\" called an address space.  It's a slight simplification, but useful to imagine each Python list as occupying a range of spots within the address space.  For example, we could imagine a list of the letters A through D occupying addresses 3-6, like this:\n",
    "\n",
    "```\n",
    "   ABCD     [VALUES]\n",
    "0123456789  [ADDRESSES]\n",
    "```\n",
    "\n",
    "Accessing at a single address counts a single step (by \"accessing\", we mean looking it up or changing it) -- we'll use this to reason about which of are other operations can or cannot count as a single step."
   ]
  },
  {
   "cell_type": "markdown",
   "metadata": {},
   "source": [
    "## len(L)\n",
    "\n",
    "We already saw that `sum` is an O(N) operation.  You might guess `len` is too, and it would be if it were implemented something like this:\n",
    "\n",
    "```python\n",
    "def get_length(L):\n",
    "    length = 0\n",
    "    for item in L:\n",
    "        length += 1\n",
    "    return length\n",
    "```\n",
    "\n",
    "Fortunately, Python lists keep some extra statistics to make this faster, something like this:\n",
    "\n",
    "```\n",
    "  4ABCD     [VALUES]\n",
    "0123456789  [ADDRESSES]\n",
    "```\n",
    "\n",
    "When `len(L)` is called, Python looks up the pre-computed length instead of re-counting.  Of course, this will need to be updated each time a new value it added:\n",
    "\n",
    "```\n",
    "  5ABCDE    [VALUES]\n",
    "0123456789  [ADDRESSES]\n",
    "```\n",
    "\n",
    "You could imagine a better version of the Python list that also keeps track of the sum, as items are added/modified.  For example, a list of `[5,1,2]` might look like this:\n",
    "\n",
    "```\n",
    "  37512     [VALUES]\n",
    "0123456789  [ADDRESSES]\n",
    "```\n",
    "\n",
    "In this case, the values would be at addresses 4-6.  The length of the list would be stored at position 2 and the sum at position 3.  Hypothetically, if Python lists worked like this, both `len` and `sum` would be O(1) operations; in reality, only `len` is O(1) and sum is O(N).  One takeaway is that when it comes to performance, you need to learn about the specific data structures you are using in your specific programming language.  Your intuition about how things work may apply to varying degrees across different languages and environments."
   ]
  },
  {
   "cell_type": "markdown",
   "metadata": {},
   "source": [
    "## Indexing\n",
    "\n",
    "`L[0]` is fast (an O(1) operation) -- Python knows the address where the list values starts (in this case, address 3), and it can just quickly access that location in the address space.\n",
    "\n",
    "```\n",
    "  4ABCD     [VALUES]\n",
    "0123456789  [ADDRESSES]\n",
    "```\n",
    "\n",
    "What about other positions, such as the end of the list?  For example, `L[2]`?  This is fast too.  If the list starts at location 3 in the address space, then the value referred to by `L[2]` lives at location 3+2 in the address space.  If we know the address, we can quickly get the value.\n",
    "\n",
    "What about negative indexes?  Do we need to loop over every item to find the end when you use `L[-1]`?  No.  `L[-k]` is the same as `L[len(L)-k]`.  Comuting the length is O(1) and subtraction is O(1).  This converts the negative index to a positive, and we've already discussed how accessing a positive index is O(1).  Thus, the whole thing is O(1), or a single step."
   ]
  },
  {
   "cell_type": "markdown",
   "metadata": {},
   "source": [
    "## L.append(...)\n",
    "\n",
    "This is fast.  Assuming our list looks something like this:\n",
    "\n",
    "```\n",
    "  4ABCD     [VALUES]\n",
    "0123456789  [ADDRESSES]\n",
    "```\n",
    "\n",
    "Appending a value accesses a fixed number of locations (locations 2 and 7, to be precise):\n",
    "\n",
    "```\n",
    "  5ABCDE    [VALUES]\n",
    "0123456789  [ADDRESSES]\n",
    "```"
   ]
  },
  {
   "cell_type": "markdown",
   "metadata": {},
   "source": [
    "## L.insert(...)\n",
    "\n",
    "Insterting is like appending, except we can at the value at any index we like."
   ]
  },
  {
   "cell_type": "code",
   "execution_count": 1,
   "metadata": {},
   "outputs": [
    {
     "data": {
      "text/plain": [
       "[1, 2, 100, 3, 4]"
      ]
     },
     "execution_count": 1,
     "metadata": {},
     "output_type": "execute_result"
    }
   ],
   "source": [
    "L = [1,2,3,4]\n",
    "L.insert(2, 100) # in the middle\n",
    "L"
   ]
  },
  {
   "cell_type": "code",
   "execution_count": 2,
   "metadata": {},
   "outputs": [
    {
     "data": {
      "text/plain": [
       "[100, 1, 2, 3, 4]"
      ]
     },
     "execution_count": 2,
     "metadata": {},
     "output_type": "execute_result"
    }
   ],
   "source": [
    "L = [1,2,3,4]\n",
    "L.insert(0, 100) # at the beginning\n",
    "L"
   ]
  },
  {
   "cell_type": "markdown",
   "metadata": {},
   "source": [
    "Inserting in the middle, or worse the beginning, causes many values to shift over.\n",
    "\n",
    "```\n",
    "  4ABCD     [VALUES]\n",
    "0123456789  [ADDRESSES]\n",
    "```\n",
    "\n",
    "After `L.insert(0, \"Z\")`, it looks like this:\n",
    "\n",
    "```\n",
    "  5ZABCD     [VALUES]\n",
    "0123456789  [ADDRESSES]\n",
    "```\n",
    "\n",
    "We had to move D from spot 6 to 7, C from spot 5 to 6, etc.  As we have more values, it will run proportionately slower.  Insert (in the worst case), is an O(N) operation."
   ]
  },
  {
   "cell_type": "markdown",
   "metadata": {},
   "source": [
    "# L.pop(...)\n",
    "\n",
    "```\n",
    "  4ABCD     [VALUES]\n",
    "0123456789  [ADDRESSES]\n",
    "```\n",
    "\n",
    "Popping from the end with `L.pop(-1)` is O(1):\n",
    "\n",
    "```\n",
    "  3ABC      [VALUES]\n",
    "0123456789  [ADDRESSES]\n",
    "```\n",
    "\n",
    "In contrast, popping from the beginning with `L.pop(0)` is slow (O(N)), as we need to shift all the other values too (just like when we insert at the beginning):\n",
    "\n",
    "```\n",
    "  2BC       [VALUES]\n",
    "0123456789  [ADDRESSES]\n",
    "```"
   ]
  },
  {
   "cell_type": "markdown",
   "metadata": {},
   "source": [
    "# L.extend(...)\n",
    "\n",
    "extend is a little different than append.  Let's review the difference."
   ]
  },
  {
   "cell_type": "code",
   "execution_count": 3,
   "metadata": {},
   "outputs": [
    {
     "data": {
      "text/plain": [
       "[1, 2, 3, [4, 5, 6]]"
      ]
     },
     "execution_count": 3,
     "metadata": {},
     "output_type": "execute_result"
    }
   ],
   "source": [
    "L = [1,2,3]\n",
    "L2 = [4,5,6]\n",
    "L.append(L2)\n",
    "L"
   ]
  },
  {
   "cell_type": "code",
   "execution_count": 4,
   "metadata": {},
   "outputs": [
    {
     "data": {
      "text/plain": [
       "[1, 2, 3, 4, 5, 6]"
      ]
     },
     "execution_count": 4,
     "metadata": {},
     "output_type": "execute_result"
    }
   ],
   "source": [
    "L = [1,2,3]\n",
    "L2 = [4,5,6]\n",
    "L.extend(L2)\n",
    "L"
   ]
  },
  {
   "cell_type": "markdown",
   "metadata": {},
   "source": [
    "If L is `[\"A\", \"B\", \"C\"]` and L2 is `[\"X\", \"Y\"]`, the address space might look something like this:\n",
    "\n",
    "```\n",
    "  ABC   XY  [VALUES]\n",
    "0123456789  [ADDRESSES]\n",
    "```\n",
    "\n",
    "After extend, it would look like this:\n",
    "\n",
    "```\n",
    "  ABCXY XY  [VALUES]\n",
    "0123456789  [ADDRESSES]\n",
    "```\n",
    "\n",
    "We've been categorizing the input size with one variable, N.  Here, we have to lists, so we should we two variables.  We'll use N for len(L) and M for len(L2).  In this case, we have to copy every item from L2 (XY in the example above).  So the complexity is in terms of L2's size: O(M).  The time it takes to execute the extend does not depend on the size of L (that is, N)."
   ]
  },
  {
   "cell_type": "markdown",
   "metadata": {},
   "source": [
    "## in\n",
    "\n",
    "You should imagine the `in` operator like this:"
   ]
  },
  {
   "cell_type": "code",
   "execution_count": 5,
   "metadata": {},
   "outputs": [
    {
     "data": {
      "text/plain": [
       "True"
      ]
     },
     "execution_count": 5,
     "metadata": {},
     "output_type": "execute_result"
    }
   ],
   "source": [
    "nums = [2,7,3,9,8,4]\n",
    "4 in nums"
   ]
  },
  {
   "cell_type": "code",
   "execution_count": 6,
   "metadata": {},
   "outputs": [
    {
     "data": {
      "text/plain": [
       "True"
      ]
     },
     "execution_count": 6,
     "metadata": {},
     "output_type": "execute_result"
    }
   ],
   "source": [
    "def in_function(values, target):\n",
    "    for v in values:\n",
    "        if v == target:\n",
    "            return True\n",
    "    return False\n",
    "\n",
    "in_function(nums, 4)"
   ]
  },
  {
   "cell_type": "markdown",
   "metadata": {},
   "source": [
    "Thus, the `in` operator in O(N).  If you want fast checks with the in operator, use sets:"
   ]
  },
  {
   "cell_type": "code",
   "execution_count": 7,
   "metadata": {},
   "outputs": [
    {
     "data": {
      "text/plain": [
       "True"
      ]
     },
     "execution_count": 7,
     "metadata": {},
     "output_type": "execute_result"
    }
   ],
   "source": [
    "nums = set([2,7,3,9,8,4])\n",
    "4 in nums"
   ]
  },
  {
   "cell_type": "markdown",
   "metadata": {},
   "source": [
    "The worst case complexity is still O(N), but it's actually difficult to construct a situation for this worst case.  In the average, or common, case, you should think of the `in` operators for sets as an O(1) operation."
   ]
  },
  {
   "cell_type": "markdown",
   "metadata": {},
   "source": [
    "## max\n",
    "\n",
    "The `max(...)` function is O(N), as it is similar to the following function:"
   ]
  },
  {
   "cell_type": "code",
   "execution_count": 8,
   "metadata": {},
   "outputs": [
    {
     "data": {
      "text/plain": [
       "9"
      ]
     },
     "execution_count": 8,
     "metadata": {},
     "output_type": "execute_result"
    }
   ],
   "source": [
    "def largest(values):\n",
    "    best = values[0]\n",
    "    for v in values:\n",
    "        if v > best:\n",
    "            best = v\n",
    "    return best\n",
    "\n",
    "nums = [2,7,3,9,8,4]\n",
    "largest(nums)"
   ]
  },
  {
   "cell_type": "markdown",
   "metadata": {},
   "source": [
    "Similarly, `min` is O(N)."
   ]
  },
  {
   "cell_type": "markdown",
   "metadata": {},
   "source": [
    "# Optimization Example\n",
    "\n",
    "Consider the following code, that prints off the percentage of each entry, relative to the total:"
   ]
  },
  {
   "cell_type": "code",
   "execution_count": 9,
   "metadata": {},
   "outputs": [
    {
     "name": "stdout",
     "output_type": "stream",
     "text": [
      "2 is 6 percent\n",
      "7 is 21 percent\n",
      "3 is 9 percent\n",
      "9 is 27 percent\n",
      "8 is 24 percent\n",
      "4 is 12 percent\n"
     ]
    }
   ],
   "source": [
    "nums = [2,7,3,9,8,4]\n",
    "\n",
    "for num in nums:\n",
    "    print(num, \"is\", round(100 * num / sum(nums)), \"percent\")"
   ]
  },
  {
   "cell_type": "markdown",
   "metadata": {},
   "source": [
    "The above is $O(N^2)$.  If N is the length of the list, then the code loops N times.  In each loop iteration, `sum(nums)`, an O(N) operation is called.\n",
    "\n",
    "We can optimize it by moving the `sum` call above the loop, calling it once, and saving the result.  The following is O(N) -- yay!"
   ]
  },
  {
   "cell_type": "code",
   "execution_count": 10,
   "metadata": {},
   "outputs": [
    {
     "name": "stdout",
     "output_type": "stream",
     "text": [
      "2 is 6 percent\n",
      "7 is 21 percent\n",
      "3 is 9 percent\n",
      "9 is 27 percent\n",
      "8 is 24 percent\n",
      "4 is 12 percent\n"
     ]
    }
   ],
   "source": [
    "nums = [2,7,3,9,8,4]\n",
    "\n",
    "total = sum(nums)\n",
    "for num in nums:\n",
    "    print(num, \"is\", round(100 * num / total), \"percent\")"
   ]
  }
 ],
 "metadata": {
  "kernelspec": {
   "display_name": "Python 3",
   "language": "python",
   "name": "python3"
  },
  "language_info": {
   "codemirror_mode": {
    "name": "ipython",
    "version": 3
   },
   "file_extension": ".py",
   "mimetype": "text/x-python",
   "name": "python",
   "nbconvert_exporter": "python",
   "pygments_lexer": "ipython3",
   "version": "3.7.2"
  }
 },
 "nbformat": 4,
 "nbformat_minor": 2
}
